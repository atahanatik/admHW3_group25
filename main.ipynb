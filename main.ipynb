{
 "cells": [
  {
   "cell_type": "markdown",
   "id": "cfc99c14",
   "metadata": {},
   "source": [
    "# Homework 3 - Places of the world"
   ]
  },
  {
   "cell_type": "markdown",
   "id": "ab4ac558",
   "metadata": {},
   "source": [
    "Travelling is a pleasant activity which has increased since the end of the COVID-19 pandemic. Nowadays, people look for places to visit which are attractive, affordable, with a rich history and which have recommended activities. Using user-generated content, Atlas Obscura, an American online magazine and travel firm, catalogues unusual and obscure tourist locations. The website's articles span many subjects, including history, science, cuisine, and unique places.\n",
    "\n",
    "You and your team have been hired to provide your Data Science knowledge to create a search engine which will facilitate specific searches towards a topic related to the most popular places to visit. Important: All the functions must be implemented from scratch unless differently specified.\n",
    "\n",
    "Then, let's get started!"
   ]
  },
  {
   "cell_type": "markdown",
   "id": "42d90202",
   "metadata": {
    "tags": []
   },
   "source": [
    "## 1.1. Get the list of places\n",
    "\n",
    "We start with the list of places to include in your corpus of documents. In particular, we focus on the Most popular places. Next, we want you to collect the URL associated with each site in the list from this list. The list is long and split into many pages. Therefore, we ask you to retrieve only the URLs of the places listed in the first 400 pages (each page has 18 places, so that you will end up with 7200 unique place URLs).\n",
    "\n",
    "The output of this step is a .txt file whose single line corresponds to the place's URL."
   ]
  },
  {
   "cell_type": "markdown",
   "id": "648805f8",
   "metadata": {},
   "source": [
    "To extract the URLs of the most popular places from the pages we can use a for loop iterating over the 400 pages scraping them using BeautifulSoup package: it will give us a BeautifulSoup object which represents the object as a nested data structure. Here we can find the URLs within a < a > tags which also has attribute class: content-card content-card-place. Then we can append every links that we found to a .txt file that we call 'links.txt'. All this work can be done defining a function that receives as input the number of the pages we want to analize and giving as output the .txt file. "
   ]
  },
  {
   "cell_type": "code",
   "execution_count": 44,
   "id": "cc9596fe",
   "metadata": {},
   "outputs": [],
   "source": [
    "import requests\n",
    "\n",
    "from bs4 import BeautifulSoup as bs\n",
    "\n",
    "import numpy as np\n",
    "import pandas as pd\n",
    "import nltk.corpus\n",
    "from nltk.corpus import stopwords\n",
    "from cleantext import clean\n",
    "from nltk.stem import PorterStemmer\n",
    "from nltk.tokenize import word_tokenize\n",
    "import nltk\n",
    "import re\n",
    "import math\n",
    "from collections import Counter\n",
    "import json\n",
    "import warnings\n",
    "warnings.filterwarnings(\"ignore\")\n",
    "import heapq"
   ]
  },
  {
   "cell_type": "code",
   "execution_count": 6,
   "id": "7b0fe404",
   "metadata": {},
   "outputs": [],
   "source": [
    "#we define a function which extract the links giving the number of the page\n",
    "#that we want to analize and append them in a .txt file\n",
    "\n",
    "def find_links(n):\n",
    "\n",
    "  with open(\"/Users/giacomo/Desktop/ADM[HM3]/links.txt\", \"a\") as file_object:\n",
    "\n",
    "    for page in range(1, n+1):\n",
    "\n",
    "      req = requests.get('https://www.atlasobscura.com/places?page=' + str(page) + '&sort=likes_count')\n",
    "\n",
    "      soup = bs(req.text, 'html.parser')\n",
    "\n",
    "      for link in soup.find_all('a', {'class': 'content-card content-card-place'}):\n",
    "\n",
    "        file_object.write('https://www.atlasobscura.com' + str(link.get('href')) + '\\n')"
   ]
  },
  {
   "cell_type": "markdown",
   "id": "628278ed",
   "metadata": {},
   "source": [
    "Now we can call the function to create a 'links.txt' file with all the URLs of the most popular places of the first 400 pages:"
   ]
  },
  {
   "cell_type": "code",
   "execution_count": 7,
   "id": "4eb9f9c7",
   "metadata": {},
   "outputs": [],
   "source": [
    "find_links(400)"
   ]
  },
  {
   "cell_type": "markdown",
   "id": "2875ada2",
   "metadata": {},
   "source": [
    "## 1.2. Crawl places\n",
    "\n",
    "Once you get all the URLs in the first 400 pages of the list, you:\n",
    "\n",
    "Download the HTML corresponding to each of the collected URLs.\n",
    "After you collect a single page, immediately save its HTML in a file. In this way, if your program stops for any reason, you will not lose the data collected up to the stopping point.\n",
    "Organize the entire set of downloaded HTML pages into folders. Each folder will contain the HTML of the places on page 1, page 2, ... of the list of locations."
   ]
  },
  {
   "cell_type": "code",
   "execution_count": 1,
   "id": "4be4d10c",
   "metadata": {},
   "outputs": [],
   "source": [
    "import os\n",
    "import requests\n",
    "import urllib\n",
    "from random import randint\n",
    "from time import sleep"
   ]
  },
  {
   "cell_type": "markdown",
   "id": "8ae59cc1",
   "metadata": {},
   "source": [
    "Using .readlines() we collect the links of the document 'links.txt' (which contains the links of the previous point) in an array of links. Then we use 2 for cicle: \n",
    "\n",
    "- the first is used to create the main directories (e.g. page_1,page_2...). Each one will contain 18 .html files corresponding to the 18 places that every page have;\n",
    "\n",
    "- The second is used to create the 18 .html file in the corresponding directory reading the url from the j-th element of the array of links ('lines'). At the end of every 'little cicle' we update the indexes of the start and the end to continue reading the links in block of 18 elements.\n",
    "\n",
    "To avoid that our IP address get banned for the multiple requests in a very short amount of time we add pauses which help we us to be recognize as human that visited the website. Despite that, sometimes the execution stop. In these cases we updated the indexes of the 2 for cycle. "
   ]
  },
  {
   "cell_type": "code",
   "execution_count": 3,
   "id": "76767239",
   "metadata": {},
   "outputs": [],
   "source": [
    "file1 = open('/Users/giacomo/Desktop/ADM[HM3]/links.txt', 'r')\n",
    "\n",
    "lines = file1.readlines()\n",
    "\n",
    "parent_dir = \"/Users/giacomo/Desktop/ADM[HM3]/files/\"\n",
    "\n",
    "start = 0\n",
    "\n",
    "end = 18\n",
    "\n",
    "for i in range(1, 401):\n",
    "    \n",
    "    directory = \"page_\" + str(i)\n",
    "    \n",
    "    path = os.path.join(parent_dir, directory)\n",
    "    \n",
    "    os.mkdir(path)\n",
    "    \n",
    "    for j in range(start, end):\n",
    "\n",
    "        urllib.request.urlretrieve(lines[j], '/Users/giacomo/Desktop/ADM[HM3]/files' + '/' + directory + '/'+ str(j)+'.html')\n",
    "        \n",
    "    temp = end\n",
    "        \n",
    "    start = end\n",
    "        \n",
    "    end = temp +18\n",
    "    \n",
    "    sleep(randint(2,7))"
   ]
  },
  {
   "cell_type": "markdown",
   "id": "ce3eb763",
   "metadata": {},
   "source": [
    "## 1.3 Parse downloaded pages\n",
    "\n",
    "At this point, you should have all the HTML documents about the places of interest, and you can start to extract the places' information. The list of the information we desire for each place and their format is as follows:\n",
    "\n",
    "1. Place Name (to save as placeName): String.\n",
    "2. Place Tags (to save as placeTags): List of Strings.\n",
    "3. Number of people who have been there (to save as numPeopleVisited): Integer.\n",
    "4. Number of people who want to visit the place(to save as numPeopleWant): Integer.\n",
    "5. Description (to save as placeDesc): String. Everything from under the first image up to \"know before you go\" (orange frame on the example image).\n",
    "6. Short Description (to save as placeShortDesc): String. Everything from the title and location up to the image (blue frame on the example image).\n",
    "7. Nearby Places (to save as placeNearby): Extract the names of all nearby places, but only keep unique values: List of Strings.\n",
    "8. Address of the place(to save as placeAddress): String.\n",
    "9. Altitude and Longitude of the place's location(to save as placeAlt and placeLong): Integers\n",
    "10. The username of the post editors (to save as placeEditors): List of Strings.\n",
    "11. Post publishing date (to save as placePubDate): datetime.\n",
    "12. The names of the lists that the place was included in (to save as placeRelatedLists): List of Strings.\n",
    "13. The names of the related places (to save as placeRelatedPlaces): List of Strings.\n",
    "14. The URL of the page of the place (to save as placeURL):String\n",
    "\n",
    "For each place, you create a place_i.tsv file of this structure:\n",
    "\n",
    "placeName \\t placeTags \\t  ... \\t placeURL\n",
    "\n",
    "If an information is missing, you just leave it as an empty string."
   ]
  },
  {
   "cell_type": "markdown",
   "id": "8c3aeab7",
   "metadata": {},
   "source": [
    "We decided to define a function to extract all the information we need taking as input the path of the file and giving as output the data. We used BeautifulSoup, in particular 'find_all' to explores the source code of the file searching for specifing tags to extract the data and 'select' that take as input a CSS selector. "
   ]
  },
  {
   "cell_type": "code",
   "execution_count": 1,
   "id": "59ab8c2c",
   "metadata": {},
   "outputs": [],
   "source": [
    "from bs4 import BeautifulSoup as bs\n",
    "from datetime import datetime\n",
    "import os\n",
    "from tqdm import tqdm"
   ]
  },
  {
   "cell_type": "code",
   "execution_count": 2,
   "id": "28e09015",
   "metadata": {},
   "outputs": [],
   "source": [
    "file1 = open('/Users/giacomo/Desktop/ADM[HM3]/links.txt', 'r') #open the file with the URLs\n",
    "\n",
    "lines = file1.readlines() #list of links\n",
    "\n",
    "file1.close()"
   ]
  },
  {
   "cell_type": "code",
   "execution_count": 3,
   "id": "7307f9b1",
   "metadata": {},
   "outputs": [],
   "source": [
    "def find_info(path):\n",
    "    \n",
    "        f = open(path) #open .html\n",
    "        \n",
    "        soup = bs(f, 'html.parser') #convert the file in a beautifulsoup object\n",
    "        #1 \n",
    "        placeName = str(soup.find_all('h1', {'class': 'DDPage__header-title'})[0].contents[0])\n",
    "        #2    \n",
    "        placeTags = str(soup.find_all('div', {'class': 'DDPage__header-place-location'})[0].find_all(text = True))\n",
    "        #3\n",
    "        numPeopleVisited = int(soup.find_all('div', {'class': 'title-md item-action-count'})[0].contents[0])\n",
    "        #4\n",
    "        numPeopleWant = int(soup.find_all('div', {'class': 'title-md item-action-count'})[1].contents[0])\n",
    "        #5\n",
    "        placeDesc = ''.join(soup.find_all('div', {'id': 'place-body'})[0].find_all(text = True)).replace('\\n', '')\n",
    "        #6\n",
    "        placeShortDesc = str(soup.find_all('h3', {'class': 'DDPage__header-dek'})[0].contents[0]).strip()\n",
    "        #7\n",
    "        placeNearby = [str(x.contents[0]) for x in soup.find_all('div', {'class': 'DDPageSiderailRecirc__item-title'})]\n",
    "        #8\n",
    "        placeAddress = (' '.join(soup.find_all('address', {'class': 'DDPageSiderail__address'})[0].find_all(text = True))).lstrip().rstrip()\n",
    "        #9\n",
    "        coordinates = ' '.join(soup.find_all('div', {'class': 'DDPageSiderail__coordinates js-copy-coordinates'})[0].find_all(text = True)).lstrip().rstrip().split(', ')\n",
    "    \n",
    "        placeAlt = float(coordinates[0])\n",
    "    \n",
    "        placeLong = float(coordinates[1])\n",
    "    \n",
    "        del coordinates\n",
    "        #10\n",
    "        placeEditors = []\n",
    "\n",
    "        for i in soup.select('#ugc-module > div > div:nth-child(2) > div.DDPContributorsList > a'):\n",
    "    \n",
    "            if i.string != None: \n",
    "        \n",
    "                placeEditors.append(str(i.string))\n",
    "    \n",
    "        for i in soup.select('li>a>span'): \n",
    "    \n",
    "            if i.string != None: \n",
    "        \n",
    "                placeEditors.append(str(i.string))\n",
    "            \n",
    "        #11\n",
    "        \n",
    "        placePubDate = ' '\n",
    "        \n",
    "        if len(soup.select('#ugc-module > div > div.DDPContributor__name')) != 0:\n",
    "            \n",
    "            if isinstance(soup.select('#ugc-module > div > div.DDPContributor__name')[0].text, str) == True:\n",
    "\n",
    "                placePubDate = datetime.strptime(soup.select('#ugc-module > div > div.DDPContributor__name')[0].text.replace(',',''), '%B %d %Y').date()\n",
    "\n",
    "            else: \n",
    "\n",
    "                placePubDate = soup.select('#ugc-module > div > div.DDPContributor__name')[0].text.strftime('%Y-%m-%d')\n",
    "            \n",
    "            \n",
    "            \n",
    "        \n",
    "        #12 #13\n",
    "    \n",
    "        placeRelatedLists = []\n",
    "    \n",
    "        placeRelatedPlaces = []\n",
    "        \n",
    "        #find the part of the code which contain the part of our interest through parent and analyze them\n",
    "    \n",
    "        for x in soup.find_all('div', {'class': \"CardRecircSection__title\"}):\n",
    "        \n",
    "            if 'Appears' in x.get_text():\n",
    "            \n",
    "                for y in (x.parent.parent.parent).find_all('h3', {'class': \"Card__heading --content-card-v2-title js-title-content\"}): \n",
    "                \n",
    "                    placeRelatedLists.append(y.get_text().strip())\n",
    "                \n",
    "            elif 'Related Places' in x.get_text(): \n",
    "            \n",
    "                for y in (x.parent.parent.parent).find_all('h3', {'class': \"Card__heading --content-card-v2-title js-title-content\"}): \n",
    "                \n",
    "                    placeRelatedPlaces.append(y.get_text().strip())\n",
    "                    \n",
    "        #14 \n",
    "        \n",
    "        #a) take the number of the file, aka the index in the file .txt from the path\n",
    "        \n",
    "        index = int((path.rsplit('/', 1)[-1]).replace('.html', ''))\n",
    "            \n",
    "        #b) extract the link from the .txt file of the 1.1 point of the homework\n",
    "        \n",
    "        placeURL = lines[index].strip()\n",
    "         \n",
    "        return([placeName, placeTags, numPeopleVisited, numPeopleWant, placeDesc, placeShortDesc, placeNearby, placeAddress, placeAlt, placeLong, placeEditors, placePubDate, placeRelatedLists, placeRelatedPlaces, placeURL])"
   ]
  },
  {
   "cell_type": "markdown",
   "id": "837669db",
   "metadata": {},
   "source": [
    "An example on how it works: "
   ]
  },
  {
   "cell_type": "code",
   "execution_count": 4,
   "id": "44ee3c95",
   "metadata": {},
   "outputs": [
    {
     "name": "stdout",
     "output_type": "stream",
     "text": [
      "2010-05-08\n"
     ]
    }
   ],
   "source": [
    "url = '/Users/giacomo/Desktop/ADM[HM3]/files/page_1/0.html'\n",
    "\n",
    "print((find_info(url)[11]))"
   ]
  },
  {
   "cell_type": "markdown",
   "id": "5321cb78",
   "metadata": {},
   "source": [
    "Now we can explore all the .html file using 2 for cicle in a similar way of the previous point of the work. We extract the data using the function 'find_info' and we save them in a .tsv file with each value of attributes of each place separated by '\\t' as indicated in the assignement: "
   ]
  },
  {
   "cell_type": "code",
   "execution_count": 6,
   "id": "25370aff",
   "metadata": {},
   "outputs": [],
   "source": [
    "import pandas as pd\n",
    "import csv"
   ]
  },
  {
   "cell_type": "markdown",
   "id": "72dfc931",
   "metadata": {},
   "source": [
    "We decide to create a pandas dataframe. Then we add places info as rows and we save it in a .tsv file"
   ]
  },
  {
   "cell_type": "code",
   "execution_count": 7,
   "id": "1803a9ae",
   "metadata": {},
   "outputs": [],
   "source": [
    "df = pd.DataFrame(columns=['placeName', 'placeTags', 'numPeopleVisited', 'numPeopleWant', 'placeDesc', 'placeShortDesc', 'placeNearby', 'placeAddress', 'placeAlt', 'placeLong', 'placeEditors', 'placePubDate', 'placeRelatedLists', 'placeRelatedPlaces', 'placeURL'])\n"
   ]
  },
  {
   "cell_type": "code",
   "execution_count": 8,
   "id": "d0196732",
   "metadata": {},
   "outputs": [],
   "source": [
    "import warnings\n",
    "warnings.filterwarnings('ignore')  #to remove the warning of the append method "
   ]
  },
  {
   "cell_type": "code",
   "execution_count": 9,
   "id": "5daaf88f",
   "metadata": {},
   "outputs": [
    {
     "name": "stderr",
     "output_type": "stream",
     "text": [
      "100%|█████████████████████████████████████████| 400/400 [37:42<00:00,  5.66s/it]\n"
     ]
    }
   ],
   "source": [
    "parent_dir = \"/Users/giacomo/Desktop/ADM[HM3]/files/\"\n",
    "\n",
    "start = 0\n",
    "\n",
    "end = 18\n",
    "\n",
    "for i in tqdm(range(1, 401)):\n",
    "    \n",
    "    directory = \"page_\" + str(i)\n",
    "    \n",
    "    pat = os.path.join(parent_dir, directory)\n",
    "    \n",
    "    for j in range(start, end):\n",
    "        \n",
    "        data = find_info('/Users/giacomo/Desktop/ADM[HM3]/files' + '/' + directory + '/'+ str(j)+'.html')\n",
    "        \n",
    "        df = df.append({'placeName': data[0], 'placeTags': data[1], 'numPeopleVisited': data[2], 'numPeopleWant': data[3], 'placeDesc': data[4], 'placeShortDesc': data[5], 'placeNearby': data[6], 'placeAddress': data[7], 'placeAlt': data[8], 'placeLong': data[9], 'placeEditors': data[10], 'placePubDate': data[11], 'placeRelatedLists': data[12], 'placeRelatedPlaces': data[13], 'placeURL': data[14]}, ignore_index=True)\n",
    "        \n",
    "    temp = end\n",
    "        \n",
    "    start = end\n",
    "        \n",
    "    end = temp + 18"
   ]
  },
  {
   "cell_type": "markdown",
   "id": "c9481fef",
   "metadata": {},
   "source": [
    "Then we export the data frame in a .tsv file: "
   ]
  },
  {
   "cell_type": "code",
   "execution_count": 10,
   "id": "a1874dfb",
   "metadata": {},
   "outputs": [],
   "source": [
    "df.to_csv(\"/Users/giacomo/Desktop/ADM[HM3]/new_places2.tsv\", sep=\"\\t\", index = False)\n"
   ]
  },
  {
   "cell_type": "markdown",
   "id": "16da16a5",
   "metadata": {},
   "source": [
    "This is finally the complete dataset that we are searching for. "
   ]
  },
  {
   "cell_type": "code",
   "execution_count": 11,
   "id": "df482823",
   "metadata": {},
   "outputs": [
    {
     "data": {
      "text/html": [
       "<div>\n",
       "<style scoped>\n",
       "    .dataframe tbody tr th:only-of-type {\n",
       "        vertical-align: middle;\n",
       "    }\n",
       "\n",
       "    .dataframe tbody tr th {\n",
       "        vertical-align: top;\n",
       "    }\n",
       "\n",
       "    .dataframe thead th {\n",
       "        text-align: right;\n",
       "    }\n",
       "</style>\n",
       "<table border=\"1\" class=\"dataframe\">\n",
       "  <thead>\n",
       "    <tr style=\"text-align: right;\">\n",
       "      <th></th>\n",
       "      <th>placeName</th>\n",
       "      <th>placeTags</th>\n",
       "      <th>numPeopleVisited</th>\n",
       "      <th>numPeopleWant</th>\n",
       "      <th>placeDesc</th>\n",
       "      <th>placeShortDesc</th>\n",
       "      <th>placeNearby</th>\n",
       "      <th>placeAddress</th>\n",
       "      <th>placeAlt</th>\n",
       "      <th>placeLong</th>\n",
       "      <th>placeEditors</th>\n",
       "      <th>placePubDate</th>\n",
       "      <th>placeRelatedLists</th>\n",
       "      <th>placeRelatedPlaces</th>\n",
       "      <th>placeURL</th>\n",
       "    </tr>\n",
       "  </thead>\n",
       "  <tbody>\n",
       "    <tr>\n",
       "      <th>0</th>\n",
       "      <td>City Hall Station</td>\n",
       "      <td>['Manhattan, New York']</td>\n",
       "      <td>1828</td>\n",
       "      <td>8589</td>\n",
       "      <td>The first New York City subway was built and o...</td>\n",
       "      <td>A beautiful and abandoned New York subway stat...</td>\n",
       "      <td>['African Burial Ground National Monument', 'T...</td>\n",
       "      <td>31 Centre St New York, New York, 10007 United ...</td>\n",
       "      <td>40.7134</td>\n",
       "      <td>-74.0046</td>\n",
       "      <td>['Rebekah Otto', 'charding407', 'fosterc827', ...</td>\n",
       "      <td>2010-05-08</td>\n",
       "      <td>['30 Unexpected Places to Have a Joyful Advent...</td>\n",
       "      <td>['Crystal Palace Subway', 'Moscow Metro Statio...</td>\n",
       "      <td>https://www.atlasobscura.com/places/city-hall-...</td>\n",
       "    </tr>\n",
       "    <tr>\n",
       "      <th>1</th>\n",
       "      <td>Highgate Cemetery</td>\n",
       "      <td>['London, England']</td>\n",
       "      <td>2620</td>\n",
       "      <td>8192</td>\n",
       "      <td>Opened in 1839, Highgate is one of London’s mo...</td>\n",
       "      <td>London's creepiest cemetery was once the site ...</td>\n",
       "      <td>[\"World's Largest Potted Plant\", 'Dick Whittin...</td>\n",
       "      <td>Swain's Lane, Highgate London, England, N6 Uni...</td>\n",
       "      <td>51.5675</td>\n",
       "      <td>-0.1483</td>\n",
       "      <td>['TeaAndCoffeeLover', 'Collector of Experience...</td>\n",
       "      <td>2014-08-09</td>\n",
       "      <td>[\"The World's Top 100 Wonders in 2018\", \"Londo...</td>\n",
       "      <td>['Jewett City Vampires', 'Tomb of the Mather F...</td>\n",
       "      <td>https://www.atlasobscura.com/places/highgate-c...</td>\n",
       "    </tr>\n",
       "    <tr>\n",
       "      <th>2</th>\n",
       "      <td>Leadenhall Market</td>\n",
       "      <td>['London, England']</td>\n",
       "      <td>3137</td>\n",
       "      <td>7575</td>\n",
       "      <td>The ornate 19th-century painted roof and cobbl...</td>\n",
       "      <td>This ornate Victorian marketplace was the sett...</td>\n",
       "      <td>['The Cornhill Devils ', \"London's Original an...</td>\n",
       "      <td>London, England, EC3V United Kingdom</td>\n",
       "      <td>51.5126</td>\n",
       "      <td>-0.0834</td>\n",
       "      <td>['Meg', 'Julius Spada', 'Katecrimson', 'thesec...</td>\n",
       "      <td>2016-08-01</td>\n",
       "      <td>['The Ultimate Guide to Stunning, Surprising, ...</td>\n",
       "      <td>['Rivendell', 'Bagdad Cafe', 'Gare de la Ciota...</td>\n",
       "      <td>https://www.atlasobscura.com/places/leadenhall...</td>\n",
       "    </tr>\n",
       "    <tr>\n",
       "      <th>3</th>\n",
       "      <td>The Wave Organ</td>\n",
       "      <td>['San Francisco, California']</td>\n",
       "      <td>2429</td>\n",
       "      <td>7415</td>\n",
       "      <td>Located on a jetty in the San Francisco Bay, t...</td>\n",
       "      <td>A huge musical instrument played by the ocean.</td>\n",
       "      <td>['Long Now Orrery', 'The Stern of the Briganti...</td>\n",
       "      <td>83 Marina Green Dr San Francisco, California, ...</td>\n",
       "      <td>37.8085</td>\n",
       "      <td>-122.4401</td>\n",
       "      <td>['mbison', 'routt1111', 'wefiddleboy14', 'Saal...</td>\n",
       "      <td>2008-11-21</td>\n",
       "      <td>[\"Leonardo Nam's 16 Quirky Roadside Attraction...</td>\n",
       "      <td>['Sea Organ', 'Silent Green Kulturquartier', \"...</td>\n",
       "      <td>https://www.atlasobscura.com/places/wave-organ</td>\n",
       "    </tr>\n",
       "    <tr>\n",
       "      <th>4</th>\n",
       "      <td>Catacombes de Paris</td>\n",
       "      <td>['Paris, France']</td>\n",
       "      <td>4449</td>\n",
       "      <td>7047</td>\n",
       "      <td>In 2004, Parisian police were assigned to do a...</td>\n",
       "      <td>The vast, legendary catacombs hold secrets muc...</td>\n",
       "      <td>['Sculptures de Décure', 'Arago Medallions', \"...</td>\n",
       "      <td>1 Place Denfert-Rochereau Paris, 75014 France</td>\n",
       "      <td>48.8343</td>\n",
       "      <td>2.3322</td>\n",
       "      <td>['CPilgrim', 'marypippen', 'ramonrodz2212', 'm...</td>\n",
       "      <td>2009-02-13</td>\n",
       "      <td>['19 Catacombs Sure to Tingle Your Spine', \"Th...</td>\n",
       "      <td>['Ossario di San Martino', 'Leuk Charnel House...</td>\n",
       "      <td>https://www.atlasobscura.com/places/catacombes...</td>\n",
       "    </tr>\n",
       "  </tbody>\n",
       "</table>\n",
       "</div>"
      ],
      "text/plain": [
       "             placeName                      placeTags  numPeopleVisited  \\\n",
       "0    City Hall Station        ['Manhattan, New York']              1828   \n",
       "1    Highgate Cemetery            ['London, England']              2620   \n",
       "2    Leadenhall Market            ['London, England']              3137   \n",
       "3       The Wave Organ  ['San Francisco, California']              2429   \n",
       "4  Catacombes de Paris              ['Paris, France']              4449   \n",
       "\n",
       "   numPeopleWant                                          placeDesc  \\\n",
       "0           8589  The first New York City subway was built and o...   \n",
       "1           8192  Opened in 1839, Highgate is one of London’s mo...   \n",
       "2           7575  The ornate 19th-century painted roof and cobbl...   \n",
       "3           7415  Located on a jetty in the San Francisco Bay, t...   \n",
       "4           7047  In 2004, Parisian police were assigned to do a...   \n",
       "\n",
       "                                      placeShortDesc  \\\n",
       "0  A beautiful and abandoned New York subway stat...   \n",
       "1  London's creepiest cemetery was once the site ...   \n",
       "2  This ornate Victorian marketplace was the sett...   \n",
       "3     A huge musical instrument played by the ocean.   \n",
       "4  The vast, legendary catacombs hold secrets muc...   \n",
       "\n",
       "                                         placeNearby  \\\n",
       "0  ['African Burial Ground National Monument', 'T...   \n",
       "1  [\"World's Largest Potted Plant\", 'Dick Whittin...   \n",
       "2  ['The Cornhill Devils ', \"London's Original an...   \n",
       "3  ['Long Now Orrery', 'The Stern of the Briganti...   \n",
       "4  ['Sculptures de Décure', 'Arago Medallions', \"...   \n",
       "\n",
       "                                        placeAddress  placeAlt  placeLong  \\\n",
       "0  31 Centre St New York, New York, 10007 United ...   40.7134   -74.0046   \n",
       "1  Swain's Lane, Highgate London, England, N6 Uni...   51.5675    -0.1483   \n",
       "2               London, England, EC3V United Kingdom   51.5126    -0.0834   \n",
       "3  83 Marina Green Dr San Francisco, California, ...   37.8085  -122.4401   \n",
       "4      1 Place Denfert-Rochereau Paris, 75014 France   48.8343     2.3322   \n",
       "\n",
       "                                        placeEditors placePubDate  \\\n",
       "0  ['Rebekah Otto', 'charding407', 'fosterc827', ...   2010-05-08   \n",
       "1  ['TeaAndCoffeeLover', 'Collector of Experience...   2014-08-09   \n",
       "2  ['Meg', 'Julius Spada', 'Katecrimson', 'thesec...   2016-08-01   \n",
       "3  ['mbison', 'routt1111', 'wefiddleboy14', 'Saal...   2008-11-21   \n",
       "4  ['CPilgrim', 'marypippen', 'ramonrodz2212', 'm...   2009-02-13   \n",
       "\n",
       "                                   placeRelatedLists  \\\n",
       "0  ['30 Unexpected Places to Have a Joyful Advent...   \n",
       "1  [\"The World's Top 100 Wonders in 2018\", \"Londo...   \n",
       "2  ['The Ultimate Guide to Stunning, Surprising, ...   \n",
       "3  [\"Leonardo Nam's 16 Quirky Roadside Attraction...   \n",
       "4  ['19 Catacombs Sure to Tingle Your Spine', \"Th...   \n",
       "\n",
       "                                  placeRelatedPlaces  \\\n",
       "0  ['Crystal Palace Subway', 'Moscow Metro Statio...   \n",
       "1  ['Jewett City Vampires', 'Tomb of the Mather F...   \n",
       "2  ['Rivendell', 'Bagdad Cafe', 'Gare de la Ciota...   \n",
       "3  ['Sea Organ', 'Silent Green Kulturquartier', \"...   \n",
       "4  ['Ossario di San Martino', 'Leuk Charnel House...   \n",
       "\n",
       "                                            placeURL  \n",
       "0  https://www.atlasobscura.com/places/city-hall-...  \n",
       "1  https://www.atlasobscura.com/places/highgate-c...  \n",
       "2  https://www.atlasobscura.com/places/leadenhall...  \n",
       "3     https://www.atlasobscura.com/places/wave-organ  \n",
       "4  https://www.atlasobscura.com/places/catacombes...  "
      ]
     },
     "execution_count": 11,
     "metadata": {},
     "output_type": "execute_result"
    }
   ],
   "source": [
    "places_df = pd.read_csv(\"/Users/giacomo/Desktop/ADM[HM3]/new_places2.tsv\", sep='\\t')\n",
    "\n",
    "\n",
    "places_df.head(5)"
   ]
  },
  {
   "cell_type": "markdown",
   "id": "426d7c13-1746-4d9c-a0a7-401d4df495e1",
   "metadata": {
    "tags": []
   },
   "source": [
    "# 2. Search Engine"
   ]
  },
  {
   "cell_type": "code",
   "execution_count": 95,
   "id": "6b567124-4cb1-434a-971f-db089dab1c94",
   "metadata": {},
   "outputs": [],
   "source": [
    "stop = stopwords.words('english') #stopwords in english \n",
    "ps = PorterStemmer() #takes the stem of words\n",
    "def clean_text(text): \n",
    "    text.lower  #case normalization\n",
    "    text = re.sub(r\"(@\\[A-Za-z0-9]+)|([^0-9A-Za-z \\t])|(\\w+:\\/\\/\\S+)|^rt|http.+?\", \"\", text)  #removing unicode characters\n",
    "    text = \" \".join([word for word in text.split() if word not in stop and word.isalpha() == True]) #removing stopwords and 'numerical term\n",
    "    token = word_tokenize(text) #tokenization\n",
    "    text = [ps.stem(t) for t in token] #stemming and removing non english words\n",
    "    return(\" \".join(text))"
   ]
  },
  {
   "cell_type": "markdown",
   "id": "58beeeda-4398-4313-843b-6310c7c5bfce",
   "metadata": {},
   "source": [
    "## 2.1. Conjunctive query"
   ]
  },
  {
   "cell_type": "markdown",
   "id": "fe2943e1-bc53-46d4-a9f8-7ba797f26bbc",
   "metadata": {},
   "source": [
    "### 2.1.1 Create your index!\n"
   ]
  },
  {
   "cell_type": "code",
   "execution_count": 96,
   "id": "608a33f8-0acf-4dc2-90e8-b459dcc5d643",
   "metadata": {},
   "outputs": [],
   "source": [
    "df_for_last=pd.read_csv('places.tsv', sep='\\t') # reading the places with pandas\n",
    "df=df_for_last.copy()\n",
    "\n",
    "for x,i in enumerate(df.loc[:,\"placeDesc\"]): #cleaning all text in  column\n",
    "    df.loc[:,\"placeDesc\"][x]=clean_text(i)\n",
    "    \n",
    "word_list=[] \n",
    "string=\"\"\n",
    "for i in df.loc[:,\"placeDesc\"]: #string containing all words in the description descriptions to \n",
    "    string=string+i+\" \"\n",
    "word_list.append(string) \n",
    "word_list=word_list[0].split()# getting wordlist out of the list and splitting all words and putting into a set to remove duplicates\n",
    "word_list_set=set(word_list)"
   ]
  },
  {
   "cell_type": "code",
   "execution_count": 147,
   "id": "38bd83d7-3008-432e-b79d-68c7e5afb69b",
   "metadata": {},
   "outputs": [
    {
     "data": {
      "text/plain": [
       "{'pervers': 'termId_0',\n",
       " 'productwith': 'termId_1',\n",
       " 'halfsunk': 'termId_2',\n",
       " 'sanctuaryd': 'termId_3',\n",
       " 'langham': 'termId_4',\n",
       " 'featuresto': 'termId_5',\n",
       " 'barest': 'termId_6',\n",
       " 'zelinski': 'termId_7',\n",
       " 'ahaunt': 'termId_8',\n",
       " 'plantat': 'termId_9'}"
      ]
     },
     "execution_count": 147,
     "metadata": {},
     "output_type": "execute_result"
    }
   ],
   "source": [
    "dictionary={i[1]:f\"termId_{i[0]}\" for i in enumerate(word_list_set)}#creates a dictionary from the set of words with term ids\n",
    "dict(list(dictionary.items())[0:10])"
   ]
  },
  {
   "cell_type": "markdown",
   "id": "2180d293-7ee3-413e-a711-45e19ad29898",
   "metadata": {},
   "source": [
    "### Creating an inverted index"
   ]
  },
  {
   "cell_type": "code",
   "execution_count": 148,
   "id": "ed30f137-66a2-4b90-b20b-0ae82b88c3b5",
   "metadata": {},
   "outputs": [
    {
     "data": {
      "text/plain": [
       "{'termId_0': ['document_727',\n",
       "  'document_1609',\n",
       "  'document_3953',\n",
       "  'document_4534',\n",
       "  'document_5048'],\n",
       " 'termId_1': ['document_6162'],\n",
       " 'termId_2': ['document_2773'],\n",
       " 'termId_3': ['document_235'],\n",
       " 'termId_4': ['document_3603']}"
      ]
     },
     "execution_count": 148,
     "metadata": {},
     "output_type": "execute_result"
    }
   ],
   "source": [
    "inverted_index={i:[] for i in dictionary.values()}\n",
    "for x,y in enumerate(df.loc[:,\"placeDesc\"]):\n",
    "    for i in y.split():\n",
    "        if f\"document_{x}\" not in inverted_index[dictionary[i]]:\n",
    "            inverted_index[dictionary[i]].append(f\"document_{x}\")\n",
    "dict(list(inverted_index.items())[0:5])"
   ]
  },
  {
   "cell_type": "markdown",
   "id": "9929ddcc-5a5a-40f3-a8ad-132f68849305",
   "metadata": {},
   "source": [
    "#### Saving inverted index into a json file"
   ]
  },
  {
   "cell_type": "code",
   "execution_count": 126,
   "id": "dd9b36e1-f923-4560-8356-f6bdf076f306",
   "metadata": {},
   "outputs": [],
   "source": [
    "with open(\"data.json\", 'w') as fp: \n",
    "    json.dump(dictionary, fp)"
   ]
  },
  {
   "cell_type": "markdown",
   "id": "873dfec8-92d0-4884-8c44-a625fea7929c",
   "metadata": {},
   "source": [
    "Change and rerun this cell to **customize** the query and the k parameter."
   ]
  },
  {
   "cell_type": "code",
   "execution_count": 127,
   "id": "0c7420fc-6ca2-486d-b676-d99a400a4a97",
   "metadata": {},
   "outputs": [],
   "source": [
    "query_input='City Hall Station'\n",
    "k = 20"
   ]
  },
  {
   "cell_type": "markdown",
   "id": "d5dba312-a85b-4fd6-b97b-47f0e022a8d6",
   "metadata": {},
   "source": [
    "Documents which include all words in the query input"
   ]
  },
  {
   "cell_type": "code",
   "execution_count": 128,
   "id": "57aa7a5a-10dd-45d3-b77a-1eebfe76daf5",
   "metadata": {},
   "outputs": [
    {
     "data": {
      "text/plain": [
       "['document_2744',\n",
       " 'document_5943',\n",
       " 'document_4568',\n",
       " 'document_3582',\n",
       " 'document_4447',\n",
       " 'document_0',\n",
       " 'document_5981',\n",
       " 'document_4963',\n",
       " 'document_4444',\n",
       " 'document_6263']"
      ]
     },
     "execution_count": 128,
     "metadata": {},
     "output_type": "execute_result"
    }
   ],
   "source": [
    "return_list=[]\n",
    "for i in clean_text(query_input).split():\n",
    "    term=dictionary[i]\n",
    "    return_list.append(set(inverted_index[term]))\n",
    "inter=[i for i in set.intersection(*return_list)]\n",
    "inter[:10]"
   ]
  },
  {
   "cell_type": "markdown",
   "id": "aaf0bf71-726c-4203-bf5b-c340acc19783",
   "metadata": {},
   "source": [
    "### Results of documents with query "
   ]
  },
  {
   "cell_type": "code",
   "execution_count": 129,
   "id": "8eb7b02b-8cbd-4d7d-98cf-b754cc6c4376",
   "metadata": {},
   "outputs": [
    {
     "data": {
      "text/html": [
       "<div>\n",
       "<style scoped>\n",
       "    .dataframe tbody tr th:only-of-type {\n",
       "        vertical-align: middle;\n",
       "    }\n",
       "\n",
       "    .dataframe tbody tr th {\n",
       "        vertical-align: top;\n",
       "    }\n",
       "\n",
       "    .dataframe thead th {\n",
       "        text-align: right;\n",
       "    }\n",
       "</style>\n",
       "<table border=\"1\" class=\"dataframe\">\n",
       "  <thead>\n",
       "    <tr style=\"text-align: right;\">\n",
       "      <th></th>\n",
       "      <th>placeName</th>\n",
       "      <th>placeDesc</th>\n",
       "      <th>placeURL</th>\n",
       "    </tr>\n",
       "  </thead>\n",
       "  <tbody>\n",
       "    <tr>\n",
       "      <th>2744</th>\n",
       "      <td>Catacombs of Old St. Patrick's Cathedral</td>\n",
       "      <td>The catacombs under the Old St. Patrick’s Cath...</td>\n",
       "      <td>https://www.atlasobscura.com/places/catacombs-...</td>\n",
       "    </tr>\n",
       "    <tr>\n",
       "      <th>5943</th>\n",
       "      <td>Site of the Beach Pneumatic Subway</td>\n",
       "      <td>Alfred Beach built this pneumatic tunnel to sh...</td>\n",
       "      <td>https://www.atlasobscura.com/places/beach-pneu...</td>\n",
       "    </tr>\n",
       "    <tr>\n",
       "      <th>4568</th>\n",
       "      <td>Moscow Metro Stations</td>\n",
       "      <td>Subway stations are often sordid spots, the da...</td>\n",
       "      <td>https://www.atlasobscura.com/places/moscow-met...</td>\n",
       "    </tr>\n",
       "    <tr>\n",
       "      <th>3582</th>\n",
       "      <td>City Hall Urinal</td>\n",
       "      <td>There are plenty of public places to pee in Am...</td>\n",
       "      <td>https://www.atlasobscura.com/places/city-hall-...</td>\n",
       "    </tr>\n",
       "    <tr>\n",
       "      <th>4447</th>\n",
       "      <td>Mµseum - The Tiny Museum</td>\n",
       "      <td>The Mµseum (pronounced mew-zee-um) is too smal...</td>\n",
       "      <td>https://www.atlasobscura.com/places/museum-the...</td>\n",
       "    </tr>\n",
       "    <tr>\n",
       "      <th>0</th>\n",
       "      <td>City Hall Station</td>\n",
       "      <td>The first New York City subway was built and o...</td>\n",
       "      <td>https://www.atlasobscura.com/places/city-hall-...</td>\n",
       "    </tr>\n",
       "    <tr>\n",
       "      <th>5981</th>\n",
       "      <td>Kelly Butte Civil Defense Center</td>\n",
       "      <td>Kelly Butte is a long-extinct volcanic cinder ...</td>\n",
       "      <td>https://www.atlasobscura.com/places/kelly-butt...</td>\n",
       "    </tr>\n",
       "    <tr>\n",
       "      <th>4963</th>\n",
       "      <td>The Oldest Fence in New York</td>\n",
       "      <td>Most visitors to Bowling Green today come to s...</td>\n",
       "      <td>https://www.atlasobscura.com/places/the-oldest...</td>\n",
       "    </tr>\n",
       "    <tr>\n",
       "      <th>4444</th>\n",
       "      <td>Opa-Locka City Hall</td>\n",
       "      <td>In a city where the town hall is a sheik’s pal...</td>\n",
       "      <td>https://www.atlasobscura.com/places/opa-locka-...</td>\n",
       "    </tr>\n",
       "    <tr>\n",
       "      <th>6263</th>\n",
       "      <td>Toronto PATH</td>\n",
       "      <td>Not so hidden beneath the busy streets of Toro...</td>\n",
       "      <td>https://www.atlasobscura.com/places/toronto-path</td>\n",
       "    </tr>\n",
       "    <tr>\n",
       "      <th>1090</th>\n",
       "      <td>Euston's Lost Tunnels</td>\n",
       "      <td>A portal into the London Underground’s past hi...</td>\n",
       "      <td>https://www.atlasobscura.com/places/eustons-lo...</td>\n",
       "    </tr>\n",
       "    <tr>\n",
       "      <th>3465</th>\n",
       "      <td>The Forgotten Entrance to Clinton Hall</td>\n",
       "      <td>This blocked up doorway on a subway station ho...</td>\n",
       "      <td>https://www.atlasobscura.com/places/the-forgot...</td>\n",
       "    </tr>\n",
       "    <tr>\n",
       "      <th>1004</th>\n",
       "      <td>Short Story Vending Machine</td>\n",
       "      <td>Staring blankly into space while riding on a t...</td>\n",
       "      <td>https://www.atlasobscura.com/places/short-stor...</td>\n",
       "    </tr>\n",
       "    <tr>\n",
       "      <th>2867</th>\n",
       "      <td>Rungis International Market</td>\n",
       "      <td>Five miles south of Paris, in a suburb called ...</td>\n",
       "      <td>https://www.atlasobscura.com/places/rungis-int...</td>\n",
       "    </tr>\n",
       "  </tbody>\n",
       "</table>\n",
       "</div>"
      ],
      "text/plain": [
       "                                     placeName  \\\n",
       "2744  Catacombs of Old St. Patrick's Cathedral   \n",
       "5943        Site of the Beach Pneumatic Subway   \n",
       "4568                     Moscow Metro Stations   \n",
       "3582                          City Hall Urinal   \n",
       "4447                  Mµseum - The Tiny Museum   \n",
       "0                            City Hall Station   \n",
       "5981          Kelly Butte Civil Defense Center   \n",
       "4963              The Oldest Fence in New York   \n",
       "4444                       Opa-Locka City Hall   \n",
       "6263                              Toronto PATH   \n",
       "1090                     Euston's Lost Tunnels   \n",
       "3465    The Forgotten Entrance to Clinton Hall   \n",
       "1004               Short Story Vending Machine   \n",
       "2867               Rungis International Market   \n",
       "\n",
       "                                              placeDesc  \\\n",
       "2744  The catacombs under the Old St. Patrick’s Cath...   \n",
       "5943  Alfred Beach built this pneumatic tunnel to sh...   \n",
       "4568  Subway stations are often sordid spots, the da...   \n",
       "3582  There are plenty of public places to pee in Am...   \n",
       "4447  The Mµseum (pronounced mew-zee-um) is too smal...   \n",
       "0     The first New York City subway was built and o...   \n",
       "5981  Kelly Butte is a long-extinct volcanic cinder ...   \n",
       "4963  Most visitors to Bowling Green today come to s...   \n",
       "4444  In a city where the town hall is a sheik’s pal...   \n",
       "6263  Not so hidden beneath the busy streets of Toro...   \n",
       "1090  A portal into the London Underground’s past hi...   \n",
       "3465  This blocked up doorway on a subway station ho...   \n",
       "1004  Staring blankly into space while riding on a t...   \n",
       "2867  Five miles south of Paris, in a suburb called ...   \n",
       "\n",
       "                                               placeURL  \n",
       "2744  https://www.atlasobscura.com/places/catacombs-...  \n",
       "5943  https://www.atlasobscura.com/places/beach-pneu...  \n",
       "4568  https://www.atlasobscura.com/places/moscow-met...  \n",
       "3582  https://www.atlasobscura.com/places/city-hall-...  \n",
       "4447  https://www.atlasobscura.com/places/museum-the...  \n",
       "0     https://www.atlasobscura.com/places/city-hall-...  \n",
       "5981  https://www.atlasobscura.com/places/kelly-butt...  \n",
       "4963  https://www.atlasobscura.com/places/the-oldest...  \n",
       "4444  https://www.atlasobscura.com/places/opa-locka-...  \n",
       "6263   https://www.atlasobscura.com/places/toronto-path  \n",
       "1090  https://www.atlasobscura.com/places/eustons-lo...  \n",
       "3465  https://www.atlasobscura.com/places/the-forgot...  \n",
       "1004  https://www.atlasobscura.com/places/short-stor...  \n",
       "2867  https://www.atlasobscura.com/places/rungis-int...  "
      ]
     },
     "execution_count": 129,
     "metadata": {},
     "output_type": "execute_result"
    }
   ],
   "source": [
    "df_for_last.loc[[int(i.split(\"_\")[1]) for i in inter],[\"placeName\",\"placeDesc\",\"placeURL\"]]"
   ]
  },
  {
   "cell_type": "markdown",
   "id": "b5ef6106-cca7-42bc-9d15-8a3b1b549b39",
   "metadata": {},
   "source": [
    "## 2.2) Conjunctive query & Ranking score"
   ]
  },
  {
   "cell_type": "markdown",
   "id": "d37a42cb-3fc6-41fc-b865-556d864c67b9",
   "metadata": {},
   "source": [
    "## 2.2.1) Inverted index\n"
   ]
  },
  {
   "cell_type": "code",
   "execution_count": 130,
   "id": "316e91f4-68e6-48f9-80b2-a312d4e94b2d",
   "metadata": {},
   "outputs": [
    {
     "data": {
      "text/plain": [
       "['the',\n",
       " 'first',\n",
       " 'new',\n",
       " 'york',\n",
       " 'citi',\n",
       " 'subway',\n",
       " 'built',\n",
       " 'oper',\n",
       " 'interborough',\n",
       " 'rapid']"
      ]
     },
     "execution_count": 130,
     "metadata": {},
     "output_type": "execute_result"
    }
   ],
   "source": [
    "word_list[:10]"
   ]
  },
  {
   "cell_type": "markdown",
   "id": "282d02d9-1d83-467f-92eb-5400130621ea",
   "metadata": {},
   "source": [
    "#### TF's of documents"
   ]
  },
  {
   "cell_type": "code",
   "execution_count": 158,
   "id": "69f22bbf-7c41-43e1-bd9c-3d32e8d48452",
   "metadata": {},
   "outputs": [
    {
     "data": {
      "text/html": [
       "<div>\n",
       "<style scoped>\n",
       "    .dataframe tbody tr th:only-of-type {\n",
       "        vertical-align: middle;\n",
       "    }\n",
       "\n",
       "    .dataframe tbody tr th {\n",
       "        vertical-align: top;\n",
       "    }\n",
       "\n",
       "    .dataframe thead th {\n",
       "        text-align: right;\n",
       "    }\n",
       "</style>\n",
       "<table border=\"1\" class=\"dataframe\">\n",
       "  <thead>\n",
       "    <tr style=\"text-align: right;\">\n",
       "      <th></th>\n",
       "      <th>the</th>\n",
       "      <th>first</th>\n",
       "      <th>new</th>\n",
       "      <th>york</th>\n",
       "      <th>citi</th>\n",
       "      <th>subway</th>\n",
       "      <th>built</th>\n",
       "      <th>oper</th>\n",
       "      <th>interborough</th>\n",
       "      <th>rapid</th>\n",
       "      <th>...</th>\n",
       "      <th>literaturesh</th>\n",
       "      <th>scarlett</th>\n",
       "      <th>literatureamong</th>\n",
       "      <th>eroticaupd</th>\n",
       "      <th>hanyakbang</th>\n",
       "      <th>euljiro</th>\n",
       "      <th>establishmenthanyakbang</th>\n",
       "      <th>singleorigin</th>\n",
       "      <th>handdrip</th>\n",
       "      <th>cupit</th>\n",
       "    </tr>\n",
       "  </thead>\n",
       "  <tbody>\n",
       "    <tr>\n",
       "      <th>0</th>\n",
       "      <td>0.010204</td>\n",
       "      <td>0.005102</td>\n",
       "      <td>0.015306</td>\n",
       "      <td>0.015306</td>\n",
       "      <td>0.030612</td>\n",
       "      <td>0.005102</td>\n",
       "      <td>0.005102</td>\n",
       "      <td>0.005102</td>\n",
       "      <td>0.005102</td>\n",
       "      <td>0.005102</td>\n",
       "      <td>...</td>\n",
       "      <td>0.0</td>\n",
       "      <td>0.0</td>\n",
       "      <td>0.0</td>\n",
       "      <td>0.0</td>\n",
       "      <td>0.0</td>\n",
       "      <td>0.0</td>\n",
       "      <td>0.0</td>\n",
       "      <td>0.0</td>\n",
       "      <td>0.0</td>\n",
       "      <td>0.0</td>\n",
       "    </tr>\n",
       "    <tr>\n",
       "      <th>1</th>\n",
       "      <td>0.003390</td>\n",
       "      <td>0.003390</td>\n",
       "      <td>0.000000</td>\n",
       "      <td>0.000000</td>\n",
       "      <td>0.006780</td>\n",
       "      <td>0.000000</td>\n",
       "      <td>0.000000</td>\n",
       "      <td>0.000000</td>\n",
       "      <td>0.000000</td>\n",
       "      <td>0.000000</td>\n",
       "      <td>...</td>\n",
       "      <td>0.0</td>\n",
       "      <td>0.0</td>\n",
       "      <td>0.0</td>\n",
       "      <td>0.0</td>\n",
       "      <td>0.0</td>\n",
       "      <td>0.0</td>\n",
       "      <td>0.0</td>\n",
       "      <td>0.0</td>\n",
       "      <td>0.0</td>\n",
       "      <td>0.0</td>\n",
       "    </tr>\n",
       "    <tr>\n",
       "      <th>2</th>\n",
       "      <td>0.017241</td>\n",
       "      <td>0.000000</td>\n",
       "      <td>0.000000</td>\n",
       "      <td>0.000000</td>\n",
       "      <td>0.000000</td>\n",
       "      <td>0.000000</td>\n",
       "      <td>0.000000</td>\n",
       "      <td>0.000000</td>\n",
       "      <td>0.000000</td>\n",
       "      <td>0.000000</td>\n",
       "      <td>...</td>\n",
       "      <td>0.0</td>\n",
       "      <td>0.0</td>\n",
       "      <td>0.0</td>\n",
       "      <td>0.0</td>\n",
       "      <td>0.0</td>\n",
       "      <td>0.0</td>\n",
       "      <td>0.0</td>\n",
       "      <td>0.0</td>\n",
       "      <td>0.0</td>\n",
       "      <td>0.0</td>\n",
       "    </tr>\n",
       "    <tr>\n",
       "      <th>3</th>\n",
       "      <td>0.017544</td>\n",
       "      <td>0.000000</td>\n",
       "      <td>0.000000</td>\n",
       "      <td>0.000000</td>\n",
       "      <td>0.005848</td>\n",
       "      <td>0.000000</td>\n",
       "      <td>0.011696</td>\n",
       "      <td>0.000000</td>\n",
       "      <td>0.000000</td>\n",
       "      <td>0.000000</td>\n",
       "      <td>...</td>\n",
       "      <td>0.0</td>\n",
       "      <td>0.0</td>\n",
       "      <td>0.0</td>\n",
       "      <td>0.0</td>\n",
       "      <td>0.0</td>\n",
       "      <td>0.0</td>\n",
       "      <td>0.0</td>\n",
       "      <td>0.0</td>\n",
       "      <td>0.0</td>\n",
       "      <td>0.0</td>\n",
       "    </tr>\n",
       "    <tr>\n",
       "      <th>4</th>\n",
       "      <td>0.010526</td>\n",
       "      <td>0.002632</td>\n",
       "      <td>0.000000</td>\n",
       "      <td>0.000000</td>\n",
       "      <td>0.002632</td>\n",
       "      <td>0.000000</td>\n",
       "      <td>0.002632</td>\n",
       "      <td>0.000000</td>\n",
       "      <td>0.000000</td>\n",
       "      <td>0.000000</td>\n",
       "      <td>...</td>\n",
       "      <td>0.0</td>\n",
       "      <td>0.0</td>\n",
       "      <td>0.0</td>\n",
       "      <td>0.0</td>\n",
       "      <td>0.0</td>\n",
       "      <td>0.0</td>\n",
       "      <td>0.0</td>\n",
       "      <td>0.0</td>\n",
       "      <td>0.0</td>\n",
       "      <td>0.0</td>\n",
       "    </tr>\n",
       "    <tr>\n",
       "      <th>5</th>\n",
       "      <td>0.000000</td>\n",
       "      <td>0.000000</td>\n",
       "      <td>0.000000</td>\n",
       "      <td>0.000000</td>\n",
       "      <td>0.000000</td>\n",
       "      <td>0.000000</td>\n",
       "      <td>0.000000</td>\n",
       "      <td>0.000000</td>\n",
       "      <td>0.000000</td>\n",
       "      <td>0.000000</td>\n",
       "      <td>...</td>\n",
       "      <td>0.0</td>\n",
       "      <td>0.0</td>\n",
       "      <td>0.0</td>\n",
       "      <td>0.0</td>\n",
       "      <td>0.0</td>\n",
       "      <td>0.0</td>\n",
       "      <td>0.0</td>\n",
       "      <td>0.0</td>\n",
       "      <td>0.0</td>\n",
       "      <td>0.0</td>\n",
       "    </tr>\n",
       "    <tr>\n",
       "      <th>6</th>\n",
       "      <td>0.011236</td>\n",
       "      <td>0.000000</td>\n",
       "      <td>0.000000</td>\n",
       "      <td>0.000000</td>\n",
       "      <td>0.000000</td>\n",
       "      <td>0.000000</td>\n",
       "      <td>0.000000</td>\n",
       "      <td>0.000000</td>\n",
       "      <td>0.000000</td>\n",
       "      <td>0.000000</td>\n",
       "      <td>...</td>\n",
       "      <td>0.0</td>\n",
       "      <td>0.0</td>\n",
       "      <td>0.0</td>\n",
       "      <td>0.0</td>\n",
       "      <td>0.0</td>\n",
       "      <td>0.0</td>\n",
       "      <td>0.0</td>\n",
       "      <td>0.0</td>\n",
       "      <td>0.0</td>\n",
       "      <td>0.0</td>\n",
       "    </tr>\n",
       "    <tr>\n",
       "      <th>7</th>\n",
       "      <td>0.000000</td>\n",
       "      <td>0.000000</td>\n",
       "      <td>0.000000</td>\n",
       "      <td>0.000000</td>\n",
       "      <td>0.017751</td>\n",
       "      <td>0.005917</td>\n",
       "      <td>0.000000</td>\n",
       "      <td>0.000000</td>\n",
       "      <td>0.000000</td>\n",
       "      <td>0.000000</td>\n",
       "      <td>...</td>\n",
       "      <td>0.0</td>\n",
       "      <td>0.0</td>\n",
       "      <td>0.0</td>\n",
       "      <td>0.0</td>\n",
       "      <td>0.0</td>\n",
       "      <td>0.0</td>\n",
       "      <td>0.0</td>\n",
       "      <td>0.0</td>\n",
       "      <td>0.0</td>\n",
       "      <td>0.0</td>\n",
       "    </tr>\n",
       "    <tr>\n",
       "      <th>8</th>\n",
       "      <td>0.020833</td>\n",
       "      <td>0.000000</td>\n",
       "      <td>0.000000</td>\n",
       "      <td>0.000000</td>\n",
       "      <td>0.010417</td>\n",
       "      <td>0.000000</td>\n",
       "      <td>0.000000</td>\n",
       "      <td>0.000000</td>\n",
       "      <td>0.000000</td>\n",
       "      <td>0.000000</td>\n",
       "      <td>...</td>\n",
       "      <td>0.0</td>\n",
       "      <td>0.0</td>\n",
       "      <td>0.0</td>\n",
       "      <td>0.0</td>\n",
       "      <td>0.0</td>\n",
       "      <td>0.0</td>\n",
       "      <td>0.0</td>\n",
       "      <td>0.0</td>\n",
       "      <td>0.0</td>\n",
       "      <td>0.0</td>\n",
       "    </tr>\n",
       "    <tr>\n",
       "      <th>9</th>\n",
       "      <td>0.016949</td>\n",
       "      <td>0.000000</td>\n",
       "      <td>0.033898</td>\n",
       "      <td>0.000000</td>\n",
       "      <td>0.000000</td>\n",
       "      <td>0.000000</td>\n",
       "      <td>0.000000</td>\n",
       "      <td>0.000000</td>\n",
       "      <td>0.000000</td>\n",
       "      <td>0.000000</td>\n",
       "      <td>...</td>\n",
       "      <td>0.0</td>\n",
       "      <td>0.0</td>\n",
       "      <td>0.0</td>\n",
       "      <td>0.0</td>\n",
       "      <td>0.0</td>\n",
       "      <td>0.0</td>\n",
       "      <td>0.0</td>\n",
       "      <td>0.0</td>\n",
       "      <td>0.0</td>\n",
       "      <td>0.0</td>\n",
       "    </tr>\n",
       "  </tbody>\n",
       "</table>\n",
       "<p>10 rows × 76799 columns</p>\n",
       "</div>"
      ],
      "text/plain": [
       "        the     first       new      york      citi    subway     built  \\\n",
       "0  0.010204  0.005102  0.015306  0.015306  0.030612  0.005102  0.005102   \n",
       "1  0.003390  0.003390  0.000000  0.000000  0.006780  0.000000  0.000000   \n",
       "2  0.017241  0.000000  0.000000  0.000000  0.000000  0.000000  0.000000   \n",
       "3  0.017544  0.000000  0.000000  0.000000  0.005848  0.000000  0.011696   \n",
       "4  0.010526  0.002632  0.000000  0.000000  0.002632  0.000000  0.002632   \n",
       "5  0.000000  0.000000  0.000000  0.000000  0.000000  0.000000  0.000000   \n",
       "6  0.011236  0.000000  0.000000  0.000000  0.000000  0.000000  0.000000   \n",
       "7  0.000000  0.000000  0.000000  0.000000  0.017751  0.005917  0.000000   \n",
       "8  0.020833  0.000000  0.000000  0.000000  0.010417  0.000000  0.000000   \n",
       "9  0.016949  0.000000  0.033898  0.000000  0.000000  0.000000  0.000000   \n",
       "\n",
       "       oper  interborough     rapid  ...  literaturesh  scarlett  \\\n",
       "0  0.005102      0.005102  0.005102  ...           0.0       0.0   \n",
       "1  0.000000      0.000000  0.000000  ...           0.0       0.0   \n",
       "2  0.000000      0.000000  0.000000  ...           0.0       0.0   \n",
       "3  0.000000      0.000000  0.000000  ...           0.0       0.0   \n",
       "4  0.000000      0.000000  0.000000  ...           0.0       0.0   \n",
       "5  0.000000      0.000000  0.000000  ...           0.0       0.0   \n",
       "6  0.000000      0.000000  0.000000  ...           0.0       0.0   \n",
       "7  0.000000      0.000000  0.000000  ...           0.0       0.0   \n",
       "8  0.000000      0.000000  0.000000  ...           0.0       0.0   \n",
       "9  0.000000      0.000000  0.000000  ...           0.0       0.0   \n",
       "\n",
       "   literatureamong  eroticaupd  hanyakbang  euljiro  establishmenthanyakbang  \\\n",
       "0              0.0         0.0         0.0      0.0                      0.0   \n",
       "1              0.0         0.0         0.0      0.0                      0.0   \n",
       "2              0.0         0.0         0.0      0.0                      0.0   \n",
       "3              0.0         0.0         0.0      0.0                      0.0   \n",
       "4              0.0         0.0         0.0      0.0                      0.0   \n",
       "5              0.0         0.0         0.0      0.0                      0.0   \n",
       "6              0.0         0.0         0.0      0.0                      0.0   \n",
       "7              0.0         0.0         0.0      0.0                      0.0   \n",
       "8              0.0         0.0         0.0      0.0                      0.0   \n",
       "9              0.0         0.0         0.0      0.0                      0.0   \n",
       "\n",
       "   singleorigin  handdrip  cupit  \n",
       "0           0.0       0.0    0.0  \n",
       "1           0.0       0.0    0.0  \n",
       "2           0.0       0.0    0.0  \n",
       "3           0.0       0.0    0.0  \n",
       "4           0.0       0.0    0.0  \n",
       "5           0.0       0.0    0.0  \n",
       "6           0.0       0.0    0.0  \n",
       "7           0.0       0.0    0.0  \n",
       "8           0.0       0.0    0.0  \n",
       "9           0.0       0.0    0.0  \n",
       "\n",
       "[10 rows x 76799 columns]"
      ]
     },
     "execution_count": 158,
     "metadata": {},
     "output_type": "execute_result"
    }
   ],
   "source": [
    "TFS=[]\n",
    "N=len(df)\n",
    "for i in df.loc[:,\"placeDesc\"]:\n",
    "    tfs={}\n",
    "    dene2=i.split()\n",
    "    for x in dene2:\n",
    "        tfs[x]=dene2.count(x)/len(dene2)\n",
    "    TFS.append(tfs)\n",
    "TFS\n",
    "document_TFs=pd.DataFrame(TFS)\n",
    "document_TFs = document_TFs.fillna(0)\n",
    "\n",
    "document_TFs[:10]\n"
   ]
  },
  {
   "cell_type": "code",
   "execution_count": 160,
   "id": "e81c2f27-dd40-47ae-9821-eabcf7caa938",
   "metadata": {},
   "outputs": [
    {
     "data": {
      "text/plain": [
       "{'termId_0': [[727, 'tfidf=0.054271629795298856'],\n",
       "  [1609, 'tfidf=0.036001972240445775'],\n",
       "  [3953, 'tfidf=0.009469268740325582'],\n",
       "  [4534, 'tfidf=0.02703493826234218'],\n",
       "  [5048, 'tfidf=0.030051233027148953']],\n",
       " 'termId_1': [[6162, 'tfidf=0.048534624617508994']],\n",
       " 'termId_2': [[2773, 'tfidf=0.05163858316862876']],\n",
       " 'termId_3': [[235, 'tfidf=0.08001654328832564']],\n",
       " 'termId_4': [[3603, 'tfidf=0.052246095911789095']]}"
      ]
     },
     "execution_count": 160,
     "metadata": {},
     "output_type": "execute_result"
    }
   ],
   "source": [
    "new_inverted_index={i:[] for i in dictionary.values()}#empty inverted indexes\n",
    "N = len(df)\n",
    "for x,y in enumerate(df.loc[:,\"placeDesc\"]):\n",
    "    splitted=y.split()\n",
    "    splitted_tekrarlamaz=set(splitted)\n",
    "    for i in splitted_tekrarlamaz:    \n",
    "        key = dictionary[i]\n",
    "        new_inverted_index[key].append([x,f\"tfidf={document_TFs.loc[x][i]*math.log(N/len(inverted_index[dictionary[i]]))}\"])\n",
    "new_inverted_index\n",
    "dict(list(new_inverted_index.items())[0:5])"
   ]
  },
  {
   "cell_type": "markdown",
   "id": "f6270073-974a-4504-a19c-3f4faf6f89f5",
   "metadata": {},
   "source": [
    "## 2.2.2) Execute the query"
   ]
  },
  {
   "cell_type": "markdown",
   "id": "051972a4-2728-4f49-b673-aca2a2e6527a",
   "metadata": {},
   "source": [
    "#### Creating relevant dataframe for calculating similarity of query to the document"
   ]
  },
  {
   "cell_type": "code",
   "execution_count": 161,
   "id": "ba7ad656-6666-48bd-9658-f239bbd14d46",
   "metadata": {},
   "outputs": [],
   "source": [
    "# for every word in query its term_ID is learned from the dictionary and corresponding document numbers in inverted index are\n",
    "#added to the \"rdocs\".These are the documents which has the query words in them.\n",
    "\n",
    "query_input=clean_text(query_input)\n",
    "return_list=[]\n",
    "for i in query_input.split():\n",
    "    term=dictionary[i]\n",
    "    return_list.append(set(inverted_index[term]))\n",
    "return_list=[i for i in set.intersection(*return_list)]\n",
    "\n",
    "rdocs=return_list\n",
    "rdocs_numbers=[int(i.split(\"_\")[1]) for i in rdocs]\n"
   ]
  },
  {
   "cell_type": "markdown",
   "id": "3a1c71f4-d7fe-4544-bc63-9a37477b1795",
   "metadata": {},
   "source": [
    "#### Number of documents that has the query words"
   ]
  },
  {
   "cell_type": "code",
   "execution_count": 162,
   "id": "1efe8cab-cc13-46c2-8df0-74bdf8198898",
   "metadata": {},
   "outputs": [
    {
     "data": {
      "text/plain": [
       "{'citi': 1882, 'hall': 385, 'station': 383}"
      ]
     },
     "execution_count": 162,
     "metadata": {},
     "output_type": "execute_result"
    }
   ],
   "source": [
    "dictionary_of_words_query={}\n",
    "for word in query_input.split():\n",
    "    count=0\n",
    "    for document in df.loc[:,\"placeDesc\"]:\n",
    "        if word in document.split():\n",
    "            count+=1\n",
    "    dictionary_of_words_query[word]=count\n",
    "dictionary_of_words_query"
   ]
  },
  {
   "cell_type": "markdown",
   "id": "aaf2f614-da10-48d9-ab76-8a0c7126bbcd",
   "metadata": {},
   "source": [
    "#### TF-IDF's of relevant words in documents"
   ]
  },
  {
   "cell_type": "code",
   "execution_count": 177,
   "id": "61c8dcfc-62e8-4408-b0b7-f01a4c9d3942",
   "metadata": {},
   "outputs": [
    {
     "data": {
      "text/html": [
       "<div>\n",
       "<style scoped>\n",
       "    .dataframe tbody tr th:only-of-type {\n",
       "        vertical-align: middle;\n",
       "    }\n",
       "\n",
       "    .dataframe tbody tr th {\n",
       "        vertical-align: top;\n",
       "    }\n",
       "\n",
       "    .dataframe thead th {\n",
       "        text-align: right;\n",
       "    }\n",
       "</style>\n",
       "<table border=\"1\" class=\"dataframe\">\n",
       "  <thead>\n",
       "    <tr style=\"text-align: right;\">\n",
       "      <th></th>\n",
       "      <th>citi</th>\n",
       "      <th>hall</th>\n",
       "      <th>station</th>\n",
       "    </tr>\n",
       "  </thead>\n",
       "  <tbody>\n",
       "    <tr>\n",
       "      <th>2744</th>\n",
       "      <td>0.013154</td>\n",
       "      <td>0.028712</td>\n",
       "      <td>0.014381</td>\n",
       "    </tr>\n",
       "    <tr>\n",
       "      <th>5943</th>\n",
       "      <td>0.010649</td>\n",
       "      <td>0.023243</td>\n",
       "      <td>0.069852</td>\n",
       "    </tr>\n",
       "    <tr>\n",
       "      <th>4568</th>\n",
       "      <td>0.026569</td>\n",
       "      <td>0.028996</td>\n",
       "      <td>0.203333</td>\n",
       "    </tr>\n",
       "    <tr>\n",
       "      <th>3582</th>\n",
       "      <td>0.032994</td>\n",
       "      <td>0.048010</td>\n",
       "      <td>0.024048</td>\n",
       "    </tr>\n",
       "    <tr>\n",
       "      <th>4447</th>\n",
       "      <td>0.018810</td>\n",
       "      <td>0.013685</td>\n",
       "      <td>0.013709</td>\n",
       "    </tr>\n",
       "    <tr>\n",
       "      <th>0</th>\n",
       "      <td>0.041074</td>\n",
       "      <td>0.059767</td>\n",
       "      <td>0.179620</td>\n",
       "    </tr>\n",
       "    <tr>\n",
       "      <th>5981</th>\n",
       "      <td>0.045612</td>\n",
       "      <td>0.008296</td>\n",
       "      <td>0.008311</td>\n",
       "    </tr>\n",
       "    <tr>\n",
       "      <th>4963</th>\n",
       "      <td>0.019804</td>\n",
       "      <td>0.010807</td>\n",
       "      <td>0.010826</td>\n",
       "    </tr>\n",
       "    <tr>\n",
       "      <th>4444</th>\n",
       "      <td>0.043282</td>\n",
       "      <td>0.056682</td>\n",
       "      <td>0.018928</td>\n",
       "    </tr>\n",
       "    <tr>\n",
       "      <th>6263</th>\n",
       "      <td>0.029489</td>\n",
       "      <td>0.016091</td>\n",
       "      <td>0.048359</td>\n",
       "    </tr>\n",
       "    <tr>\n",
       "      <th>1090</th>\n",
       "      <td>0.008083</td>\n",
       "      <td>0.017642</td>\n",
       "      <td>0.070694</td>\n",
       "    </tr>\n",
       "    <tr>\n",
       "      <th>3465</th>\n",
       "      <td>0.025158</td>\n",
       "      <td>0.036607</td>\n",
       "      <td>0.036673</td>\n",
       "    </tr>\n",
       "    <tr>\n",
       "      <th>1004</th>\n",
       "      <td>0.019168</td>\n",
       "      <td>0.020919</td>\n",
       "      <td>0.020956</td>\n",
       "    </tr>\n",
       "    <tr>\n",
       "      <th>2867</th>\n",
       "      <td>0.005180</td>\n",
       "      <td>0.045229</td>\n",
       "      <td>0.011327</td>\n",
       "    </tr>\n",
       "  </tbody>\n",
       "</table>\n",
       "</div>"
      ],
      "text/plain": [
       "          citi      hall   station\n",
       "2744  0.013154  0.028712  0.014381\n",
       "5943  0.010649  0.023243  0.069852\n",
       "4568  0.026569  0.028996  0.203333\n",
       "3582  0.032994  0.048010  0.024048\n",
       "4447  0.018810  0.013685  0.013709\n",
       "0     0.041074  0.059767  0.179620\n",
       "5981  0.045612  0.008296  0.008311\n",
       "4963  0.019804  0.010807  0.010826\n",
       "4444  0.043282  0.056682  0.018928\n",
       "6263  0.029489  0.016091  0.048359\n",
       "1090  0.008083  0.017642  0.070694\n",
       "3465  0.025158  0.036607  0.036673\n",
       "1004  0.019168  0.020919  0.020956\n",
       "2867  0.005180  0.045229  0.011327"
      ]
     },
     "execution_count": 177,
     "metadata": {},
     "output_type": "execute_result"
    }
   ],
   "source": [
    "rTFIDFS={}\n",
    "N = len(df)\n",
    "for i in query_input.split():\n",
    "    rTFIDFS[i]=[]\n",
    "    tfidfs=[]\n",
    "    dene2=i.split()\n",
    "    for x in rdocs_numbers:\n",
    "        rTFIDFS[i].append(df.loc[:,\"placeDesc\"][x].count(i)/len(df.loc[:,\"placeDesc\"][x].split())*(math.log(N/dictionary_of_words_query[i])))\n",
    "document_TFIDFs=pd.DataFrame(rTFIDFS, index=rdocs_numbers)\n",
    "document_TFIDFs\n"
   ]
  },
  {
   "cell_type": "code",
   "execution_count": 164,
   "id": "520d6e71-33c5-4bfd-b777-84da56f33de2",
   "metadata": {},
   "outputs": [],
   "source": [
    "#new dataframe for documents including query\n",
    "\n",
    "relevant_df=document_TFIDFs.loc[rdocs_numbers][query_input.split()]\n"
   ]
  },
  {
   "cell_type": "code",
   "execution_count": 178,
   "id": "9d137165-fc70-43c9-8e52-aa55be5389db",
   "metadata": {},
   "outputs": [
    {
     "data": {
      "text/html": [
       "<div>\n",
       "<style scoped>\n",
       "    .dataframe tbody tr th:only-of-type {\n",
       "        vertical-align: middle;\n",
       "    }\n",
       "\n",
       "    .dataframe tbody tr th {\n",
       "        vertical-align: top;\n",
       "    }\n",
       "\n",
       "    .dataframe thead th {\n",
       "        text-align: right;\n",
       "    }\n",
       "</style>\n",
       "<table border=\"1\" class=\"dataframe\">\n",
       "  <thead>\n",
       "    <tr style=\"text-align: right;\">\n",
       "      <th></th>\n",
       "      <th>citi</th>\n",
       "      <th>hall</th>\n",
       "      <th>station</th>\n",
       "    </tr>\n",
       "  </thead>\n",
       "  <tbody>\n",
       "    <tr>\n",
       "      <th>2744</th>\n",
       "      <td>0.013154</td>\n",
       "      <td>0.028712</td>\n",
       "      <td>0.014381</td>\n",
       "    </tr>\n",
       "    <tr>\n",
       "      <th>5943</th>\n",
       "      <td>0.010649</td>\n",
       "      <td>0.023243</td>\n",
       "      <td>0.069852</td>\n",
       "    </tr>\n",
       "    <tr>\n",
       "      <th>4568</th>\n",
       "      <td>0.026569</td>\n",
       "      <td>0.028996</td>\n",
       "      <td>0.203333</td>\n",
       "    </tr>\n",
       "    <tr>\n",
       "      <th>3582</th>\n",
       "      <td>0.032994</td>\n",
       "      <td>0.048010</td>\n",
       "      <td>0.024048</td>\n",
       "    </tr>\n",
       "    <tr>\n",
       "      <th>4447</th>\n",
       "      <td>0.018810</td>\n",
       "      <td>0.013685</td>\n",
       "      <td>0.013709</td>\n",
       "    </tr>\n",
       "    <tr>\n",
       "      <th>0</th>\n",
       "      <td>0.041074</td>\n",
       "      <td>0.059767</td>\n",
       "      <td>0.179620</td>\n",
       "    </tr>\n",
       "    <tr>\n",
       "      <th>5981</th>\n",
       "      <td>0.045612</td>\n",
       "      <td>0.008296</td>\n",
       "      <td>0.008311</td>\n",
       "    </tr>\n",
       "    <tr>\n",
       "      <th>4963</th>\n",
       "      <td>0.019804</td>\n",
       "      <td>0.010807</td>\n",
       "      <td>0.010826</td>\n",
       "    </tr>\n",
       "    <tr>\n",
       "      <th>4444</th>\n",
       "      <td>0.043282</td>\n",
       "      <td>0.056682</td>\n",
       "      <td>0.018928</td>\n",
       "    </tr>\n",
       "    <tr>\n",
       "      <th>6263</th>\n",
       "      <td>0.029489</td>\n",
       "      <td>0.016091</td>\n",
       "      <td>0.048359</td>\n",
       "    </tr>\n",
       "    <tr>\n",
       "      <th>1090</th>\n",
       "      <td>0.008083</td>\n",
       "      <td>0.017642</td>\n",
       "      <td>0.070694</td>\n",
       "    </tr>\n",
       "    <tr>\n",
       "      <th>3465</th>\n",
       "      <td>0.025158</td>\n",
       "      <td>0.036607</td>\n",
       "      <td>0.036673</td>\n",
       "    </tr>\n",
       "    <tr>\n",
       "      <th>1004</th>\n",
       "      <td>0.019168</td>\n",
       "      <td>0.020919</td>\n",
       "      <td>0.020956</td>\n",
       "    </tr>\n",
       "    <tr>\n",
       "      <th>2867</th>\n",
       "      <td>0.005180</td>\n",
       "      <td>0.045229</td>\n",
       "      <td>0.011327</td>\n",
       "    </tr>\n",
       "  </tbody>\n",
       "</table>\n",
       "</div>"
      ],
      "text/plain": [
       "          citi      hall   station\n",
       "2744  0.013154  0.028712  0.014381\n",
       "5943  0.010649  0.023243  0.069852\n",
       "4568  0.026569  0.028996  0.203333\n",
       "3582  0.032994  0.048010  0.024048\n",
       "4447  0.018810  0.013685  0.013709\n",
       "0     0.041074  0.059767  0.179620\n",
       "5981  0.045612  0.008296  0.008311\n",
       "4963  0.019804  0.010807  0.010826\n",
       "4444  0.043282  0.056682  0.018928\n",
       "6263  0.029489  0.016091  0.048359\n",
       "1090  0.008083  0.017642  0.070694\n",
       "3465  0.025158  0.036607  0.036673\n",
       "1004  0.019168  0.020919  0.020956\n",
       "2867  0.005180  0.045229  0.011327"
      ]
     },
     "execution_count": 178,
     "metadata": {},
     "output_type": "execute_result"
    }
   ],
   "source": [
    "relevant_df"
   ]
  },
  {
   "cell_type": "markdown",
   "id": "51093b67-dd5b-4c20-b26e-fb6adfb93865",
   "metadata": {},
   "source": [
    "#### Calculating the similarity between query and documents"
   ]
  },
  {
   "cell_type": "code",
   "execution_count": 165,
   "id": "86fc1a54-da22-4361-85fc-eb2901b0fac8",
   "metadata": {},
   "outputs": [
    {
     "data": {
      "text/plain": [
       "{'citi': 1882, 'hall': 385, 'station': 383}"
      ]
     },
     "execution_count": 165,
     "metadata": {},
     "output_type": "execute_result"
    }
   ],
   "source": [
    "dictionary_of_words_query={}\n",
    "for word in relevant_df:\n",
    "    count=0\n",
    "    for document in df.loc[:,\"placeDesc\"]:\n",
    "        if word in document.split():\n",
    "            count+=1\n",
    "    dictionary_of_words_query[word]=count\n",
    "dictionary_of_words_query    "
   ]
  },
  {
   "cell_type": "code",
   "execution_count": 174,
   "id": "5cf88853-4ca5-480a-9d53-eebf7c42e496",
   "metadata": {},
   "outputs": [
    {
     "data": {
      "text/plain": [
       "[0.44724866161960725, 0.9761976569054541, 0.9779337719411668]"
      ]
     },
     "execution_count": 174,
     "metadata": {},
     "output_type": "execute_result"
    }
   ],
   "source": [
    "#TFIDF of query\n",
    "query_tfIDFs=[]\n",
    "for x in query_input.split():\n",
    "    query_tfIDFs.append(query_input.split().count(x)/len(query_input.split())*  (math.log(N/dictionary_of_words_query[x])))\n",
    "query_tfIDFs"
   ]
  },
  {
   "cell_type": "code",
   "execution_count": 222,
   "id": "06afc3d6-0a6a-47cc-903e-ef50976f573e",
   "metadata": {},
   "outputs": [],
   "source": [
    "#||Query||\n",
    "add=0\n",
    "for i in query_tfIDFs:\n",
    "    add+=i*i    \n",
    "Query_L=math.sqrt(add)   \n",
    "\n",
    "#Similarities of all documents\n",
    "similarity_list=[]\n",
    "for i in relevant_df.index:\n",
    "    add1=0\n",
    "    for x in relevant_df.loc[i]:\n",
    "        add1+=x*x    \n",
    "    Document_L=math.sqrt(add1) \n",
    "    score = np.dot(query_tfIDFs,relevant_df.loc[i])/(Query_L*Document_L)\n",
    "    if(len(similarity_list) <k):\n",
    "        heapq.heappush(similarity_list,(score, i))\n",
    "    else:\n",
    "        new = np.dot(query_tfIDFs,relevant_df.loc[i])/(Query_L*Document_L)\n",
    "        old = heapq.heappop(similarity_list)\n",
    "        if(old[0]<score):\n",
    "            heapq.heappush(similarity_list,(score, i))\n",
    "        else:\n",
    "            heapq.heappush(similarity_list, old)"
   ]
  },
  {
   "cell_type": "markdown",
   "id": "99346afd-9a1f-43b3-aa61-f2eaa2110202",
   "metadata": {},
   "source": [
    "#### Results"
   ]
  },
  {
   "cell_type": "code",
   "execution_count": 223,
   "id": "9adeb9a6-c399-4654-9e2d-6b3876fb368c",
   "metadata": {},
   "outputs": [],
   "source": [
    "k_docs = [heapq.heappop(similarity_list) for i in range(0,len(similarity_list))]\n",
    "k_docs_number = [x[1] for x in reversed(k_docs)]\n",
    "k_docs_score = [x[0] for x in reversed(k_docs)]\n",
    "\n",
    "sonuc_new=df_for_last.loc[k_docs_number,[\"placeName\",\"placeDesc\",\"placeURL\"]]\n",
    "sonuc_new.insert(3,\"similarity\",k_docs_score)\n",
    "\n",
    "#add similarity list at the end of the dataframe"
   ]
  },
  {
   "cell_type": "code",
   "execution_count": 224,
   "id": "d5fdcb1b-0d9c-4968-898a-b588ef158f89",
   "metadata": {},
   "outputs": [
    {
     "data": {
      "text/html": [
       "<div>\n",
       "<style scoped>\n",
       "    .dataframe tbody tr th:only-of-type {\n",
       "        vertical-align: middle;\n",
       "    }\n",
       "\n",
       "    .dataframe tbody tr th {\n",
       "        vertical-align: top;\n",
       "    }\n",
       "\n",
       "    .dataframe thead th {\n",
       "        text-align: right;\n",
       "    }\n",
       "</style>\n",
       "<table border=\"1\" class=\"dataframe\">\n",
       "  <thead>\n",
       "    <tr style=\"text-align: right;\">\n",
       "      <th></th>\n",
       "      <th>placeName</th>\n",
       "      <th>placeDesc</th>\n",
       "      <th>placeURL</th>\n",
       "      <th>similarity</th>\n",
       "    </tr>\n",
       "  </thead>\n",
       "  <tbody>\n",
       "    <tr>\n",
       "      <th>3465</th>\n",
       "      <td>The Forgotten Entrance to Clinton Hall</td>\n",
       "      <td>This blocked up doorway on a subway station ho...</td>\n",
       "      <td>https://www.atlasobscura.com/places/the-forgot...</td>\n",
       "      <td>0.990361</td>\n",
       "    </tr>\n",
       "    <tr>\n",
       "      <th>1004</th>\n",
       "      <td>Short Story Vending Machine</td>\n",
       "      <td>Staring blankly into space while riding on a t...</td>\n",
       "      <td>https://www.atlasobscura.com/places/short-stor...</td>\n",
       "      <td>0.966009</td>\n",
       "    </tr>\n",
       "    <tr>\n",
       "      <th>2744</th>\n",
       "      <td>Catacombs of Old St. Patrick's Cathedral</td>\n",
       "      <td>The catacombs under the Old St. Patrick’s Cath...</td>\n",
       "      <td>https://www.atlasobscura.com/places/catacombs-...</td>\n",
       "      <td>0.951903</td>\n",
       "    </tr>\n",
       "    <tr>\n",
       "      <th>3582</th>\n",
       "      <td>City Hall Urinal</td>\n",
       "      <td>There are plenty of public places to pee in Am...</td>\n",
       "      <td>https://www.atlasobscura.com/places/city-hall-...</td>\n",
       "      <td>0.930180</td>\n",
       "    </tr>\n",
       "    <tr>\n",
       "      <th>4447</th>\n",
       "      <td>Mµseum - The Tiny Museum</td>\n",
       "      <td>The Mµseum (pronounced mew-zee-um) is too smal...</td>\n",
       "      <td>https://www.atlasobscura.com/places/museum-the...</td>\n",
       "      <td>0.897086</td>\n",
       "    </tr>\n",
       "    <tr>\n",
       "      <th>0</th>\n",
       "      <td>City Hall Station</td>\n",
       "      <td>The first New York City subway was built and o...</td>\n",
       "      <td>https://www.atlasobscura.com/places/city-hall-...</td>\n",
       "      <td>0.897056</td>\n",
       "    </tr>\n",
       "    <tr>\n",
       "      <th>6263</th>\n",
       "      <td>Toronto PATH</td>\n",
       "      <td>Not so hidden beneath the busy streets of Toro...</td>\n",
       "      <td>https://www.atlasobscura.com/places/toronto-path</td>\n",
       "      <td>0.890909</td>\n",
       "    </tr>\n",
       "    <tr>\n",
       "      <th>5943</th>\n",
       "      <td>Site of the Beach Pneumatic Subway</td>\n",
       "      <td>Alfred Beach built this pneumatic tunnel to sh...</td>\n",
       "      <td>https://www.atlasobscura.com/places/beach-pneu...</td>\n",
       "      <td>0.886431</td>\n",
       "    </tr>\n",
       "    <tr>\n",
       "      <th>4444</th>\n",
       "      <td>Opa-Locka City Hall</td>\n",
       "      <td>In a city where the town hall is a sheik’s pal...</td>\n",
       "      <td>https://www.atlasobscura.com/places/opa-locka-...</td>\n",
       "      <td>0.869698</td>\n",
       "    </tr>\n",
       "    <tr>\n",
       "      <th>1090</th>\n",
       "      <td>Euston's Lost Tunnels</td>\n",
       "      <td>A portal into the London Underground’s past hi...</td>\n",
       "      <td>https://www.atlasobscura.com/places/eustons-lo...</td>\n",
       "      <td>0.845030</td>\n",
       "    </tr>\n",
       "    <tr>\n",
       "      <th>2867</th>\n",
       "      <td>Rungis International Market</td>\n",
       "      <td>Five miles south of Paris, in a suburb called ...</td>\n",
       "      <td>https://www.atlasobscura.com/places/rungis-int...</td>\n",
       "      <td>0.844610</td>\n",
       "    </tr>\n",
       "    <tr>\n",
       "      <th>4963</th>\n",
       "      <td>The Oldest Fence in New York</td>\n",
       "      <td>Most visitors to Bowling Green today come to s...</td>\n",
       "      <td>https://www.atlasobscura.com/places/the-oldest...</td>\n",
       "      <td>0.825283</td>\n",
       "    </tr>\n",
       "    <tr>\n",
       "      <th>4568</th>\n",
       "      <td>Moscow Metro Stations</td>\n",
       "      <td>Subway stations are often sordid spots, the da...</td>\n",
       "      <td>https://www.atlasobscura.com/places/moscow-met...</td>\n",
       "      <td>0.794702</td>\n",
       "    </tr>\n",
       "    <tr>\n",
       "      <th>5981</th>\n",
       "      <td>Kelly Butte Civil Defense Center</td>\n",
       "      <td>Kelly Butte is a long-extinct volcanic cinder ...</td>\n",
       "      <td>https://www.atlasobscura.com/places/kelly-butt...</td>\n",
       "      <td>0.535433</td>\n",
       "    </tr>\n",
       "  </tbody>\n",
       "</table>\n",
       "</div>"
      ],
      "text/plain": [
       "                                     placeName  \\\n",
       "3465    The Forgotten Entrance to Clinton Hall   \n",
       "1004               Short Story Vending Machine   \n",
       "2744  Catacombs of Old St. Patrick's Cathedral   \n",
       "3582                          City Hall Urinal   \n",
       "4447                  Mµseum - The Tiny Museum   \n",
       "0                            City Hall Station   \n",
       "6263                              Toronto PATH   \n",
       "5943        Site of the Beach Pneumatic Subway   \n",
       "4444                       Opa-Locka City Hall   \n",
       "1090                     Euston's Lost Tunnels   \n",
       "2867               Rungis International Market   \n",
       "4963              The Oldest Fence in New York   \n",
       "4568                     Moscow Metro Stations   \n",
       "5981          Kelly Butte Civil Defense Center   \n",
       "\n",
       "                                              placeDesc  \\\n",
       "3465  This blocked up doorway on a subway station ho...   \n",
       "1004  Staring blankly into space while riding on a t...   \n",
       "2744  The catacombs under the Old St. Patrick’s Cath...   \n",
       "3582  There are plenty of public places to pee in Am...   \n",
       "4447  The Mµseum (pronounced mew-zee-um) is too smal...   \n",
       "0     The first New York City subway was built and o...   \n",
       "6263  Not so hidden beneath the busy streets of Toro...   \n",
       "5943  Alfred Beach built this pneumatic tunnel to sh...   \n",
       "4444  In a city where the town hall is a sheik’s pal...   \n",
       "1090  A portal into the London Underground’s past hi...   \n",
       "2867  Five miles south of Paris, in a suburb called ...   \n",
       "4963  Most visitors to Bowling Green today come to s...   \n",
       "4568  Subway stations are often sordid spots, the da...   \n",
       "5981  Kelly Butte is a long-extinct volcanic cinder ...   \n",
       "\n",
       "                                               placeURL  similarity  \n",
       "3465  https://www.atlasobscura.com/places/the-forgot...    0.990361  \n",
       "1004  https://www.atlasobscura.com/places/short-stor...    0.966009  \n",
       "2744  https://www.atlasobscura.com/places/catacombs-...    0.951903  \n",
       "3582  https://www.atlasobscura.com/places/city-hall-...    0.930180  \n",
       "4447  https://www.atlasobscura.com/places/museum-the...    0.897086  \n",
       "0     https://www.atlasobscura.com/places/city-hall-...    0.897056  \n",
       "6263   https://www.atlasobscura.com/places/toronto-path    0.890909  \n",
       "5943  https://www.atlasobscura.com/places/beach-pneu...    0.886431  \n",
       "4444  https://www.atlasobscura.com/places/opa-locka-...    0.869698  \n",
       "1090  https://www.atlasobscura.com/places/eustons-lo...    0.845030  \n",
       "2867  https://www.atlasobscura.com/places/rungis-int...    0.844610  \n",
       "4963  https://www.atlasobscura.com/places/the-oldest...    0.825283  \n",
       "4568  https://www.atlasobscura.com/places/moscow-met...    0.794702  \n",
       "5981  https://www.atlasobscura.com/places/kelly-butt...    0.535433  "
      ]
     },
     "execution_count": 224,
     "metadata": {},
     "output_type": "execute_result"
    }
   ],
   "source": [
    "sonuc_new"
   ]
  },
  {
   "cell_type": "markdown",
   "id": "bad1d189-1449-43a6-aed6-534892b4dc3b",
   "metadata": {
    "tags": []
   },
   "source": [
    "# 3. Define a new score!"
   ]
  },
  {
   "cell_type": "code",
   "execution_count": 229,
   "id": "29485dc2-1260-49aa-b905-8283dcd64fb2",
   "metadata": {},
   "outputs": [],
   "source": [
    "query_input = 'Catacombs of Old St. Patrick Cathedral'"
   ]
  },
  {
   "cell_type": "code",
   "execution_count": 225,
   "id": "755cfc2a-d97f-4bde-8f3b-152cb59a7fd1",
   "metadata": {},
   "outputs": [],
   "source": [
    "df=pd.read_csv('places.tsv', sep='\\t') # reading the places with pandas\n",
    "df_copy = df.copy() ## Store a copy with original not cleaned test\n",
    "\n",
    "#Since I'm gonna exploit more columns and not just placeDesc, I'm gonna create a list of the column I intend to use.\n",
    "columnNames = [\"placeName\",\"placeShortDesc\",\"placeDesc\", \"placeTags\",\t\"placeAddress\"]\n",
    "\n",
    "for columnName in columnNames:\n",
    "  for x,i in enumerate(df.loc[:,columnName]): #cleaning all text in  column\n",
    "      df.loc[:,columnName][x]=clean_text(i)\n",
    "    \n",
    "word_list=[] \n",
    "string=\"\"\n",
    "for columnName in columnNames:\n",
    "  for i in df.loc[:,columnName]: #string containing all words in the column\n",
    "      string=string+i+\" \"\n",
    "\n",
    "word_cnt = string.split() # getting wordlist out of the list, splitting all words and putting into a counter \n",
    "word_cnt = Counter(word_cnt) # now I have, for each word, how many times it occours in all the documents. \n",
    "#Plus, if I need to iterate on a set of these words (meaning if I want to iterate on the words without duplicates)\n",
    "#all I need to do is iterate on the counter keys\n"
   ]
  },
  {
   "cell_type": "code",
   "execution_count": 226,
   "id": "a28834d3-b279-4a5d-be2f-286786e28402",
   "metadata": {},
   "outputs": [],
   "source": [
    "#creates a dictionary from the counter of words, the result is a dicionary in the form {'word':word_id} where word_id is a string 'term_ id_number'\n",
    "dictionary={i[1]:f\"term_id_{i[0]}\" for i in enumerate(word_cnt)}"
   ]
  },
  {
   "cell_type": "code",
   "execution_count": 231,
   "id": "0f90ecf3-e9ec-49de-ad8c-bd8d76426841",
   "metadata": {},
   "outputs": [],
   "source": [
    "#Builds a dictionary of inverted index from the previous dictionary, \n",
    "#where every element has as key the term_id and as value the articles ids in which this word appears\n",
    "inverted_index={i:[] for i in dictionary.values()}"
   ]
  },
  {
   "cell_type": "code",
   "execution_count": 232,
   "id": "c25fbc30-29ea-4c46-99b8-3cce46936908",
   "metadata": {},
   "outputs": [],
   "source": [
    "#Here we iterate the articles in the dataframe and, for each column and foreach word in that column,\n",
    "# we register (if not present) the fact that that word is present in that document.\n",
    "\n",
    "#After this, inverted_index is something like this {'term_id': [list of document in which this word appears]}\n",
    "for columName in columnNames:\n",
    "  for x,text in enumerate(df.loc[:,columName]):\n",
    "    for word in text.split():\n",
    "      if f\"document_{x}\" not in inverted_index[dictionary[word]]:\n",
    "        inverted_index[dictionary[word]].append(f\"document_{x}\")"
   ]
  },
  {
   "cell_type": "code",
   "execution_count": 235,
   "id": "5f979891-0e8f-4910-9dd2-8e932ec8ad52",
   "metadata": {},
   "outputs": [],
   "source": [
    "from numpy.linalg import norm\n",
    "from math import isnan\n",
    "\n",
    "#We execute the query: \n",
    "#  first, we clean the query so that the words have the same look of the ones in the dictionary\n",
    "#  then, we store in a list the documents that have one of the word \n",
    "#  we then use intersection to keep only the document that have all the words in our query\n",
    "#we return the list of those documents\n",
    "def execute_query(query):\n",
    "  'Input: query given in input'\n",
    "  'Output: documents id in which the word appears'\n",
    "  query = clean_text(query)\n",
    "  return_list = []\n",
    "  for i in query.split():\n",
    "    try:\n",
    "      term=dictionary[i]\n",
    "    except KeyError as e:\n",
    "      continue\n",
    "    return_list.append(set(inverted_index[term]))\n",
    "  if (len(return_list)==0):\n",
    "    return []  \n",
    "  inter = [i for i in set.intersection(*return_list)]\n",
    "  return inter\n",
    "\n",
    "def cos_sim(A, B):\n",
    "   ##cosine similarity = dot product of the vectors divided by the product of their norms\n",
    "    dotProd = (np.dot(A,B))\n",
    "    norms = norm(A)*norm(B)\n",
    "    return 0 if norms == 0 else dotProd/norms\n",
    "\n",
    "## Return docum number from id (document id is like 'document_NumberOfDocument')\n",
    "def getDocNumberFromId(documId):\n",
    "  start = documId.find('_')+1\n",
    "  return int(documId[start:len(documId)])\n"
   ]
  },
  {
   "cell_type": "code",
   "execution_count": 238,
   "id": "7b8d873b-255b-4cd2-a708-5765591ae15a",
   "metadata": {},
   "outputs": [
    {
     "data": {
      "text/plain": [
       "['document_2744',\n",
       " 'document_5943',\n",
       " 'document_4568',\n",
       " 'document_3582',\n",
       " 'document_4447',\n",
       " 'document_0',\n",
       " 'document_5981',\n",
       " 'document_4963',\n",
       " 'document_4444',\n",
       " 'document_6263',\n",
       " 'document_1090',\n",
       " 'document_3465',\n",
       " 'document_1004',\n",
       " 'document_2867']"
      ]
     },
     "execution_count": 238,
     "metadata": {},
     "output_type": "execute_result"
    }
   ],
   "source": [
    "query_result = execute_query(query_input)\n",
    "query_result"
   ]
  },
  {
   "cell_type": "markdown",
   "id": "6497745f-a107-46f5-9eea-928054229a2a",
   "metadata": {},
   "source": [
    "The inverse document frequency (idf) is a measure of how much information the word provides. In other words, it tells you if the word is common across all documents. <br>\n",
    "It is the logarithm of the total number of documents divided by the number of documents containing the term. The more it's high, more the word is rare. "
   ]
  },
  {
   "cell_type": "code",
   "execution_count": 239,
   "id": "3a1e70d2-0b88-4809-865d-de967aa0e8c1",
   "metadata": {},
   "outputs": [],
   "source": [
    "def getIdf(word, N):\n",
    "  'Input:'\n",
    "  ' word: word for which we want to compute idf'\n",
    "  ' N: number of document present in the dataset'\n",
    "  'Output: the idf of the word'\n",
    "  i = len(inverted_index[dictionary[word]]) ## number of documents in which the word appears\n",
    "  if i == 0: \n",
    "    return 0\n",
    "  return np.log(N/i)\n",
    "\n",
    "idf = {}\n",
    "N = len(df_copy)\n",
    "## Compute the idf for each word present in the select columns of the dataset\n",
    "for word in word_cnt:\n",
    "  idf[word] = getIdf(word,N)"
   ]
  },
  {
   "cell_type": "markdown",
   "id": "5841854c-27b9-4bc5-b1ca-a11006f97acd",
   "metadata": {},
   "source": [
    "The term frequency (tf) is the relative frequency of a word in a document. <br> It's obtained by dividing the number of times a word appears in a document by the total number of words in a document."
   ]
  },
  {
   "cell_type": "code",
   "execution_count": 245,
   "id": "6ed96903-bc8e-4c84-9f97-2d1c22d0d491",
   "metadata": {},
   "outputs": [],
   "source": [
    "# In this list, the columns are ordered by importance to my score:\n",
    "## Every time we compute tf for a specific column, that will be divided by how important that column is.\n",
    "## In my opinion, the most important column is placeName, because the title is the most relevant summary of the\n",
    "## document's content, so if a word is contained in the title, its frequency will be doubled.\n",
    "## In the same way, placeShortDesc is pretty important so no division will be involved,\n",
    "## while the rest are less important so a small division will occur.\n",
    "columnNames = [\"placeName\",\"placeShortDesc\",\"placeDesc\", \"placeTags\",\t\"placeAddress\"]\n",
    "def getWordFrequency(word, documentNumber):\n",
    "  score = 0.0\n",
    "  frequency_in_doc = 0.0\n",
    "  frequency_all = 0.0\n",
    "  tmp = 0.0\n",
    "  for i in range(0,len(columnNames)):\n",
    "    div = i\n",
    "    if(i==0):\n",
    "      div=0.5\n",
    "    div = 1/div\n",
    "    frequency_in_doc=df.loc[documentNumber,columnNames[i]].count(word)*div\n",
    "    frequency_all=len(df.loc[documentNumber,columnNames[i]].split())\n",
    "    if(frequency_all >0):\n",
    "      tmp += frequency_in_doc/frequency_all\n",
    "  score = tmp\n",
    "  return score"
   ]
  },
  {
   "cell_type": "code",
   "execution_count": 246,
   "id": "26098636-0fe3-4a6e-9435-419da212878b",
   "metadata": {},
   "outputs": [],
   "source": [
    "##The score for each word of the query will be its tf-idf\n",
    "def getQueryScore(qInputList):\n",
    "  tf = []\n",
    "  query_cnt = Counter(qInputList)\n",
    "  len_query = len(qInputList)\n",
    "  for word in query_cnt:\n",
    "    tf.append((query_cnt[word]/len_query)*np.log(idf[word]))\n",
    "  return tf"
   ]
  },
  {
   "cell_type": "code",
   "execution_count": 249,
   "id": "7f1012bd-fa32-4c32-9e23-b3af1d42eab3",
   "metadata": {},
   "outputs": [],
   "source": [
    "#Here we build an heap in which we put, for every document, its score. \n",
    "#Since we use the build-in tool heapq, we multiply this score for -1, so that the elements are sorted in descending order.\n",
    "\n",
    "resultHeap = []\n",
    "queryInputList = clean_text(query_input).split()\n",
    "queryTf = getQueryScore(queryInputList)\n",
    "for docId in query_result:\n",
    "  tf_idf = []\n",
    "  documentNumber = getDocNumberFromId(docId)\n",
    "  for word in queryInputList:\n",
    "    tf_idf.append(getWordFrequency(word, documentNumber)*idf[word])\n",
    "  score = cos_sim(np.array(getQueryScore(queryInputList)),np.array(tf_idf))\n",
    "  element = (score, docId)\n",
    "  if(len(resultHeap)==k):\n",
    "    old_min_score = heapq.heapop(resultHeap)\n",
    "    if(score<=old_min_score[0]):\n",
    "      element = old_min_score\n",
    "  heapq.heappush(resultHeap, element)"
   ]
  },
  {
   "cell_type": "code",
   "execution_count": 250,
   "id": "45be02bf-e6da-4cf5-9aee-72d02c5c2052",
   "metadata": {},
   "outputs": [],
   "source": [
    "#We take the first k document (or less if the resultHeap is smaller)\n",
    "if (len(resultHeap) < k):\n",
    "  max = len(resultHeap)\n",
    "\n",
    "docsInfo = [heapq.heappop(resultHeap) for i in range(0,max)]\n",
    "\n",
    "#So that the element with bigger score will be on top\n",
    "docsInfo.reverse()"
   ]
  },
  {
   "cell_type": "code",
   "execution_count": 251,
   "id": "b81217cd-050b-46d6-a0b3-bcbb26b7d081",
   "metadata": {},
   "outputs": [
    {
     "data": {
      "text/html": [
       "<div>\n",
       "<style scoped>\n",
       "    .dataframe tbody tr th:only-of-type {\n",
       "        vertical-align: middle;\n",
       "    }\n",
       "\n",
       "    .dataframe tbody tr th {\n",
       "        vertical-align: top;\n",
       "    }\n",
       "\n",
       "    .dataframe thead th {\n",
       "        text-align: right;\n",
       "    }\n",
       "</style>\n",
       "<table border=\"1\" class=\"dataframe\">\n",
       "  <thead>\n",
       "    <tr style=\"text-align: right;\">\n",
       "      <th></th>\n",
       "      <th>placeName</th>\n",
       "      <th>placeDesc</th>\n",
       "      <th>placeURL</th>\n",
       "      <th>score</th>\n",
       "    </tr>\n",
       "  </thead>\n",
       "  <tbody>\n",
       "    <tr>\n",
       "      <th>0</th>\n",
       "      <td>City Hall Station</td>\n",
       "      <td>The first New York City subway was built and o...</td>\n",
       "      <td>https://www.atlasobscura.com/places/city-hall-...</td>\n",
       "      <td>0.989693</td>\n",
       "    </tr>\n",
       "    <tr>\n",
       "      <th>1004</th>\n",
       "      <td>Short Story Vending Machine</td>\n",
       "      <td>Staring blankly into space while riding on a t...</td>\n",
       "      <td>https://www.atlasobscura.com/places/short-stor...</td>\n",
       "      <td>0.922755</td>\n",
       "    </tr>\n",
       "    <tr>\n",
       "      <th>5943</th>\n",
       "      <td>Site of the Beach Pneumatic Subway</td>\n",
       "      <td>Alfred Beach built this pneumatic tunnel to sh...</td>\n",
       "      <td>https://www.atlasobscura.com/places/beach-pneu...</td>\n",
       "      <td>0.896542</td>\n",
       "    </tr>\n",
       "    <tr>\n",
       "      <th>2867</th>\n",
       "      <td>Rungis International Market</td>\n",
       "      <td>Five miles south of Paris, in a suburb called ...</td>\n",
       "      <td>https://www.atlasobscura.com/places/rungis-int...</td>\n",
       "      <td>0.858587</td>\n",
       "    </tr>\n",
       "    <tr>\n",
       "      <th>3465</th>\n",
       "      <td>The Forgotten Entrance to Clinton Hall</td>\n",
       "      <td>This blocked up doorway on a subway station ho...</td>\n",
       "      <td>https://www.atlasobscura.com/places/the-forgot...</td>\n",
       "      <td>0.850422</td>\n",
       "    </tr>\n",
       "    <tr>\n",
       "      <th>6263</th>\n",
       "      <td>Toronto PATH</td>\n",
       "      <td>Not so hidden beneath the busy streets of Toro...</td>\n",
       "      <td>https://www.atlasobscura.com/places/toronto-path</td>\n",
       "      <td>0.849627</td>\n",
       "    </tr>\n",
       "    <tr>\n",
       "      <th>4447</th>\n",
       "      <td>Mµseum - The Tiny Museum</td>\n",
       "      <td>The Mµseum (pronounced mew-zee-um) is too smal...</td>\n",
       "      <td>https://www.atlasobscura.com/places/museum-the...</td>\n",
       "      <td>0.830781</td>\n",
       "    </tr>\n",
       "    <tr>\n",
       "      <th>4568</th>\n",
       "      <td>Moscow Metro Stations</td>\n",
       "      <td>Subway stations are often sordid spots, the da...</td>\n",
       "      <td>https://www.atlasobscura.com/places/moscow-met...</td>\n",
       "      <td>0.787208</td>\n",
       "    </tr>\n",
       "    <tr>\n",
       "      <th>4963</th>\n",
       "      <td>The Oldest Fence in New York</td>\n",
       "      <td>Most visitors to Bowling Green today come to s...</td>\n",
       "      <td>https://www.atlasobscura.com/places/the-oldest...</td>\n",
       "      <td>0.743059</td>\n",
       "    </tr>\n",
       "    <tr>\n",
       "      <th>1090</th>\n",
       "      <td>Euston's Lost Tunnels</td>\n",
       "      <td>A portal into the London Underground’s past hi...</td>\n",
       "      <td>https://www.atlasobscura.com/places/eustons-lo...</td>\n",
       "      <td>0.718009</td>\n",
       "    </tr>\n",
       "    <tr>\n",
       "      <th>3582</th>\n",
       "      <td>City Hall Urinal</td>\n",
       "      <td>There are plenty of public places to pee in Am...</td>\n",
       "      <td>https://www.atlasobscura.com/places/city-hall-...</td>\n",
       "      <td>0.707520</td>\n",
       "    </tr>\n",
       "    <tr>\n",
       "      <th>4444</th>\n",
       "      <td>Opa-Locka City Hall</td>\n",
       "      <td>In a city where the town hall is a sheik’s pal...</td>\n",
       "      <td>https://www.atlasobscura.com/places/opa-locka-...</td>\n",
       "      <td>0.706217</td>\n",
       "    </tr>\n",
       "    <tr>\n",
       "      <th>5981</th>\n",
       "      <td>Kelly Butte Civil Defense Center</td>\n",
       "      <td>Kelly Butte is a long-extinct volcanic cinder ...</td>\n",
       "      <td>https://www.atlasobscura.com/places/kelly-butt...</td>\n",
       "      <td>0.411429</td>\n",
       "    </tr>\n",
       "    <tr>\n",
       "      <th>2744</th>\n",
       "      <td>Catacombs of Old St. Patrick's Cathedral</td>\n",
       "      <td>The catacombs under the Old St. Patrick’s Cath...</td>\n",
       "      <td>https://www.atlasobscura.com/places/catacombs-...</td>\n",
       "      <td>0.261580</td>\n",
       "    </tr>\n",
       "  </tbody>\n",
       "</table>\n",
       "</div>"
      ],
      "text/plain": [
       "                                     placeName  \\\n",
       "0                            City Hall Station   \n",
       "1004               Short Story Vending Machine   \n",
       "5943        Site of the Beach Pneumatic Subway   \n",
       "2867               Rungis International Market   \n",
       "3465    The Forgotten Entrance to Clinton Hall   \n",
       "6263                              Toronto PATH   \n",
       "4447                  Mµseum - The Tiny Museum   \n",
       "4568                     Moscow Metro Stations   \n",
       "4963              The Oldest Fence in New York   \n",
       "1090                     Euston's Lost Tunnels   \n",
       "3582                          City Hall Urinal   \n",
       "4444                       Opa-Locka City Hall   \n",
       "5981          Kelly Butte Civil Defense Center   \n",
       "2744  Catacombs of Old St. Patrick's Cathedral   \n",
       "\n",
       "                                              placeDesc  \\\n",
       "0     The first New York City subway was built and o...   \n",
       "1004  Staring blankly into space while riding on a t...   \n",
       "5943  Alfred Beach built this pneumatic tunnel to sh...   \n",
       "2867  Five miles south of Paris, in a suburb called ...   \n",
       "3465  This blocked up doorway on a subway station ho...   \n",
       "6263  Not so hidden beneath the busy streets of Toro...   \n",
       "4447  The Mµseum (pronounced mew-zee-um) is too smal...   \n",
       "4568  Subway stations are often sordid spots, the da...   \n",
       "4963  Most visitors to Bowling Green today come to s...   \n",
       "1090  A portal into the London Underground’s past hi...   \n",
       "3582  There are plenty of public places to pee in Am...   \n",
       "4444  In a city where the town hall is a sheik’s pal...   \n",
       "5981  Kelly Butte is a long-extinct volcanic cinder ...   \n",
       "2744  The catacombs under the Old St. Patrick’s Cath...   \n",
       "\n",
       "                                               placeURL     score  \n",
       "0     https://www.atlasobscura.com/places/city-hall-...  0.989693  \n",
       "1004  https://www.atlasobscura.com/places/short-stor...  0.922755  \n",
       "5943  https://www.atlasobscura.com/places/beach-pneu...  0.896542  \n",
       "2867  https://www.atlasobscura.com/places/rungis-int...  0.858587  \n",
       "3465  https://www.atlasobscura.com/places/the-forgot...  0.850422  \n",
       "6263   https://www.atlasobscura.com/places/toronto-path  0.849627  \n",
       "4447  https://www.atlasobscura.com/places/museum-the...  0.830781  \n",
       "4568  https://www.atlasobscura.com/places/moscow-met...  0.787208  \n",
       "4963  https://www.atlasobscura.com/places/the-oldest...  0.743059  \n",
       "1090  https://www.atlasobscura.com/places/eustons-lo...  0.718009  \n",
       "3582  https://www.atlasobscura.com/places/city-hall-...  0.707520  \n",
       "4444  https://www.atlasobscura.com/places/opa-locka-...  0.706217  \n",
       "5981  https://www.atlasobscura.com/places/kelly-butt...  0.411429  \n",
       "2744  https://www.atlasobscura.com/places/catacombs-...  0.261580  "
      ]
     },
     "execution_count": 251,
     "metadata": {},
     "output_type": "execute_result"
    }
   ],
   "source": [
    "top_k = df_copy.loc[[getDocNumberFromId(i[1]) for i in docsInfo]]\n",
    "top_k_score = [i[0] for i in docsInfo]\n",
    "top_k['score'] = top_k_score\n",
    "top_k[['placeName','placeDesc','placeURL','score']]"
   ]
  },
  {
   "cell_type": "markdown",
   "id": "ca088685-bac6-448c-b68f-d75e45c7c906",
   "metadata": {},
   "source": [
    "### Report"
   ]
  },
  {
   "cell_type": "markdown",
   "id": "cf9e8d34-3d4c-4305-8bd1-b1fa3f0f3f26",
   "metadata": {},
   "source": [
    "The new query is pretty different from the previous one since it explore more than one cell. This is done in order to show to the user as many results as possible, since the goal is to keep the user on the search engine for as much time as possible. Exploring more cells is expecially important for queries that have only a few matches (es. try executing the query *'software engineer'*), because it allows to give more feedbacks to the user.<br> Setting the query aside, let's talk about the score. I think the new score is more efficient than the old one: let's take, for example, the query *'City Hall Station'*, in the new score, the article with the title 'City Hall Station' is in first position and that's correct since it's the one with most correlation. But with the old score, this article is only sixth. That's because most of the times considering the description as the only and most important source of information can lead to erroneous conclusion."
   ]
  },
  {
   "cell_type": "markdown",
   "id": "99f41688-9f8b-46cb-86fd-d91e3ac343a7",
   "metadata": {
    "tags": []
   },
   "source": [
    "# 4. Visualizing the most relevant places\n"
   ]
  },
  {
   "cell_type": "code",
   "execution_count": 294,
   "id": "777af515-7789-4cf4-b2e1-0a8386ef48a1",
   "metadata": {},
   "outputs": [
    {
     "data": {
      "application/vnd.plotly.v1+json": {
       "config": {
        "plotlyServerURL": "https://plot.ly"
       },
       "data": [
        {
         "customdata": [
          [
           1828,
           "31 Centre St New York, New York, 10007 United States"
          ],
          [
           228,
           "916 Kearny St San Francisco, California United States"
          ],
          [
           64,
           "1 Murray Street New York, New York, 10007 United States"
          ],
          [
           240,
           "1 Rue de la Tour Chevilly-Larue, 94550 France"
          ],
          [
           215,
           "Astor Place Subway Station Astor Place New York, New York, 10003 United States"
          ],
          [
           1632,
           "1 King Street West Toronto, Ontario, M5H 1A1 Canada"
          ],
          [
           141,
           "72½ Union Square Somerville, Massachusetts, 02143 United States"
          ],
          [
           779,
           "Komsomolskaya station. Moscow Russia"
          ],
          [
           569,
           "Bowling Green New York, New York, 10004 United States"
          ],
          [
           165,
           "14 Melton St London, England, NW1 2EA United Kingdom"
          ],
          [
           702,
           "195-197 Oudezijds Voorburgwal Amsterdam Netherlands"
          ],
          [
           243,
           "777 Sharazad Blvd Opa-locka, Florida, 33054 United States"
          ],
          [
           144,
           "Kelly Butte Portland, Oregon United States"
          ],
          [
           160,
           "263 Mulberry St New York, New York, 10012 United States"
          ]
         ],
         "hovertemplate": "<b>%{hovertext}</b><br><br>score=%{marker.size}<br>Lat.=%{lat}<br>Long.=%{lon}<br>Visitors=%{customdata[0]}<br>Address=%{customdata[1]}<extra></extra>",
         "hovertext": [
          "City Hall Station",
          "Short Story Vending Machine",
          "Site of the Beach Pneumatic Subway",
          "Rungis International Market",
          "The Forgotten Entrance to Clinton Hall",
          "Toronto PATH",
          "Mµseum - The Tiny Museum",
          "Moscow Metro Stations",
          "The Oldest Fence in New York",
          "Euston's Lost Tunnels",
          "City Hall Urinal",
          "Opa-Locka City Hall",
          "Kelly Butte Civil Defense Center",
          "Catacombs of Old St. Patrick's Cathedral"
         ],
         "lat": [
          40.7134,
          37.7966,
          40.713,
          48.7621,
          40.7298,
          43.6487,
          42.3803,
          55.7763,
          40.7049,
          51.5275,
          52.3714,
          25.9059,
          45.5011,
          40.7236
         ],
         "legendgroup": "",
         "lon": [
          -74.0046,
          -122.405,
          -74.0065,
          2.361,
          -73.9914,
          -79.3781,
          -71.0968,
          37.6558,
          -74.0137,
          -0.1348,
          4.8955,
          -80.2533,
          -122.5542,
          -73.9949
         ],
         "marker": {
          "color": "red",
          "size": [
           0.9896927698886843,
           0.9227554737101432,
           0.8965423535704831,
           0.8585870804444051,
           0.8504221846468717,
           0.849626981248647,
           0.8307806639819978,
           0.787207796577027,
           0.7430589978888028,
           0.7180088249006984,
           0.7075199107275614,
           0.7062172890358892,
           0.41142933404863985,
           0.2615804558594797
          ],
          "sizemode": "area",
          "sizeref": 0.0024742319247217106
         },
         "mode": "markers",
         "name": "",
         "showlegend": false,
         "subplot": "mapbox",
         "type": "scattermapbox"
        }
       ],
       "layout": {
        "height": 600,
        "legend": {
         "itemsizing": "constant",
         "tracegroupgap": 0
        },
        "mapbox": {
         "center": {
          "lat": 43.37532857142857,
          "lon": -57.20864285714287
         },
         "domain": {
          "x": [
           0,
           1
          ],
          "y": [
           0,
           1
          ]
         },
         "style": "open-street-map",
         "zoom": 2
        },
        "margin": {
         "b": 0,
         "l": 0,
         "r": 0,
         "t": 0
        },
        "template": {
         "data": {
          "bar": [
           {
            "error_x": {
             "color": "#2a3f5f"
            },
            "error_y": {
             "color": "#2a3f5f"
            },
            "marker": {
             "line": {
              "color": "#E5ECF6",
              "width": 0.5
             },
             "pattern": {
              "fillmode": "overlay",
              "size": 10,
              "solidity": 0.2
             }
            },
            "type": "bar"
           }
          ],
          "barpolar": [
           {
            "marker": {
             "line": {
              "color": "#E5ECF6",
              "width": 0.5
             },
             "pattern": {
              "fillmode": "overlay",
              "size": 10,
              "solidity": 0.2
             }
            },
            "type": "barpolar"
           }
          ],
          "carpet": [
           {
            "aaxis": {
             "endlinecolor": "#2a3f5f",
             "gridcolor": "white",
             "linecolor": "white",
             "minorgridcolor": "white",
             "startlinecolor": "#2a3f5f"
            },
            "baxis": {
             "endlinecolor": "#2a3f5f",
             "gridcolor": "white",
             "linecolor": "white",
             "minorgridcolor": "white",
             "startlinecolor": "#2a3f5f"
            },
            "type": "carpet"
           }
          ],
          "choropleth": [
           {
            "colorbar": {
             "outlinewidth": 0,
             "ticks": ""
            },
            "type": "choropleth"
           }
          ],
          "contour": [
           {
            "colorbar": {
             "outlinewidth": 0,
             "ticks": ""
            },
            "colorscale": [
             [
              0,
              "#0d0887"
             ],
             [
              0.1111111111111111,
              "#46039f"
             ],
             [
              0.2222222222222222,
              "#7201a8"
             ],
             [
              0.3333333333333333,
              "#9c179e"
             ],
             [
              0.4444444444444444,
              "#bd3786"
             ],
             [
              0.5555555555555556,
              "#d8576b"
             ],
             [
              0.6666666666666666,
              "#ed7953"
             ],
             [
              0.7777777777777778,
              "#fb9f3a"
             ],
             [
              0.8888888888888888,
              "#fdca26"
             ],
             [
              1,
              "#f0f921"
             ]
            ],
            "type": "contour"
           }
          ],
          "contourcarpet": [
           {
            "colorbar": {
             "outlinewidth": 0,
             "ticks": ""
            },
            "type": "contourcarpet"
           }
          ],
          "heatmap": [
           {
            "colorbar": {
             "outlinewidth": 0,
             "ticks": ""
            },
            "colorscale": [
             [
              0,
              "#0d0887"
             ],
             [
              0.1111111111111111,
              "#46039f"
             ],
             [
              0.2222222222222222,
              "#7201a8"
             ],
             [
              0.3333333333333333,
              "#9c179e"
             ],
             [
              0.4444444444444444,
              "#bd3786"
             ],
             [
              0.5555555555555556,
              "#d8576b"
             ],
             [
              0.6666666666666666,
              "#ed7953"
             ],
             [
              0.7777777777777778,
              "#fb9f3a"
             ],
             [
              0.8888888888888888,
              "#fdca26"
             ],
             [
              1,
              "#f0f921"
             ]
            ],
            "type": "heatmap"
           }
          ],
          "heatmapgl": [
           {
            "colorbar": {
             "outlinewidth": 0,
             "ticks": ""
            },
            "colorscale": [
             [
              0,
              "#0d0887"
             ],
             [
              0.1111111111111111,
              "#46039f"
             ],
             [
              0.2222222222222222,
              "#7201a8"
             ],
             [
              0.3333333333333333,
              "#9c179e"
             ],
             [
              0.4444444444444444,
              "#bd3786"
             ],
             [
              0.5555555555555556,
              "#d8576b"
             ],
             [
              0.6666666666666666,
              "#ed7953"
             ],
             [
              0.7777777777777778,
              "#fb9f3a"
             ],
             [
              0.8888888888888888,
              "#fdca26"
             ],
             [
              1,
              "#f0f921"
             ]
            ],
            "type": "heatmapgl"
           }
          ],
          "histogram": [
           {
            "marker": {
             "pattern": {
              "fillmode": "overlay",
              "size": 10,
              "solidity": 0.2
             }
            },
            "type": "histogram"
           }
          ],
          "histogram2d": [
           {
            "colorbar": {
             "outlinewidth": 0,
             "ticks": ""
            },
            "colorscale": [
             [
              0,
              "#0d0887"
             ],
             [
              0.1111111111111111,
              "#46039f"
             ],
             [
              0.2222222222222222,
              "#7201a8"
             ],
             [
              0.3333333333333333,
              "#9c179e"
             ],
             [
              0.4444444444444444,
              "#bd3786"
             ],
             [
              0.5555555555555556,
              "#d8576b"
             ],
             [
              0.6666666666666666,
              "#ed7953"
             ],
             [
              0.7777777777777778,
              "#fb9f3a"
             ],
             [
              0.8888888888888888,
              "#fdca26"
             ],
             [
              1,
              "#f0f921"
             ]
            ],
            "type": "histogram2d"
           }
          ],
          "histogram2dcontour": [
           {
            "colorbar": {
             "outlinewidth": 0,
             "ticks": ""
            },
            "colorscale": [
             [
              0,
              "#0d0887"
             ],
             [
              0.1111111111111111,
              "#46039f"
             ],
             [
              0.2222222222222222,
              "#7201a8"
             ],
             [
              0.3333333333333333,
              "#9c179e"
             ],
             [
              0.4444444444444444,
              "#bd3786"
             ],
             [
              0.5555555555555556,
              "#d8576b"
             ],
             [
              0.6666666666666666,
              "#ed7953"
             ],
             [
              0.7777777777777778,
              "#fb9f3a"
             ],
             [
              0.8888888888888888,
              "#fdca26"
             ],
             [
              1,
              "#f0f921"
             ]
            ],
            "type": "histogram2dcontour"
           }
          ],
          "mesh3d": [
           {
            "colorbar": {
             "outlinewidth": 0,
             "ticks": ""
            },
            "type": "mesh3d"
           }
          ],
          "parcoords": [
           {
            "line": {
             "colorbar": {
              "outlinewidth": 0,
              "ticks": ""
             }
            },
            "type": "parcoords"
           }
          ],
          "pie": [
           {
            "automargin": true,
            "type": "pie"
           }
          ],
          "scatter": [
           {
            "fillpattern": {
             "fillmode": "overlay",
             "size": 10,
             "solidity": 0.2
            },
            "type": "scatter"
           }
          ],
          "scatter3d": [
           {
            "line": {
             "colorbar": {
              "outlinewidth": 0,
              "ticks": ""
             }
            },
            "marker": {
             "colorbar": {
              "outlinewidth": 0,
              "ticks": ""
             }
            },
            "type": "scatter3d"
           }
          ],
          "scattercarpet": [
           {
            "marker": {
             "colorbar": {
              "outlinewidth": 0,
              "ticks": ""
             }
            },
            "type": "scattercarpet"
           }
          ],
          "scattergeo": [
           {
            "marker": {
             "colorbar": {
              "outlinewidth": 0,
              "ticks": ""
             }
            },
            "type": "scattergeo"
           }
          ],
          "scattergl": [
           {
            "marker": {
             "colorbar": {
              "outlinewidth": 0,
              "ticks": ""
             }
            },
            "type": "scattergl"
           }
          ],
          "scattermapbox": [
           {
            "marker": {
             "colorbar": {
              "outlinewidth": 0,
              "ticks": ""
             }
            },
            "type": "scattermapbox"
           }
          ],
          "scatterpolar": [
           {
            "marker": {
             "colorbar": {
              "outlinewidth": 0,
              "ticks": ""
             }
            },
            "type": "scatterpolar"
           }
          ],
          "scatterpolargl": [
           {
            "marker": {
             "colorbar": {
              "outlinewidth": 0,
              "ticks": ""
             }
            },
            "type": "scatterpolargl"
           }
          ],
          "scatterternary": [
           {
            "marker": {
             "colorbar": {
              "outlinewidth": 0,
              "ticks": ""
             }
            },
            "type": "scatterternary"
           }
          ],
          "surface": [
           {
            "colorbar": {
             "outlinewidth": 0,
             "ticks": ""
            },
            "colorscale": [
             [
              0,
              "#0d0887"
             ],
             [
              0.1111111111111111,
              "#46039f"
             ],
             [
              0.2222222222222222,
              "#7201a8"
             ],
             [
              0.3333333333333333,
              "#9c179e"
             ],
             [
              0.4444444444444444,
              "#bd3786"
             ],
             [
              0.5555555555555556,
              "#d8576b"
             ],
             [
              0.6666666666666666,
              "#ed7953"
             ],
             [
              0.7777777777777778,
              "#fb9f3a"
             ],
             [
              0.8888888888888888,
              "#fdca26"
             ],
             [
              1,
              "#f0f921"
             ]
            ],
            "type": "surface"
           }
          ],
          "table": [
           {
            "cells": {
             "fill": {
              "color": "#EBF0F8"
             },
             "line": {
              "color": "white"
             }
            },
            "header": {
             "fill": {
              "color": "#C8D4E3"
             },
             "line": {
              "color": "white"
             }
            },
            "type": "table"
           }
          ]
         },
         "layout": {
          "annotationdefaults": {
           "arrowcolor": "#2a3f5f",
           "arrowhead": 0,
           "arrowwidth": 1
          },
          "autotypenumbers": "strict",
          "coloraxis": {
           "colorbar": {
            "outlinewidth": 0,
            "ticks": ""
           }
          },
          "colorscale": {
           "diverging": [
            [
             0,
             "#8e0152"
            ],
            [
             0.1,
             "#c51b7d"
            ],
            [
             0.2,
             "#de77ae"
            ],
            [
             0.3,
             "#f1b6da"
            ],
            [
             0.4,
             "#fde0ef"
            ],
            [
             0.5,
             "#f7f7f7"
            ],
            [
             0.6,
             "#e6f5d0"
            ],
            [
             0.7,
             "#b8e186"
            ],
            [
             0.8,
             "#7fbc41"
            ],
            [
             0.9,
             "#4d9221"
            ],
            [
             1,
             "#276419"
            ]
           ],
           "sequential": [
            [
             0,
             "#0d0887"
            ],
            [
             0.1111111111111111,
             "#46039f"
            ],
            [
             0.2222222222222222,
             "#7201a8"
            ],
            [
             0.3333333333333333,
             "#9c179e"
            ],
            [
             0.4444444444444444,
             "#bd3786"
            ],
            [
             0.5555555555555556,
             "#d8576b"
            ],
            [
             0.6666666666666666,
             "#ed7953"
            ],
            [
             0.7777777777777778,
             "#fb9f3a"
            ],
            [
             0.8888888888888888,
             "#fdca26"
            ],
            [
             1,
             "#f0f921"
            ]
           ],
           "sequentialminus": [
            [
             0,
             "#0d0887"
            ],
            [
             0.1111111111111111,
             "#46039f"
            ],
            [
             0.2222222222222222,
             "#7201a8"
            ],
            [
             0.3333333333333333,
             "#9c179e"
            ],
            [
             0.4444444444444444,
             "#bd3786"
            ],
            [
             0.5555555555555556,
             "#d8576b"
            ],
            [
             0.6666666666666666,
             "#ed7953"
            ],
            [
             0.7777777777777778,
             "#fb9f3a"
            ],
            [
             0.8888888888888888,
             "#fdca26"
            ],
            [
             1,
             "#f0f921"
            ]
           ]
          },
          "colorway": [
           "#636efa",
           "#EF553B",
           "#00cc96",
           "#ab63fa",
           "#FFA15A",
           "#19d3f3",
           "#FF6692",
           "#B6E880",
           "#FF97FF",
           "#FECB52"
          ],
          "font": {
           "color": "#2a3f5f"
          },
          "geo": {
           "bgcolor": "white",
           "lakecolor": "white",
           "landcolor": "#E5ECF6",
           "showlakes": true,
           "showland": true,
           "subunitcolor": "white"
          },
          "hoverlabel": {
           "align": "left"
          },
          "hovermode": "closest",
          "mapbox": {
           "style": "light"
          },
          "paper_bgcolor": "white",
          "plot_bgcolor": "#E5ECF6",
          "polar": {
           "angularaxis": {
            "gridcolor": "white",
            "linecolor": "white",
            "ticks": ""
           },
           "bgcolor": "#E5ECF6",
           "radialaxis": {
            "gridcolor": "white",
            "linecolor": "white",
            "ticks": ""
           }
          },
          "scene": {
           "xaxis": {
            "backgroundcolor": "#E5ECF6",
            "gridcolor": "white",
            "gridwidth": 2,
            "linecolor": "white",
            "showbackground": true,
            "ticks": "",
            "zerolinecolor": "white"
           },
           "yaxis": {
            "backgroundcolor": "#E5ECF6",
            "gridcolor": "white",
            "gridwidth": 2,
            "linecolor": "white",
            "showbackground": true,
            "ticks": "",
            "zerolinecolor": "white"
           },
           "zaxis": {
            "backgroundcolor": "#E5ECF6",
            "gridcolor": "white",
            "gridwidth": 2,
            "linecolor": "white",
            "showbackground": true,
            "ticks": "",
            "zerolinecolor": "white"
           }
          },
          "shapedefaults": {
           "line": {
            "color": "#2a3f5f"
           }
          },
          "ternary": {
           "aaxis": {
            "gridcolor": "white",
            "linecolor": "white",
            "ticks": ""
           },
           "baxis": {
            "gridcolor": "white",
            "linecolor": "white",
            "ticks": ""
           },
           "bgcolor": "#E5ECF6",
           "caxis": {
            "gridcolor": "white",
            "linecolor": "white",
            "ticks": ""
           }
          },
          "title": {
           "x": 0.05
          },
          "xaxis": {
           "automargin": true,
           "gridcolor": "white",
           "linecolor": "white",
           "ticks": "",
           "title": {
            "standoff": 15
           },
           "zerolinecolor": "white",
           "zerolinewidth": 2
          },
          "yaxis": {
           "automargin": true,
           "gridcolor": "white",
           "linecolor": "white",
           "ticks": "",
           "title": {
            "standoff": 15
           },
           "zerolinecolor": "white",
           "zerolinewidth": 2
          }
         }
        }
       }
      },
      "text/html": [
       "<div>                            <div id=\"02dbbc42-3b26-4ea0-bab4-efac9cabbd1b\" class=\"plotly-graph-div\" style=\"height:600px; width:100%;\"></div>            <script type=\"text/javascript\">                require([\"plotly\"], function(Plotly) {                    window.PLOTLYENV=window.PLOTLYENV || {};                                    if (document.getElementById(\"02dbbc42-3b26-4ea0-bab4-efac9cabbd1b\")) {                    Plotly.newPlot(                        \"02dbbc42-3b26-4ea0-bab4-efac9cabbd1b\",                        [{\"customdata\":[[1828,\"31 Centre St New York, New York, 10007 United States\"],[228,\"916 Kearny St San Francisco, California United States\"],[64,\"1 Murray Street New York, New York, 10007 United States\"],[240,\"1 Rue de la Tour Chevilly-Larue, 94550 France\"],[215,\"Astor Place Subway Station Astor Place New York, New York, 10003 United States\"],[1632,\"1 King Street West Toronto, Ontario, M5H 1A1 Canada\"],[141,\"72\\u00bd Union Square Somerville, Massachusetts, 02143 United States\"],[779,\"Komsomolskaya station. Moscow Russia\"],[569,\"Bowling Green New York, New York, 10004 United States\"],[165,\"14 Melton St London, England, NW1 2EA United Kingdom\"],[702,\"195-197 Oudezijds Voorburgwal Amsterdam Netherlands\"],[243,\"777 Sharazad Blvd Opa-locka, Florida, 33054 United States\"],[144,\"Kelly Butte Portland, Oregon United States\"],[160,\"263 Mulberry St New York, New York, 10012 United States\"]],\"hovertemplate\":\"<b>%{hovertext}</b><br><br>score=%{marker.size}<br>Lat.=%{lat}<br>Long.=%{lon}<br>Visitors=%{customdata[0]}<br>Address=%{customdata[1]}<extra></extra>\",\"hovertext\":[\"City Hall Station\",\"Short Story Vending Machine\",\"Site of the Beach Pneumatic Subway\",\"Rungis International Market\",\"The Forgotten Entrance to Clinton Hall\",\"Toronto PATH\",\"M\\u00b5seum - The Tiny Museum\",\"Moscow Metro Stations\",\"The Oldest Fence in New York\",\"Euston's Lost Tunnels\",\"City Hall Urinal\",\"Opa-Locka City Hall\",\"Kelly Butte Civil Defense Center\",\"Catacombs of Old St. Patrick's Cathedral\"],\"lat\":[40.7134,37.7966,40.713,48.7621,40.7298,43.6487,42.3803,55.7763,40.7049,51.5275,52.3714,25.9059,45.5011,40.7236],\"legendgroup\":\"\",\"lon\":[-74.0046,-122.405,-74.0065,2.361,-73.9914,-79.3781,-71.0968,37.6558,-74.0137,-0.1348,4.8955,-80.2533,-122.5542,-73.9949],\"marker\":{\"color\":\"red\",\"size\":[0.9896927698886843,0.9227554737101432,0.8965423535704831,0.8585870804444051,0.8504221846468717,0.849626981248647,0.8307806639819978,0.787207796577027,0.7430589978888028,0.7180088249006984,0.7075199107275614,0.7062172890358892,0.41142933404863985,0.2615804558594797],\"sizemode\":\"area\",\"sizeref\":0.0024742319247217106},\"mode\":\"markers\",\"name\":\"\",\"showlegend\":false,\"subplot\":\"mapbox\",\"type\":\"scattermapbox\"}],                        {\"template\":{\"data\":{\"histogram2dcontour\":[{\"type\":\"histogram2dcontour\",\"colorbar\":{\"outlinewidth\":0,\"ticks\":\"\"},\"colorscale\":[[0.0,\"#0d0887\"],[0.1111111111111111,\"#46039f\"],[0.2222222222222222,\"#7201a8\"],[0.3333333333333333,\"#9c179e\"],[0.4444444444444444,\"#bd3786\"],[0.5555555555555556,\"#d8576b\"],[0.6666666666666666,\"#ed7953\"],[0.7777777777777778,\"#fb9f3a\"],[0.8888888888888888,\"#fdca26\"],[1.0,\"#f0f921\"]]}],\"choropleth\":[{\"type\":\"choropleth\",\"colorbar\":{\"outlinewidth\":0,\"ticks\":\"\"}}],\"histogram2d\":[{\"type\":\"histogram2d\",\"colorbar\":{\"outlinewidth\":0,\"ticks\":\"\"},\"colorscale\":[[0.0,\"#0d0887\"],[0.1111111111111111,\"#46039f\"],[0.2222222222222222,\"#7201a8\"],[0.3333333333333333,\"#9c179e\"],[0.4444444444444444,\"#bd3786\"],[0.5555555555555556,\"#d8576b\"],[0.6666666666666666,\"#ed7953\"],[0.7777777777777778,\"#fb9f3a\"],[0.8888888888888888,\"#fdca26\"],[1.0,\"#f0f921\"]]}],\"heatmap\":[{\"type\":\"heatmap\",\"colorbar\":{\"outlinewidth\":0,\"ticks\":\"\"},\"colorscale\":[[0.0,\"#0d0887\"],[0.1111111111111111,\"#46039f\"],[0.2222222222222222,\"#7201a8\"],[0.3333333333333333,\"#9c179e\"],[0.4444444444444444,\"#bd3786\"],[0.5555555555555556,\"#d8576b\"],[0.6666666666666666,\"#ed7953\"],[0.7777777777777778,\"#fb9f3a\"],[0.8888888888888888,\"#fdca26\"],[1.0,\"#f0f921\"]]}],\"heatmapgl\":[{\"type\":\"heatmapgl\",\"colorbar\":{\"outlinewidth\":0,\"ticks\":\"\"},\"colorscale\":[[0.0,\"#0d0887\"],[0.1111111111111111,\"#46039f\"],[0.2222222222222222,\"#7201a8\"],[0.3333333333333333,\"#9c179e\"],[0.4444444444444444,\"#bd3786\"],[0.5555555555555556,\"#d8576b\"],[0.6666666666666666,\"#ed7953\"],[0.7777777777777778,\"#fb9f3a\"],[0.8888888888888888,\"#fdca26\"],[1.0,\"#f0f921\"]]}],\"contourcarpet\":[{\"type\":\"contourcarpet\",\"colorbar\":{\"outlinewidth\":0,\"ticks\":\"\"}}],\"contour\":[{\"type\":\"contour\",\"colorbar\":{\"outlinewidth\":0,\"ticks\":\"\"},\"colorscale\":[[0.0,\"#0d0887\"],[0.1111111111111111,\"#46039f\"],[0.2222222222222222,\"#7201a8\"],[0.3333333333333333,\"#9c179e\"],[0.4444444444444444,\"#bd3786\"],[0.5555555555555556,\"#d8576b\"],[0.6666666666666666,\"#ed7953\"],[0.7777777777777778,\"#fb9f3a\"],[0.8888888888888888,\"#fdca26\"],[1.0,\"#f0f921\"]]}],\"surface\":[{\"type\":\"surface\",\"colorbar\":{\"outlinewidth\":0,\"ticks\":\"\"},\"colorscale\":[[0.0,\"#0d0887\"],[0.1111111111111111,\"#46039f\"],[0.2222222222222222,\"#7201a8\"],[0.3333333333333333,\"#9c179e\"],[0.4444444444444444,\"#bd3786\"],[0.5555555555555556,\"#d8576b\"],[0.6666666666666666,\"#ed7953\"],[0.7777777777777778,\"#fb9f3a\"],[0.8888888888888888,\"#fdca26\"],[1.0,\"#f0f921\"]]}],\"mesh3d\":[{\"type\":\"mesh3d\",\"colorbar\":{\"outlinewidth\":0,\"ticks\":\"\"}}],\"scatter\":[{\"fillpattern\":{\"fillmode\":\"overlay\",\"size\":10,\"solidity\":0.2},\"type\":\"scatter\"}],\"parcoords\":[{\"type\":\"parcoords\",\"line\":{\"colorbar\":{\"outlinewidth\":0,\"ticks\":\"\"}}}],\"scatterpolargl\":[{\"type\":\"scatterpolargl\",\"marker\":{\"colorbar\":{\"outlinewidth\":0,\"ticks\":\"\"}}}],\"bar\":[{\"error_x\":{\"color\":\"#2a3f5f\"},\"error_y\":{\"color\":\"#2a3f5f\"},\"marker\":{\"line\":{\"color\":\"#E5ECF6\",\"width\":0.5},\"pattern\":{\"fillmode\":\"overlay\",\"size\":10,\"solidity\":0.2}},\"type\":\"bar\"}],\"scattergeo\":[{\"type\":\"scattergeo\",\"marker\":{\"colorbar\":{\"outlinewidth\":0,\"ticks\":\"\"}}}],\"scatterpolar\":[{\"type\":\"scatterpolar\",\"marker\":{\"colorbar\":{\"outlinewidth\":0,\"ticks\":\"\"}}}],\"histogram\":[{\"marker\":{\"pattern\":{\"fillmode\":\"overlay\",\"size\":10,\"solidity\":0.2}},\"type\":\"histogram\"}],\"scattergl\":[{\"type\":\"scattergl\",\"marker\":{\"colorbar\":{\"outlinewidth\":0,\"ticks\":\"\"}}}],\"scatter3d\":[{\"type\":\"scatter3d\",\"line\":{\"colorbar\":{\"outlinewidth\":0,\"ticks\":\"\"}},\"marker\":{\"colorbar\":{\"outlinewidth\":0,\"ticks\":\"\"}}}],\"scattermapbox\":[{\"type\":\"scattermapbox\",\"marker\":{\"colorbar\":{\"outlinewidth\":0,\"ticks\":\"\"}}}],\"scatterternary\":[{\"type\":\"scatterternary\",\"marker\":{\"colorbar\":{\"outlinewidth\":0,\"ticks\":\"\"}}}],\"scattercarpet\":[{\"type\":\"scattercarpet\",\"marker\":{\"colorbar\":{\"outlinewidth\":0,\"ticks\":\"\"}}}],\"carpet\":[{\"aaxis\":{\"endlinecolor\":\"#2a3f5f\",\"gridcolor\":\"white\",\"linecolor\":\"white\",\"minorgridcolor\":\"white\",\"startlinecolor\":\"#2a3f5f\"},\"baxis\":{\"endlinecolor\":\"#2a3f5f\",\"gridcolor\":\"white\",\"linecolor\":\"white\",\"minorgridcolor\":\"white\",\"startlinecolor\":\"#2a3f5f\"},\"type\":\"carpet\"}],\"table\":[{\"cells\":{\"fill\":{\"color\":\"#EBF0F8\"},\"line\":{\"color\":\"white\"}},\"header\":{\"fill\":{\"color\":\"#C8D4E3\"},\"line\":{\"color\":\"white\"}},\"type\":\"table\"}],\"barpolar\":[{\"marker\":{\"line\":{\"color\":\"#E5ECF6\",\"width\":0.5},\"pattern\":{\"fillmode\":\"overlay\",\"size\":10,\"solidity\":0.2}},\"type\":\"barpolar\"}],\"pie\":[{\"automargin\":true,\"type\":\"pie\"}]},\"layout\":{\"autotypenumbers\":\"strict\",\"colorway\":[\"#636efa\",\"#EF553B\",\"#00cc96\",\"#ab63fa\",\"#FFA15A\",\"#19d3f3\",\"#FF6692\",\"#B6E880\",\"#FF97FF\",\"#FECB52\"],\"font\":{\"color\":\"#2a3f5f\"},\"hovermode\":\"closest\",\"hoverlabel\":{\"align\":\"left\"},\"paper_bgcolor\":\"white\",\"plot_bgcolor\":\"#E5ECF6\",\"polar\":{\"bgcolor\":\"#E5ECF6\",\"angularaxis\":{\"gridcolor\":\"white\",\"linecolor\":\"white\",\"ticks\":\"\"},\"radialaxis\":{\"gridcolor\":\"white\",\"linecolor\":\"white\",\"ticks\":\"\"}},\"ternary\":{\"bgcolor\":\"#E5ECF6\",\"aaxis\":{\"gridcolor\":\"white\",\"linecolor\":\"white\",\"ticks\":\"\"},\"baxis\":{\"gridcolor\":\"white\",\"linecolor\":\"white\",\"ticks\":\"\"},\"caxis\":{\"gridcolor\":\"white\",\"linecolor\":\"white\",\"ticks\":\"\"}},\"coloraxis\":{\"colorbar\":{\"outlinewidth\":0,\"ticks\":\"\"}},\"colorscale\":{\"sequential\":[[0.0,\"#0d0887\"],[0.1111111111111111,\"#46039f\"],[0.2222222222222222,\"#7201a8\"],[0.3333333333333333,\"#9c179e\"],[0.4444444444444444,\"#bd3786\"],[0.5555555555555556,\"#d8576b\"],[0.6666666666666666,\"#ed7953\"],[0.7777777777777778,\"#fb9f3a\"],[0.8888888888888888,\"#fdca26\"],[1.0,\"#f0f921\"]],\"sequentialminus\":[[0.0,\"#0d0887\"],[0.1111111111111111,\"#46039f\"],[0.2222222222222222,\"#7201a8\"],[0.3333333333333333,\"#9c179e\"],[0.4444444444444444,\"#bd3786\"],[0.5555555555555556,\"#d8576b\"],[0.6666666666666666,\"#ed7953\"],[0.7777777777777778,\"#fb9f3a\"],[0.8888888888888888,\"#fdca26\"],[1.0,\"#f0f921\"]],\"diverging\":[[0,\"#8e0152\"],[0.1,\"#c51b7d\"],[0.2,\"#de77ae\"],[0.3,\"#f1b6da\"],[0.4,\"#fde0ef\"],[0.5,\"#f7f7f7\"],[0.6,\"#e6f5d0\"],[0.7,\"#b8e186\"],[0.8,\"#7fbc41\"],[0.9,\"#4d9221\"],[1,\"#276419\"]]},\"xaxis\":{\"gridcolor\":\"white\",\"linecolor\":\"white\",\"ticks\":\"\",\"title\":{\"standoff\":15},\"zerolinecolor\":\"white\",\"automargin\":true,\"zerolinewidth\":2},\"yaxis\":{\"gridcolor\":\"white\",\"linecolor\":\"white\",\"ticks\":\"\",\"title\":{\"standoff\":15},\"zerolinecolor\":\"white\",\"automargin\":true,\"zerolinewidth\":2},\"scene\":{\"xaxis\":{\"backgroundcolor\":\"#E5ECF6\",\"gridcolor\":\"white\",\"linecolor\":\"white\",\"showbackground\":true,\"ticks\":\"\",\"zerolinecolor\":\"white\",\"gridwidth\":2},\"yaxis\":{\"backgroundcolor\":\"#E5ECF6\",\"gridcolor\":\"white\",\"linecolor\":\"white\",\"showbackground\":true,\"ticks\":\"\",\"zerolinecolor\":\"white\",\"gridwidth\":2},\"zaxis\":{\"backgroundcolor\":\"#E5ECF6\",\"gridcolor\":\"white\",\"linecolor\":\"white\",\"showbackground\":true,\"ticks\":\"\",\"zerolinecolor\":\"white\",\"gridwidth\":2}},\"shapedefaults\":{\"line\":{\"color\":\"#2a3f5f\"}},\"annotationdefaults\":{\"arrowcolor\":\"#2a3f5f\",\"arrowhead\":0,\"arrowwidth\":1},\"geo\":{\"bgcolor\":\"white\",\"landcolor\":\"#E5ECF6\",\"subunitcolor\":\"white\",\"showland\":true,\"showlakes\":true,\"lakecolor\":\"white\"},\"title\":{\"x\":0.05},\"mapbox\":{\"style\":\"light\"}}},\"mapbox\":{\"domain\":{\"x\":[0.0,1.0],\"y\":[0.0,1.0]},\"center\":{\"lat\":43.37532857142857,\"lon\":-57.20864285714287},\"zoom\":2,\"style\":\"open-street-map\"},\"legend\":{\"tracegroupgap\":0,\"itemsizing\":\"constant\"},\"margin\":{\"t\":0,\"r\":0,\"l\":0,\"b\":0},\"height\":600},                        {\"responsive\": true}                    ).then(function(){\n",
       "                            \n",
       "var gd = document.getElementById('02dbbc42-3b26-4ea0-bab4-efac9cabbd1b');\n",
       "var x = new MutationObserver(function (mutations, observer) {{\n",
       "        var display = window.getComputedStyle(gd).display;\n",
       "        if (!display || display === 'none') {{\n",
       "            console.log([gd, 'removed!']);\n",
       "            Plotly.purge(gd);\n",
       "            observer.disconnect();\n",
       "        }}\n",
       "}});\n",
       "\n",
       "// Listen for the removal of the full notebook cells\n",
       "var notebookContainer = gd.closest('#notebook-container');\n",
       "if (notebookContainer) {{\n",
       "    x.observe(notebookContainer, {childList: true});\n",
       "}}\n",
       "\n",
       "// Listen for the clearing of the current output cell\n",
       "var outputEl = gd.closest('.output');\n",
       "if (outputEl) {{\n",
       "    x.observe(outputEl, {childList: true});\n",
       "}}\n",
       "\n",
       "                        })                };                });            </script>        </div>"
      ]
     },
     "metadata": {},
     "output_type": "display_data"
    }
   ],
   "source": [
    "import plotly.express as px\n",
    "\n",
    "fig = px.scatter_mapbox(top_k, lat= 'placeAlt', lon = 'placeLong', hover_name = 'placeName', hover_data=[\"numPeopleVisited\", \"placeAddress\"], color_discrete_sequence=[\"red\"], zoom=2,  height = 600, size=\"score\",\n",
    "                        labels={\"placeAlt\":\"Lat.\", \"placeLong\": \"Long.\", \"numPeopleVisited\": \"Visitors\", \"placeAddress\":\"Address\"})\n",
    "fig.update_layout(mapbox_style=\"open-street-map\")\n",
    "fig.update_layout(margin={\"r\":0, \"t\":0, \"l\":0, \"b\":0})\n",
    "fig.show()"
   ]
  },
  {
   "cell_type": "markdown",
   "id": "48dcbf03-0934-42d8-a3f6-8be66f144efe",
   "metadata": {},
   "source": [
    "# 5. BONUS: More complex search engine\n",
    "\n",
    "IMPORTANT: This is a bonus step, so it's not mandatory. You can get the maximum score also without doing this. We will take this into account, only if the rest of the homework has been completed.\n",
    "\n",
    "For the Bonus part, we want to ask you more sophisticated search engine. Here we want to let users issue more complex queries. The options of this new search engine are:\n",
    "\n",
    "1. Give the possibility to specify queries for the following features (the user should have the option to issue none or all of them):\n",
    "\n",
    "    -placeName\n",
    "    \n",
    "    -placeDesc\n",
    "    \n",
    "    -placeAddress\n",
    "    \n",
    "\n",
    "2. Specify a list of usernames to only retrieve the posts that all of these users contributed to.\n",
    "3. Specify a list of tags which the search engine should only return the places that are tagged with all of those tags.\n",
    "4. Filter based on the number of people who have already been there. The user should be able to adjust the upperbound, lowerbound or only one of the two.\n",
    "5. Specify a list of the list names that the engine should only filter the documents that have been included in all of the given list names.\n",
    "\n",
    "Note 1: You should be aware that you should give the user the possibility to select any of the abovementioned options. How should the user use the options? We will accept any manual that you provide to the user.\n",
    "\n",
    "Note 2: As you may have realized from 1st option, you need to build inverted indexes for those values and return all of the documents that have the similarity more than 0 concerning the given queries. Choose a logical way to aggregate the similarity coming from each of them and explain your idea in detail.\n",
    "\n",
    "Note 3: The options other than 1st one can be considered as filtering criteria so the retrieved documents must respect all of those filters.\n",
    "\n",
    "The output must contain the following information about the places: \n",
    "\n",
    "    -placeName\n",
    "    -placeURL\n",
    " \n",
    "\n",
    "    \n",
    "\n",
    "## Readme\n",
    "This bonus point is divided into two parts: in the first part we show in details the construction of the components of the search engine (made by the user interface to insert the query, the calculus of the similarity' and the filters; in the second part ($\\textbf{Final result}$)  all this component are merged togheter. \n",
    "\n",
    "So if you wanna check only the final result and use the search engine please run all and go ahead to the last point."
   ]
  },
  {
   "cell_type": "markdown",
   "id": "0758dcb5-e736-47c4-82d5-b78e30ea1179",
   "metadata": {},
   "source": [
    "# 5.1 Collect the information needed to define the query\n",
    "\n",
    "In this step we decide to create a sort of 'interactive' interface that collect the information to build your query. The code is a little bit heavy but it is so simple: it's all built with if-else trees and print sentences every step to give you the manual on how to insert your query. The only thing that the user have to do is to execute this cell and follow the instruction. The final result will be a collection of variable that will be used to build the query in the following cell. \n",
    "\n",
    "\n",
    "This code allow to the users to decide which info he wanna insert and which not. After all the questions made by the 'system' the user will also be able to see the information that he insert and also start again the research if he do something wrong. The result will be the creation of the variable that will composed the query:\n",
    "\n",
    "Name: 'string'\n",
    "\n",
    "Description: 'string'\n",
    "\n",
    "Address: 'string\n",
    "\n",
    "List of Username: 'list'\n",
    "\n",
    "PlaceTags: 'list' \n",
    "\n",
    "Upperbound: 'int'\n",
    "\n",
    "Lowerbound: 'int'\n",
    "\n",
    "Related list: 'list'\n",
    "\n",
    "The users doesn't have to know everything, just run the cell and follow the instructions. "
   ]
  },
  {
   "cell_type": "code",
   "execution_count": 259,
   "id": "cf79e7fa-0d68-4864-8c51-b379e9dbfe49",
   "metadata": {},
   "outputs": [],
   "source": [
    "def user_interface():\n",
    "    print(\"Hi, i'm your search engine. Let's start collecting info about your interest. Say 'continue' everytime you wanna do a new research :)\")\n",
    "    \n",
    "    \n",
    "    global name, desc, address, list_of_users, placeTag, up, low, related_list\n",
    "    \n",
    "    res = input().lower()\n",
    "\n",
    "    while res == 'continue':\n",
    "\n",
    "        #1\n",
    "\n",
    "        print(\"First of all we wanna collect the information that you need to search...\")\n",
    "\n",
    "        print(\"How many features do you wanna insert between 'placeName', 'placeDesc' and 'placeAddress'. Digit a number between 0 and 3.\")\n",
    "\n",
    "        n_1 = input()\n",
    "\n",
    "        if n_1 == str(3):\n",
    "\n",
    "            print(\"Please digit the placeName\")\n",
    "\n",
    "            name = input()\n",
    "\n",
    "            print(\"Please digit the placeDesc\")\n",
    "\n",
    "            desc = input()\n",
    "\n",
    "            print(\"Please digit the placeAddress\")\n",
    "\n",
    "            address = input()\n",
    "\n",
    "        elif n_1 == str(2): \n",
    "\n",
    "            print(\"Which one do you wanna insert ('placeName', 'placeDesc' or 'placeAddress')? Please digit the two features separated by enter command\")\n",
    "\n",
    "            l = [input().lower(), input().lower()]\n",
    "\n",
    "            if \"placename\" in l and \"placedesc\" in l: \n",
    "\n",
    "                print(\"Please insert the placeName\")\n",
    "\n",
    "                name = input()\n",
    "\n",
    "                print(\"Please insert the placeDesc\")\n",
    "\n",
    "                desc = input()\n",
    "\n",
    "                address = 'None'\n",
    "\n",
    "            elif \"placename\" in l and 'placeaddress' in l:\n",
    "\n",
    "                print(\"Please insert the placeName\")\n",
    "\n",
    "                name = input()\n",
    "\n",
    "                print(\"Please insert the placeAddress\")\n",
    "\n",
    "                address = input()\n",
    "\n",
    "                desc = 'None'\n",
    "\n",
    "            elif \"placedesc\" in l and 'placeaddress' in l: \n",
    "\n",
    "                print(\"Please insert the placeDesc\")\n",
    "\n",
    "                desc = input()\n",
    "\n",
    "                print(\"Please insert the placeAddress\")\n",
    "\n",
    "                address = input()\n",
    "\n",
    "                name = 'None'\n",
    "\n",
    "            else: \n",
    "\n",
    "                print(\"You have probably written something wrong, please restart the search engine :(\")\n",
    "\n",
    "        elif n_1 == str(1):\n",
    "\n",
    "            print(\"Which one do you wanna insert ('placeName', 'placeDesc' or 'placeAddress')?\")\n",
    "\n",
    "            if input().lower() == 'placename':\n",
    "\n",
    "                print(\"insert the placeName\")\n",
    "\n",
    "                name = input()\n",
    "\n",
    "                desc = 'None'\n",
    "\n",
    "                address = 'None'\n",
    "\n",
    "            elif input().lower() == 'placedesc':\n",
    "\n",
    "                print(\"insert the placeDesc\")\n",
    "\n",
    "                desc = input()\n",
    "\n",
    "                name = 'None'\n",
    "\n",
    "                address = 'None'\n",
    "\n",
    "            elif input().lower() == 'placeaddress': \n",
    "\n",
    "                print(\"insert the placeAddress\")\n",
    "\n",
    "                address = input()\n",
    "\n",
    "                name = 'None'\n",
    "\n",
    "                address = 'None'\n",
    "\n",
    "            else: \n",
    "\n",
    "                print(\"You have probably written something wrong, please restart the search engine :(\")\n",
    "\n",
    "        elif n_1 ==str(0): \n",
    "\n",
    "            print(\"You haven't choose none of them. Let's continue :) \")\n",
    "\n",
    "            name = 'None'\n",
    "\n",
    "            address = 'None'\n",
    "\n",
    "            desc = 'None'\n",
    "\n",
    "        #2\n",
    "\n",
    "        print(\"Do you wanna filter your research based on username? \\n I'll check if one of the users that you digit worked on the article. \\n Answer 'yes' or 'no'. \")\n",
    "\n",
    "        n_2 = input().lower()\n",
    "\n",
    "        list_of_users = []\n",
    "\n",
    "        if n_2 == 'no': \n",
    "\n",
    "            print(\"So let's continue with the next question :) \")\n",
    "\n",
    "        elif n_2 == 'yes': \n",
    "\n",
    "            print(\"How many users do you wanna insert? Please insert a number.\")\n",
    "\n",
    "            n_us = int(input())\n",
    "\n",
    "            print(\"Insert the users pressing enter after each insertion: \")\n",
    "\n",
    "            for i in range(n_us): \n",
    "\n",
    "                list_of_users.append(input())\n",
    "\n",
    "            print(\"Are you happy with your choice? Press 'yes' or 'no'. You can read your insertion below: \")\n",
    "\n",
    "            for i in range(len(list_of_users)): \n",
    "\n",
    "                print(list_of_users[i])\n",
    "\n",
    "            answer = input().lower()\n",
    "\n",
    "            if answer == 'yes': \n",
    "\n",
    "                print(\"So let's continue with the next question :) \")\n",
    "\n",
    "            elif answer == 'no':\n",
    "\n",
    "                print(\"Insert the users pressing enter after each insertion. You have only one more chance.\")\n",
    "\n",
    "                list_of_users = []\n",
    "\n",
    "                for i in range(n_us): \n",
    "\n",
    "                    list_of_users.append(input())\n",
    "\n",
    "                print(\"You can read your insertion below: \")\n",
    "\n",
    "                for i in range(len(list_of_users)): \n",
    "\n",
    "                    print(list_of_users[i])\n",
    "\n",
    "                print(\"So let's continue with the next question :) \")\n",
    "\n",
    "\n",
    "        #3        \n",
    "\n",
    "        print(\"Do you wanna insert any placeTags? Digit 'yes' or 'no'\")\n",
    "\n",
    "        n_3 = input().lower()\n",
    "\n",
    "        if n_3 == 'no':\n",
    "            \n",
    "            placeTag = 'None'\n",
    "\n",
    "            print(\"So let's continue with the next question :) \")\n",
    "\n",
    "        elif n_3 == 'yes': \n",
    "\n",
    "            print(\"Insert the placeTags space separated: \")\n",
    "\n",
    "            placeTag = input()\n",
    "\n",
    "            print(\"You have inserted the following placetags, are you happy with that? Say 'yes' or 'no'\")\n",
    "            \n",
    "            ##\n",
    "            print(placeTag)\n",
    "            \n",
    "            answer_2 = input()\n",
    "\n",
    "            if answer_2 == 'yes':\n",
    "\n",
    "                print(\"So let's continue with the next question :) \")\n",
    "\n",
    "            elif answer_2 == 'no': \n",
    "\n",
    "                print (\"Insert the placeTag space separated. You have only one more chance.\")\n",
    "\n",
    "                placeTag = input()\n",
    "                \n",
    "\n",
    "                print(\"So let's continue with the next question :) \")\n",
    "\n",
    "        #4\n",
    "\n",
    "        print(\"Do you wanna filter by number of people who have already been there? Digit 'yes' or 'no'\")\n",
    "\n",
    "        answer_3 = input().lower()\n",
    "\n",
    "        if answer_3 == 'no':\n",
    "\n",
    "            print(\"So let's continue with the next question :) \")\n",
    "\n",
    "            up = 0\n",
    "\n",
    "            low = 0\n",
    "\n",
    "        elif answer_3 =='yes': \n",
    "\n",
    "            print(\"Insert a lowerbound. Press '0' if you don't wanna specify that\")\n",
    "\n",
    "            low = int(input())\n",
    "\n",
    "            if low == 0:\n",
    "\n",
    "                print(\"So let's continue with the next question :) \")\n",
    "\n",
    "            if low != 0:\n",
    "\n",
    "                print(\"You have inserted \" + str(low) + \" as lowerbound\")\n",
    "\n",
    "            print(\"Insert a upperbound. Press '0' if you don't wanna specify that\")\n",
    "\n",
    "            up = int(input())\n",
    "\n",
    "            if up == 0:\n",
    "\n",
    "                print(\"So let's continue with the next question :) \")\n",
    "\n",
    "            if up != 0:\n",
    "\n",
    "                print(\"You have inserted \" + str(up) + \" as upperbound\")\n",
    "\n",
    "\n",
    "        #5\n",
    "\n",
    "        print(\"Do you wanna filter by list in which the places are include? Please say 'yes' or 'no'\")\n",
    "\n",
    "        answer_5 = input()\n",
    "        \n",
    "\n",
    "        if answer_5 == 'no':\n",
    "            \n",
    "            related_list = 'None'\n",
    "\n",
    "            print(\"Ok. The following lines are the info that we collected for your query: \")\n",
    "            print(\"Name: \" + name + \"\\n\" + \"Description: \" + desc + '\\n' + \"Address: \" + address)\n",
    "            print(\"List of Username: \")\n",
    "            print(list_of_users)\n",
    "            print(\"PlaceTags: \")\n",
    "            print(placeTag)\n",
    "            print(\"Upperbound: \" + str(up))\n",
    "            print(\"Lowerbound: \" + str(low))\n",
    "            print(\"Related list: \")\n",
    "            print(related_list)\n",
    "            \n",
    "            \n",
    "\n",
    "        elif answer_5 == 'yes':\n",
    "\n",
    "            print(\"Insert the keywords for the list that u are searching for space separated :)\")\n",
    "            \n",
    "            related_list = input()\n",
    "\n",
    "            print(\"Are you happy with your choice? Say 'yes' or 'no'. You can see below your insertion: \")\n",
    "\n",
    "            print(related_list)\n",
    "            \n",
    "            answer_7 = input()\n",
    "\n",
    "            if answer_7 =='yes':\n",
    "\n",
    "                print(\"Ok. The following lines are the info that we collected for your query: \")\n",
    "                print(\"Name: \" + name + \"\\n\" + \"Description: \" + desc + '\\n' + \"Address: \" + address)\n",
    "                print(\"List of Username: \")\n",
    "                print(list_of_users)\n",
    "                print(\"PlaceTags: \")\n",
    "                print(placeTag)\n",
    "                print(\"Upperbound: \" + str(up))\n",
    "                print(\"Lowerbound: \" + str(low))\n",
    "                print(\"Related list: \")\n",
    "                print(related_list)\n",
    "\n",
    "\n",
    "            if answer_7 == 'no': \n",
    "\n",
    "                related_list = []\n",
    "\n",
    "                print(\"Insert the keywords for the list that u are searching for space separated :). It's your last try :(\")\n",
    "\n",
    "                related_list = input()\n",
    "\n",
    "                print(\"Ok. The following lines are the info that we collected for your query: \")\n",
    "                print(\"Name: \" + name + \"\\n\" + \"Description: \" + desc + '\\n' + \"Address: \" + address)\n",
    "                print(\"List of Username: \")\n",
    "                print(list_of_users)\n",
    "                print(\"PlaceTags: \")\n",
    "                print(placeTag)\n",
    "                print(\"Upperbound: \" + str(up))\n",
    "                print(\"Lowerbound: \" + str(low))\n",
    "                print(\"Related list: \")\n",
    "                print(related_list)\n",
    "\n",
    "        print(\"Do you wanna stop here? Say 'yes' or 'no'. If no the research will restart.\")\n",
    "\n",
    "        final = input().lower()\n",
    "\n",
    "        if final == 'yes':\n",
    "\n",
    "            break\n",
    "\n",
    "        if final =='no':\n",
    "\n",
    "            print(\"Let's digit 'continue' in the next box to restart the research. Digit anything else if you wanna stop.\")\n"
   ]
  },
  {
   "cell_type": "code",
   "execution_count": 260,
   "id": "b7695f65-a0ad-412b-bff1-8f859fc99646",
   "metadata": {},
   "outputs": [
    {
     "name": "stdout",
     "output_type": "stream",
     "text": [
      "Hi, i'm your search engine. Let's start collecting info about your interest. Say 'continue' everytime you wanna do a new research :)\n"
     ]
    },
    {
     "name": "stdin",
     "output_type": "stream",
     "text": [
      " continue\n"
     ]
    },
    {
     "name": "stdout",
     "output_type": "stream",
     "text": [
      "First of all we wanna collect the information that you need to search...\n",
      "How many features do you wanna insert between 'placeName', 'placeDesc' and 'placeAddress'. Digit a number between 0 and 3.\n"
     ]
    },
    {
     "name": "stdin",
     "output_type": "stream",
     "text": [
      " 3\n"
     ]
    },
    {
     "name": "stdout",
     "output_type": "stream",
     "text": [
      "Please digit the placeName\n"
     ]
    },
    {
     "name": "stdin",
     "output_type": "stream",
     "text": [
      " citi\n"
     ]
    },
    {
     "name": "stdout",
     "output_type": "stream",
     "text": [
      "Please digit the placeDesc\n"
     ]
    },
    {
     "name": "stdin",
     "output_type": "stream",
     "text": [
      " new york\n"
     ]
    },
    {
     "name": "stdout",
     "output_type": "stream",
     "text": [
      "Please digit the placeAddress\n"
     ]
    },
    {
     "name": "stdin",
     "output_type": "stream",
     "text": [
      " new york\n"
     ]
    },
    {
     "name": "stdout",
     "output_type": "stream",
     "text": [
      "Do you wanna filter your research based on username? \n",
      " I'll check if one of the users that you digit worked on the article. \n",
      " Answer 'yes' or 'no'. \n"
     ]
    },
    {
     "name": "stdin",
     "output_type": "stream",
     "text": [
      " yes\n"
     ]
    },
    {
     "name": "stdout",
     "output_type": "stream",
     "text": [
      "How many users do you wanna insert? Please insert a number.\n"
     ]
    },
    {
     "name": "stdin",
     "output_type": "stream",
     "text": [
      " 0\n"
     ]
    },
    {
     "name": "stdout",
     "output_type": "stream",
     "text": [
      "Insert the users pressing enter after each insertion: \n",
      "Are you happy with your choice? Press 'yes' or 'no'. You can read your insertion below: \n"
     ]
    },
    {
     "name": "stdin",
     "output_type": "stream",
     "text": [
      " yes\n"
     ]
    },
    {
     "name": "stdout",
     "output_type": "stream",
     "text": [
      "So let's continue with the next question :) \n",
      "Do you wanna insert any placeTags? Digit 'yes' or 'no'\n"
     ]
    },
    {
     "name": "stdin",
     "output_type": "stream",
     "text": [
      " no\n"
     ]
    },
    {
     "name": "stdout",
     "output_type": "stream",
     "text": [
      "So let's continue with the next question :) \n",
      "Do you wanna filter by number of people who have already been there? Digit 'yes' or 'no'\n"
     ]
    },
    {
     "name": "stdin",
     "output_type": "stream",
     "text": [
      " no\n"
     ]
    },
    {
     "name": "stdout",
     "output_type": "stream",
     "text": [
      "So let's continue with the next question :) \n",
      "Do you wanna filter by list in which the places are include? Please say 'yes' or 'no'\n"
     ]
    },
    {
     "name": "stdin",
     "output_type": "stream",
     "text": [
      " no\n"
     ]
    },
    {
     "name": "stdout",
     "output_type": "stream",
     "text": [
      "Ok. The following lines are the info that we collected for your query: \n",
      "Name: citi\n",
      "Description: new york\n",
      "Address: new york\n",
      "List of Username: \n",
      "[]\n",
      "PlaceTags: \n",
      "None\n",
      "Upperbound: 0\n",
      "Lowerbound: 0\n",
      "Related list: \n",
      "None\n",
      "Do you wanna stop here? Say 'yes' or 'no'. If no the research will restart.\n"
     ]
    },
    {
     "name": "stdin",
     "output_type": "stream",
     "text": [
      " yes\n"
     ]
    }
   ],
   "source": [
    "user_interface()"
   ]
  },
  {
   "cell_type": "markdown",
   "id": "b3cb3497-02a3-4c07-a9b7-b03bcfc2041b",
   "metadata": {},
   "source": [
    "## 5.2 Search Engine"
   ]
  },
  {
   "cell_type": "markdown",
   "id": "cb662509-d5fe-4ef2-af8f-d4970865a67e",
   "metadata": {},
   "source": [
    "### 5.2.1 Define the 'cleaning function':\n"
   ]
  },
  {
   "cell_type": "code",
   "execution_count": 262,
   "id": "afb0aca4-7e37-4d4a-9bd4-c35eb969be3a",
   "metadata": {},
   "outputs": [],
   "source": [
    "stop = stopwords.words('english')\n",
    "\n",
    "ps = PorterStemmer()"
   ]
  },
  {
   "cell_type": "markdown",
   "id": "fa652bf2-9bbc-4009-84c2-2082524073ae",
   "metadata": {},
   "source": [
    "We define a function that do the text cleaning in 4 steps:\n",
    "\n",
    "    -Case normalization\n",
    "    -Remove Unicode Character\n",
    "    -Remove stopwords and 'numerical terms'\n",
    "    -Stemming"
   ]
  },
  {
   "cell_type": "code",
   "execution_count": 267,
   "id": "8b0483b6-425b-432f-bfcd-950b881a4219",
   "metadata": {},
   "outputs": [],
   "source": [
    "def clean_text(text): \n",
    "    \n",
    "    text.lower()  #case normalization\n",
    "    \n",
    "    text = re.sub(r\"(@\\[A-Za-z0-9]+)|([^0-9A-Za-z \\t])|(\\w+:\\/\\/\\S+)|^rt|http.+?\", \"\", text)  #removing unicode charachters\n",
    "\n",
    "    text = \" \".join([word for word in text.split() if word not in stop and word.isalpha() == True]) #removing stopwords and 'numerical term\n",
    "    \n",
    "    token = word_tokenize(text) #tokenization\n",
    "    \n",
    "    text = [ps.stem(t) for t in token] #stemming\n",
    "    \n",
    "    return(str(\" \".join(text)))"
   ]
  },
  {
   "cell_type": "markdown",
   "id": "4f6f1ae7-47c1-4125-a3c7-22d3c2c78ecf",
   "metadata": {},
   "source": [
    "Below we have an example on how it work: "
   ]
  },
  {
   "cell_type": "code",
   "execution_count": 266,
   "id": "7315af1d-718b-4890-8295-7fe99e02b53a",
   "metadata": {},
   "outputs": [
    {
     "name": "stdout",
     "output_type": "stream",
     "text": [
      "hi look wife beauti hous patch hous winchest santamaria\n"
     ]
    }
   ],
   "source": [
    "txt = 'hi, Looking) wife beautiful addre44. the house. patch house winchester santamaria'\n",
    "\n",
    "print(clean_text(txt))"
   ]
  },
  {
   "cell_type": "markdown",
   "id": "3bf558a4-29d3-4674-b822-b7fe18e22932",
   "metadata": {},
   "source": [
    "### 5.2.2 Create the dataframe where the query is executed:"
   ]
  },
  {
   "cell_type": "markdown",
   "id": "8af2731a-3160-4fe2-ace1-77047121b572",
   "metadata": {},
   "source": [
    "We decided to create a dataframe with the columns 'placeName' (filtered), 'placeTags' (filtered), 'numPeopleVisited', 'placeDesc' (filtered), 'placeAddress' (filtered), 'placeEditors', 'placeRelatedLists' (filtered) where filtered mean normalized, with no punctuation and stopword and stemmed. "
   ]
  },
  {
   "cell_type": "code",
   "execution_count": 273,
   "id": "43a21541-fe5b-4a61-a6f8-4bf3e934181a",
   "metadata": {},
   "outputs": [],
   "source": [
    "import csv\n",
    "from tqdm import tqdm "
   ]
  },
  {
   "cell_type": "code",
   "execution_count": 281,
   "id": "6c4b9913-1b04-4639-b5d3-5ce051d87ce7",
   "metadata": {},
   "outputs": [
    {
     "name": "stderr",
     "output_type": "stream",
     "text": [
      "7200it [01:40, 71.96it/s] \n"
     ]
    }
   ],
   "source": [
    "df = pd.DataFrame(columns=['placeName', 'placeTags', 'numPeopleVisited', 'placeDesc', 'placeAddress', 'placeEditors', 'placeRelatedLists', 'placeURL'])\n",
    "\n",
    "with open('places.tsv', encoding='utf-8') as f:\n",
    "    \n",
    "    rows = csv.DictReader(f, delimiter = '\\t')\n",
    "    \n",
    "    for r in tqdm(rows):\n",
    "        df = df.append({'placeName': clean_text(r['placeName']), 'placeTags': clean_text(r['placeTags']), 'numPeopleVisited': r['numPeopleVisited'], 'placeDesc': clean_text(r['placeDesc']), 'placeAddress': clean_text(r['placeAddress']), 'placeEditors': r['placeEditors'], 'placeRelatedLists': clean_text(r['placeRelatedLists']), 'placeURL': r['placeURL']}, ignore_index=True)\n",
    "        \n"
   ]
  },
  {
   "cell_type": "code",
   "execution_count": 282,
   "id": "6cdab389-6324-47ad-a155-4a8c3d8bc51c",
   "metadata": {},
   "outputs": [
    {
     "data": {
      "text/html": [
       "<div>\n",
       "<style scoped>\n",
       "    .dataframe tbody tr th:only-of-type {\n",
       "        vertical-align: middle;\n",
       "    }\n",
       "\n",
       "    .dataframe tbody tr th {\n",
       "        vertical-align: top;\n",
       "    }\n",
       "\n",
       "    .dataframe thead th {\n",
       "        text-align: right;\n",
       "    }\n",
       "</style>\n",
       "<table border=\"1\" class=\"dataframe\">\n",
       "  <thead>\n",
       "    <tr style=\"text-align: right;\">\n",
       "      <th></th>\n",
       "      <th>placeName</th>\n",
       "      <th>placeTags</th>\n",
       "      <th>numPeopleVisited</th>\n",
       "      <th>placeDesc</th>\n",
       "      <th>placeAddress</th>\n",
       "      <th>placeEditors</th>\n",
       "      <th>placeRelatedLists</th>\n",
       "      <th>placeURL</th>\n",
       "    </tr>\n",
       "  </thead>\n",
       "  <tbody>\n",
       "    <tr>\n",
       "      <th>0</th>\n",
       "      <td>citi hall station</td>\n",
       "      <td>manhattan new york</td>\n",
       "      <td>1828</td>\n",
       "      <td>the first new york citi subway built oper inte...</td>\n",
       "      <td>centr st new york new york unit state</td>\n",
       "      <td>['Rebekah Otto', 'charding407', 'fosterc827', ...</td>\n",
       "      <td>unexpect place have joy adventur new york citi...</td>\n",
       "      <td>https://www.atlasobscura.com/places/city-hall-...</td>\n",
       "    </tr>\n",
       "    <tr>\n",
       "      <th>1</th>\n",
       "      <td>highgat cemeteri</td>\n",
       "      <td>london england</td>\n",
       "      <td>2620</td>\n",
       "      <td>open highgat one london infam cemeteri origin ...</td>\n",
       "      <td>swain lane highgat london england unit kingdom</td>\n",
       "      <td>['TeaAndCoffeeLover', 'Collector of Experience...</td>\n",
       "      <td>the world top wonder london top wonder favorit...</td>\n",
       "      <td>https://www.atlasobscura.com/places/highgate-c...</td>\n",
       "    </tr>\n",
       "    <tr>\n",
       "      <th>2</th>\n",
       "      <td>leadenhal market</td>\n",
       "      <td>london england</td>\n",
       "      <td>3137</td>\n",
       "      <td>the ornat paint roof cobbl floor leadenhal mar...</td>\n",
       "      <td>london england unit kingdom</td>\n",
       "      <td>['Meg', 'Julius Spada', 'Katecrimson', 'thesec...</td>\n",
       "      <td>the ultim guid stun surpris hidden film locat ...</td>\n",
       "      <td>https://www.atlasobscura.com/places/leadenhall...</td>\n",
       "    </tr>\n",
       "    <tr>\n",
       "      <th>3</th>\n",
       "      <td>the wave organ</td>\n",
       "      <td>san francisco california</td>\n",
       "      <td>2429</td>\n",
       "      <td>locat jetti san francisco bay wave organ built...</td>\n",
       "      <td>marina green dr san francisco california unit ...</td>\n",
       "      <td>['mbison', 'routt1111', 'wefiddleboy14', 'Saal...</td>\n",
       "      <td>leonardo nam quirki roadsid attract the world ...</td>\n",
       "      <td>https://www.atlasobscura.com/places/wave-organ</td>\n",
       "    </tr>\n",
       "    <tr>\n",
       "      <th>4</th>\n",
       "      <td>catacomb de pari</td>\n",
       "      <td>pari franc</td>\n",
       "      <td>4449</td>\n",
       "      <td>in parisian polic assign train exercis previou...</td>\n",
       "      <td>place denfertrochereau pari franc</td>\n",
       "      <td>['CPilgrim', 'marypippen', 'ramonrodz2212', 'm...</td>\n",
       "      <td>catacomb sure tingl your spine the world top w...</td>\n",
       "      <td>https://www.atlasobscura.com/places/catacombes...</td>\n",
       "    </tr>\n",
       "  </tbody>\n",
       "</table>\n",
       "</div>"
      ],
      "text/plain": [
       "           placeName                 placeTags numPeopleVisited  \\\n",
       "0  citi hall station        manhattan new york             1828   \n",
       "1   highgat cemeteri            london england             2620   \n",
       "2   leadenhal market            london england             3137   \n",
       "3     the wave organ  san francisco california             2429   \n",
       "4   catacomb de pari                pari franc             4449   \n",
       "\n",
       "                                           placeDesc  \\\n",
       "0  the first new york citi subway built oper inte...   \n",
       "1  open highgat one london infam cemeteri origin ...   \n",
       "2  the ornat paint roof cobbl floor leadenhal mar...   \n",
       "3  locat jetti san francisco bay wave organ built...   \n",
       "4  in parisian polic assign train exercis previou...   \n",
       "\n",
       "                                        placeAddress  \\\n",
       "0              centr st new york new york unit state   \n",
       "1     swain lane highgat london england unit kingdom   \n",
       "2                        london england unit kingdom   \n",
       "3  marina green dr san francisco california unit ...   \n",
       "4                  place denfertrochereau pari franc   \n",
       "\n",
       "                                        placeEditors  \\\n",
       "0  ['Rebekah Otto', 'charding407', 'fosterc827', ...   \n",
       "1  ['TeaAndCoffeeLover', 'Collector of Experience...   \n",
       "2  ['Meg', 'Julius Spada', 'Katecrimson', 'thesec...   \n",
       "3  ['mbison', 'routt1111', 'wefiddleboy14', 'Saal...   \n",
       "4  ['CPilgrim', 'marypippen', 'ramonrodz2212', 'm...   \n",
       "\n",
       "                                   placeRelatedLists  \\\n",
       "0  unexpect place have joy adventur new york citi...   \n",
       "1  the world top wonder london top wonder favorit...   \n",
       "2  the ultim guid stun surpris hidden film locat ...   \n",
       "3  leonardo nam quirki roadsid attract the world ...   \n",
       "4  catacomb sure tingl your spine the world top w...   \n",
       "\n",
       "                                            placeURL  \n",
       "0  https://www.atlasobscura.com/places/city-hall-...  \n",
       "1  https://www.atlasobscura.com/places/highgate-c...  \n",
       "2  https://www.atlasobscura.com/places/leadenhall...  \n",
       "3     https://www.atlasobscura.com/places/wave-organ  \n",
       "4  https://www.atlasobscura.com/places/catacombes...  "
      ]
     },
     "execution_count": 282,
     "metadata": {},
     "output_type": "execute_result"
    }
   ],
   "source": [
    "df.head()"
   ]
  },
  {
   "cell_type": "markdown",
   "id": "7ff93473-1cff-4cbc-a54d-6eec848cc9d2",
   "metadata": {},
   "source": [
    "### 5.2.3 Create TFIDF "
   ]
  },
  {
   "cell_type": "markdown",
   "id": "f0393dff-357a-40b8-b971-eada0cae7d46",
   "metadata": {},
   "source": [
    "The TF is a measure of the frequency of a word in the documents and can be calculated as: \n",
    "\n",
    "\n",
    "$TF(word, document)=\\frac{occurrence of the word in the document}{total number of words}$\n",
    "\n",
    "\n",
    "The IDF is a measure of the importance of a word calculated as: \n",
    "\n",
    "\n",
    "$IDF(w, corpus) = ln (\\frac{num ofdocuments}{num ofdocs with word})$\n",
    "\n",
    "The TFIDF is the product of TF and IDF that: \n",
    "\n",
    " - gives more weight that rarely appears in documents\n",
    " - gives more importance to the words that are more frequent in a document\n",
    " \n",
    "In this way the represent the text in the documents as vector of the same dimension of the vocabulary, with the values that correspond to the importance of the word in a document.\n",
    "\n",
    "To calculate we used the sklearn package where we can find the functions to vectorize the documents and the query, calculate the TFIDF matrix and calculate the cosine similarity.\n"
   ]
  },
  {
   "cell_type": "code",
   "execution_count": 274,
   "id": "a35ab7c0-8815-44e3-9fa7-ebb01d91a825",
   "metadata": {},
   "outputs": [],
   "source": [
    "from sklearn.feature_extraction.text import TfidfVectorizer  #for the vectorization  \n",
    "from sklearn.metrics.pairwise import cosine_similarity #for the cosine similarity\n",
    "\n",
    "vectorizer = TfidfVectorizer()  #to get the tfidf matrix"
   ]
  },
  {
   "cell_type": "markdown",
   "id": "b4a62351-b74f-40d7-917e-49e139c30345",
   "metadata": {},
   "source": [
    "### 5.2.4 How to calculate the similarity between query and documents: "
   ]
  },
  {
   "cell_type": "markdown",
   "id": "e59bc39c-6bb5-493a-ad0c-39caeaafaa4c",
   "metadata": {},
   "source": [
    "We have a query which contains:\n",
    "\n",
    "    -placeName\n",
    "    -placeDesc\n",
    "    -placeAddress\n",
    "    -placeEditors \n",
    "    -placeTags\n",
    "    -Upperbound and lowerbound to numPeopleVisited\n",
    "    -placeRelatedLists\n",
    "    \n",
    " \n",
    "    \n",
    "So the $\\textbf{idea}$ is made up 5 step:  \n",
    "\n",
    "    1) Calculate the cosine similarity between docs and query separately for placeName, placeDesc, placeAddress, placeTags and  placeRealatedLists. \n",
    " \n",
    "    2) Merge them in a 'total similarity' measure by multiply their cosine similarity: the result will be a number between 0 and 1 (the higher, the similar to the query).\n",
    "    \n",
    "    (NB: This two points will be implemented in add_sim() function)\n",
    "    \n",
    "    3) Find the top k documents sorting by similarity\n",
    "    \n",
    "    4) Filter by the username of the editor and the upper/lowerbound\n",
    "    \n",
    "    5) Print the result of the research\n",
    "    \n",
    "Naturally if some part of the query are not present the code will follow a different way skipping the steps that are not requested.\n",
    "\n",
    "Maybe a future improvement for that could be give different weights to the part of the query as grade of importance. In this way for example placeName will be more significant and the other will have the same weight. For example we could choose something like: \n",
    "    \n",
    "    - $weight_{name}= 0.6$\n",
    "    - $weight_{address}= 0.1$\n",
    "    - $weight_{desc}= 0.1$\n",
    "    - $weight_{tag}= 0.1$\n",
    "    - $weight_{list}= 0.1$\n"
   ]
  },
  {
   "cell_type": "code",
   "execution_count": 275,
   "id": "f4cdd665-16a6-485b-b627-56ef4b29f55d",
   "metadata": {},
   "outputs": [],
   "source": [
    "#define function that take as input the dataframe and the query\n",
    "#return a dataframe with a column called 'total similarity'. \n",
    "\n",
    "\n",
    "def add_sim(data, query):\n",
    "    \n",
    "    #Calculate the cosine similarity separately:\n",
    "    \n",
    "    #1 name\n",
    "    \n",
    "    if query[0] != 'None':                                                          \n",
    "\n",
    "        tfidf_1 = vectorizer.fit_transform(data['placeName'])        #store the tfidf of the documents\n",
    "                                                            #tfidf represent the vector created with the description \n",
    "                                                            #using TFIDF vectorization\n",
    "            \n",
    "        \n",
    "        vector_name = vectorizer.transform([clean_text(query[0])])          #'clean' and vectorize the query\n",
    "\n",
    "        cos_name = cosine_similarity(tfidf_1,vector_name) \n",
    "        \n",
    "        #calculate cosine similarity betweeen query and documents\n",
    "        \n",
    "    else:\n",
    "          \n",
    "        cos_name = np.expand_dims(np.ones(7200), axis = 1)    #if the user don't wanna search by a features\n",
    "                                                              #the similarity will be one \n",
    "                                                              #such that the moltiplication doesn't affect the result \n",
    "    #2 description\n",
    "    if query[1] != 'None':\n",
    "        \n",
    "        tfidf_2 = vectorizer.fit_transform(data['placeDesc'])\n",
    "        \n",
    "        vector_desc = vectorizer.transform([clean_text(query[1])])\n",
    "        \n",
    "        cos_desc = cosine_similarity(tfidf_2,vector_desc)\n",
    "        \n",
    "    else: \n",
    "        \n",
    "        cos_desc = np.expand_dims(np.ones(7200), axis = 1)    #to multiply without affect the result\n",
    "    \n",
    "    #3 address\n",
    "    \n",
    "    if query[2] != 'None':\n",
    "        \n",
    "        tfidf_3 = vectorizer.fit_transform(data['placeAddress'])\n",
    "        \n",
    "        vector_address = vectorizer.transform([clean_text(query[2])])\n",
    "        \n",
    "        cos_address = cosine_similarity(tfidf_3, vector_address)\n",
    "        \n",
    "    else: \n",
    "        \n",
    "        cos_address = np.expand_dims(np.ones(7200), axis = 1) \n",
    "    \n",
    "    #4 placetags\n",
    "    \n",
    "    if len(query[4]) !=0:\n",
    "        \n",
    "        tfidf_4 = vectorizer.fit_transform(data['placeTags'])\n",
    "        \n",
    "        vector_tag = vectorizer.transform([clean_text(query[4])])\n",
    "        \n",
    "        cos_tag = cosine_similarity(tfidf_4, vector_tag)\n",
    "        \n",
    "    else: \n",
    "        \n",
    "        cos_tag = np.expand_dims(np.ones(7200), axis = 1)\n",
    "        \n",
    "    #5 relatedlists\n",
    "    \n",
    "    if len(query[7]) !=0:\n",
    "        \n",
    "        tfidf_5 = vectorizer.fit_transform(data['placeRelatedLists'])\n",
    "        \n",
    "        vector_list = vectorizer.transform([clean_text(query[7])]) \n",
    "        \n",
    "        \n",
    "        cos_list = cosine_similarity(tfidf_5, vector_list)\n",
    "        \n",
    "    else: \n",
    "        \n",
    "        cos_list = np.expand_dims(np.ones(7200), axis = 1)\n",
    "    \n",
    "    \n",
    "    #total similarities: element-wise moltiplication\n",
    "    \n",
    "    \n",
    "    \n",
    "    similarity = cos_name*cos_desc*cos_address*cos_tag*cos_list\n",
    "    \n",
    "    #the only problem of this approach is when the cosine similarity of one of the components is zero.\n",
    "    #In this case the total cosine similarity is zero. So this has to be improved. \n",
    "                                                    \n",
    "    new_df = data.assign(Total_similarity = lambda x: similarity) #add a columns to the dataframe \n",
    "        \n",
    "    \n",
    "    return new_df\n",
    "        \n",
    "        "
   ]
  },
  {
   "cell_type": "code",
   "execution_count": 276,
   "id": "018710dc-7143-497e-85c3-b666f8d94239",
   "metadata": {},
   "outputs": [],
   "source": [
    "user_query = ['city', 'new york', 'new york', ['Rebekah Otto', 'charding407'], 'new york', 10000, 100, 'unexpected']"
   ]
  },
  {
   "cell_type": "code",
   "execution_count": 283,
   "id": "5a64063f-a327-4b32-9e5a-d692842c9f1f",
   "metadata": {},
   "outputs": [
    {
     "data": {
      "text/html": [
       "<div>\n",
       "<style scoped>\n",
       "    .dataframe tbody tr th:only-of-type {\n",
       "        vertical-align: middle;\n",
       "    }\n",
       "\n",
       "    .dataframe tbody tr th {\n",
       "        vertical-align: top;\n",
       "    }\n",
       "\n",
       "    .dataframe thead th {\n",
       "        text-align: right;\n",
       "    }\n",
       "</style>\n",
       "<table border=\"1\" class=\"dataframe\">\n",
       "  <thead>\n",
       "    <tr style=\"text-align: right;\">\n",
       "      <th></th>\n",
       "      <th>placeName</th>\n",
       "      <th>placeURL</th>\n",
       "      <th>Total_similarity</th>\n",
       "    </tr>\n",
       "  </thead>\n",
       "  <tbody>\n",
       "    <tr>\n",
       "      <th>0</th>\n",
       "      <td>citi hall station</td>\n",
       "      <td>https://www.atlasobscura.com/places/city-hall-...</td>\n",
       "      <td>0.006894</td>\n",
       "    </tr>\n",
       "    <tr>\n",
       "      <th>1840</th>\n",
       "      <td>panorama citi new york</td>\n",
       "      <td>https://www.atlasobscura.com/places/a-panorama...</td>\n",
       "      <td>0.005638</td>\n",
       "    </tr>\n",
       "    <tr>\n",
       "      <th>4809</th>\n",
       "      <td>pfahlbaumuseum unteruhldingen lake dwell museum</td>\n",
       "      <td>https://www.atlasobscura.com/places/lake-dwell...</td>\n",
       "      <td>0.000000</td>\n",
       "    </tr>\n",
       "    <tr>\n",
       "      <th>4807</th>\n",
       "      <td>atlanti book</td>\n",
       "      <td>https://www.atlasobscura.com/places/atlantis-b...</td>\n",
       "      <td>0.000000</td>\n",
       "    </tr>\n",
       "    <tr>\n",
       "      <th>4806</th>\n",
       "      <td>man with fish</td>\n",
       "      <td>https://www.atlasobscura.com/places/man-with-fish</td>\n",
       "      <td>0.000000</td>\n",
       "    </tr>\n",
       "  </tbody>\n",
       "</table>\n",
       "</div>"
      ],
      "text/plain": [
       "                                            placeName  \\\n",
       "0                                   citi hall station   \n",
       "1840                           panorama citi new york   \n",
       "4809  pfahlbaumuseum unteruhldingen lake dwell museum   \n",
       "4807                                     atlanti book   \n",
       "4806                                    man with fish   \n",
       "\n",
       "                                               placeURL  Total_similarity  \n",
       "0     https://www.atlasobscura.com/places/city-hall-...          0.006894  \n",
       "1840  https://www.atlasobscura.com/places/a-panorama...          0.005638  \n",
       "4809  https://www.atlasobscura.com/places/lake-dwell...          0.000000  \n",
       "4807  https://www.atlasobscura.com/places/atlantis-b...          0.000000  \n",
       "4806  https://www.atlasobscura.com/places/man-with-fish          0.000000  "
      ]
     },
     "execution_count": 283,
     "metadata": {},
     "output_type": "execute_result"
    }
   ],
   "source": [
    "(add_sim(df, user_query).sort_values(by=['Total_similarity'], ascending=False)[['placeName', 'placeURL', 'Total_similarity']]).head()"
   ]
  },
  {
   "cell_type": "markdown",
   "id": "5a6595a2-1780-453f-89d0-8c4cf5beaf5c",
   "metadata": {},
   "source": [
    "### 5.2.5 Filter by upper/lowerbound of numPeopleVisited and placeEditors: \n",
    "\n",
    "Now we can filter the results with two functions that take as input the upper/lower bound and the placeEditors and output the docs which satisfies the condition.\n",
    "\n",
    "First of all we define the bound() function that used the upper and lower bound to create a new data frame which contains the rows with the values in the requested range. \n",
    "\n",
    "If the user in the user_interface()  we doesn't insert the lower bound or the upper bound we initialized the value to zero. So first of all we have to check if the values are non zero to do something. If they both are 0 the function simply do nothing."
   ]
  },
  {
   "cell_type": "markdown",
   "id": "00ccdbb8-db81-4b60-a434-6ce396b4d13a",
   "metadata": {},
   "source": [
    "#### FIlter by numPeopleVisited"
   ]
  },
  {
   "cell_type": "code",
   "execution_count": 284,
   "id": "8b077c30-f21e-4241-b969-3727e0921af4",
   "metadata": {},
   "outputs": [],
   "source": [
    "#define a function that filter by lower and upper bound and return a new dataframe\n",
    "\n",
    "def bound(data, up, low):   #take as input the dataframe and the upper/lower bound\n",
    "    \n",
    "    new_data = pd.DataFrame(columns=['placeName', 'placeEditors', 'placeURL', 'placeRelatedLists', 'Total_similarity'])\n",
    "    \n",
    "    if up != 0 and low != 0:\n",
    "    \n",
    "        for i in tqdm(range(len(data))):\n",
    "        \n",
    "            if int(data['numPeopleVisited'][i]) < up and int(data['numPeopleVisited'][i]) > low:\n",
    "                \n",
    "                new_data = new_data.append({'placeName': data['placeName'][i], 'placeEditors': data['placeEditors'][i], 'placeURL': data['placeURL'][i], 'placeRelatedLists': data['placeRelatedLists'][i], 'Total_similarity': data['Total_similarity'][i]}, ignore_index=True)\n",
    "                \n",
    "        return new_data\n",
    "    \n",
    "    elif up != 0 and low == 0:\n",
    "        \n",
    "        for i in tqdm(range(len(data))):\n",
    "        \n",
    "            if int(data['numPeopleVisited'][i]) < up:\n",
    "                \n",
    "                new_data = new_data.append({'placeName': data['placeName'][i], 'placeEditors': data['placeEditors'][i], 'placeURL': data['placeURL'][i], 'placeRelatedLists': data['placeRelatedLists'][i], 'Total_similarity': data['Total_similarity'][i]}, ignore_index=True)\n",
    "                \n",
    "                \n",
    "        return new_data\n",
    "    \n",
    "    elif up == 0 and low != 0: \n",
    "    \n",
    "        for i in tqdm(range(len(data))):\n",
    "        \n",
    "            if int(data['numPeopleVisited'][i]) > low:\n",
    "                \n",
    "                new_data = new_data.append({'placeName': data['placeName'][i], 'placeEditors': data['placeEditors'][i], 'placeURL': data['placeURL'][i], 'placeRelatedLists': data['placeRelatedLists'][i], 'Total_similarity': data['Total_similarity'][i]}, ignore_index=True)\n",
    "                         \n",
    "        return new_data\n",
    "    \n",
    "    elif up == 0 and low == 0: \n",
    "        \n",
    "        return data    "
   ]
  },
  {
   "cell_type": "code",
   "execution_count": 285,
   "id": "d357758d-e13e-49f2-9cb6-2855c198144e",
   "metadata": {},
   "outputs": [
    {
     "name": "stderr",
     "output_type": "stream",
     "text": [
      "100%|████████████████████████████████████████████████████████████████████████████| 7200/7200 [00:01<00:00, 6444.09it/s]\n"
     ]
    },
    {
     "data": {
      "text/html": [
       "<div>\n",
       "<style scoped>\n",
       "    .dataframe tbody tr th:only-of-type {\n",
       "        vertical-align: middle;\n",
       "    }\n",
       "\n",
       "    .dataframe tbody tr th {\n",
       "        vertical-align: top;\n",
       "    }\n",
       "\n",
       "    .dataframe thead th {\n",
       "        text-align: right;\n",
       "    }\n",
       "</style>\n",
       "<table border=\"1\" class=\"dataframe\">\n",
       "  <thead>\n",
       "    <tr style=\"text-align: right;\">\n",
       "      <th></th>\n",
       "      <th>placeName</th>\n",
       "      <th>placeEditors</th>\n",
       "      <th>placeURL</th>\n",
       "      <th>placeRelatedLists</th>\n",
       "      <th>Total_similarity</th>\n",
       "    </tr>\n",
       "  </thead>\n",
       "  <tbody>\n",
       "    <tr>\n",
       "      <th>0</th>\n",
       "      <td>citi hall station</td>\n",
       "      <td>['Rebekah Otto', 'charding407', 'fosterc827', ...</td>\n",
       "      <td>https://www.atlasobscura.com/places/city-hall-...</td>\n",
       "      <td>unexpect place have joy adventur new york citi...</td>\n",
       "      <td>0.006894</td>\n",
       "    </tr>\n",
       "    <tr>\n",
       "      <th>1</th>\n",
       "      <td>the museum death</td>\n",
       "      <td>['Genki', 'skankabella', 'Lauren Levesque', 'j...</td>\n",
       "      <td>https://www.atlasobscura.com/places/the-museum...</td>\n",
       "      <td>the world top wonder lo angel top wonder</td>\n",
       "      <td>0.000000</td>\n",
       "    </tr>\n",
       "    <tr>\n",
       "      <th>2</th>\n",
       "      <td>the echo park time travel mart</td>\n",
       "      <td>['anhie', 'starvira', 'cait7911', 'notoriousFI...</td>\n",
       "      <td>https://www.atlasobscura.com/places/echo-park-...</td>\n",
       "      <td>la shop twist the world top wonder lo angel to...</td>\n",
       "      <td>0.000000</td>\n",
       "    </tr>\n",
       "    <tr>\n",
       "      <th>3</th>\n",
       "      <td>the ruin st dunstanintheeast</td>\n",
       "      <td>['Luke J Spencer', 'Julius Spada', 'thesecretc...</td>\n",
       "      <td>https://www.atlasobscura.com/places/the-ruins-...</td>\n",
       "      <td>the world top wonder london top wonder favorit</td>\n",
       "      <td>0.000000</td>\n",
       "    </tr>\n",
       "    <tr>\n",
       "      <th>4</th>\n",
       "      <td>roosevelt island smallpox hospit ruin</td>\n",
       "      <td>['Rebekah Otto', 'MsAngelStarr', 'JoeDesigner'...</td>\n",
       "      <td>https://www.atlasobscura.com/places/roosevelt-...</td>\n",
       "      <td>the unit state abandon place the world top won...</td>\n",
       "      <td>0.000000</td>\n",
       "    </tr>\n",
       "    <tr>\n",
       "      <th>5</th>\n",
       "      <td>antelop canyon</td>\n",
       "      <td>['leiris', 'LiamY', 'BeauDangles', 'yymark4', ...</td>\n",
       "      <td>https://www.atlasobscura.com/places/antelope-c...</td>\n",
       "      <td>the world top wonder favorit</td>\n",
       "      <td>0.000000</td>\n",
       "    </tr>\n",
       "    <tr>\n",
       "      <th>6</th>\n",
       "      <td>thor well</td>\n",
       "      <td>['imedinajr', 'tipsywithwater', 'dctsystems', ...</td>\n",
       "      <td>https://www.atlasobscura.com/places/thor-s-well</td>\n",
       "      <td>jessica mendoza wateri wonder western unit sta...</td>\n",
       "      <td>0.000000</td>\n",
       "    </tr>\n",
       "    <tr>\n",
       "      <th>7</th>\n",
       "      <td>seward street slide</td>\n",
       "      <td>['Annetta Black', 'MtnLady', 'jnthnnvk', 'Neig...</td>\n",
       "      <td>https://www.atlasobscura.com/places/seward-str...</td>\n",
       "      <td>curiou corner california the world top wonder ...</td>\n",
       "      <td>0.000000</td>\n",
       "    </tr>\n",
       "    <tr>\n",
       "      <th>8</th>\n",
       "      <td>ghibli museum</td>\n",
       "      <td>['ack sed']</td>\n",
       "      <td>https://www.atlasobscura.com/places/ghibli-museum</td>\n",
       "      <td>the world top wonder</td>\n",
       "      <td>0.000000</td>\n",
       "    </tr>\n",
       "    <tr>\n",
       "      <th>9</th>\n",
       "      <td>spreepark</td>\n",
       "      <td>['atimian', 'salseats2022', 'Drew50', 'rootber...</td>\n",
       "      <td>https://www.atlasobscura.com/places/spreepark</td>\n",
       "      <td>a world tour abandon amus park the world top w...</td>\n",
       "      <td>0.000000</td>\n",
       "    </tr>\n",
       "  </tbody>\n",
       "</table>\n",
       "</div>"
      ],
      "text/plain": [
       "                               placeName  \\\n",
       "0                      citi hall station   \n",
       "1                       the museum death   \n",
       "2         the echo park time travel mart   \n",
       "3           the ruin st dunstanintheeast   \n",
       "4  roosevelt island smallpox hospit ruin   \n",
       "5                         antelop canyon   \n",
       "6                              thor well   \n",
       "7                    seward street slide   \n",
       "8                          ghibli museum   \n",
       "9                              spreepark   \n",
       "\n",
       "                                        placeEditors  \\\n",
       "0  ['Rebekah Otto', 'charding407', 'fosterc827', ...   \n",
       "1  ['Genki', 'skankabella', 'Lauren Levesque', 'j...   \n",
       "2  ['anhie', 'starvira', 'cait7911', 'notoriousFI...   \n",
       "3  ['Luke J Spencer', 'Julius Spada', 'thesecretc...   \n",
       "4  ['Rebekah Otto', 'MsAngelStarr', 'JoeDesigner'...   \n",
       "5  ['leiris', 'LiamY', 'BeauDangles', 'yymark4', ...   \n",
       "6  ['imedinajr', 'tipsywithwater', 'dctsystems', ...   \n",
       "7  ['Annetta Black', 'MtnLady', 'jnthnnvk', 'Neig...   \n",
       "8                                        ['ack sed']   \n",
       "9  ['atimian', 'salseats2022', 'Drew50', 'rootber...   \n",
       "\n",
       "                                            placeURL  \\\n",
       "0  https://www.atlasobscura.com/places/city-hall-...   \n",
       "1  https://www.atlasobscura.com/places/the-museum...   \n",
       "2  https://www.atlasobscura.com/places/echo-park-...   \n",
       "3  https://www.atlasobscura.com/places/the-ruins-...   \n",
       "4  https://www.atlasobscura.com/places/roosevelt-...   \n",
       "5  https://www.atlasobscura.com/places/antelope-c...   \n",
       "6    https://www.atlasobscura.com/places/thor-s-well   \n",
       "7  https://www.atlasobscura.com/places/seward-str...   \n",
       "8  https://www.atlasobscura.com/places/ghibli-museum   \n",
       "9      https://www.atlasobscura.com/places/spreepark   \n",
       "\n",
       "                                   placeRelatedLists  Total_similarity  \n",
       "0  unexpect place have joy adventur new york citi...          0.006894  \n",
       "1           the world top wonder lo angel top wonder          0.000000  \n",
       "2  la shop twist the world top wonder lo angel to...          0.000000  \n",
       "3     the world top wonder london top wonder favorit          0.000000  \n",
       "4  the unit state abandon place the world top won...          0.000000  \n",
       "5                       the world top wonder favorit          0.000000  \n",
       "6  jessica mendoza wateri wonder western unit sta...          0.000000  \n",
       "7  curiou corner california the world top wonder ...          0.000000  \n",
       "8                               the world top wonder          0.000000  \n",
       "9  a world tour abandon amus park the world top w...          0.000000  "
      ]
     },
     "execution_count": 285,
     "metadata": {},
     "output_type": "execute_result"
    }
   ],
   "source": [
    "bound(add_sim(df,user_query), 2000, 1000).head(10)"
   ]
  },
  {
   "cell_type": "markdown",
   "id": "8fe286a8-26b8-43e3-bd59-84f4358910a5",
   "metadata": {},
   "source": [
    "### Filter by username of the editors\n",
    "\n",
    "We decided to filter extracting docs that contains one of the user that the user specify:"
   ]
  },
  {
   "cell_type": "code",
   "execution_count": 286,
   "id": "55d00e2d-e39f-4d28-b822-94ac82ee2a26",
   "metadata": {},
   "outputs": [],
   "source": [
    "#create a new dataframe checking if any of the username inserted by the user is in a placeEditors\n",
    "\n",
    "def editors(data, edit):   #take as input a dataframe and a list\n",
    "    \n",
    "    if len(edit) != 0:\n",
    "        \n",
    "        new_data = pd.DataFrame(columns=['placeName', 'placeRelatedLists', 'placeURL', 'Total_similarity'])\n",
    "        \n",
    "        for i in tqdm(range(len(data))): \n",
    "            \n",
    "            for element in edit: \n",
    "                \n",
    "                if element in data['placeEditors'][i]:\n",
    "                    \n",
    "                    new_data = new_data.append({'placeName': data['placeName'][i], 'placeRelatedLists': data['placeRelatedLists'][i], 'placeURL': data['placeURL'][i], 'Total_similarity': data['Total_similarity'][i]}, ignore_index=True)\n",
    "                    \n",
    "                    continue\n",
    "                    \n",
    "        return new_data\n",
    "\n",
    "\n",
    "    else: \n",
    "        \n",
    "        return data #no filter if the user doesn't specify any username\n",
    "               "
   ]
  },
  {
   "cell_type": "markdown",
   "id": "ab7286ce-da99-40f1-b677-b7a088ca0cd1",
   "metadata": {},
   "source": [
    "As example we extract the docs that contain one of the username that the user insert"
   ]
  },
  {
   "cell_type": "code",
   "execution_count": 287,
   "id": "54b4de95-2ba2-4950-9b31-289ea25d876f",
   "metadata": {},
   "outputs": [
    {
     "name": "stderr",
     "output_type": "stream",
     "text": [
      "100%|████████████████████████████████████████████████████████████████████████████| 7200/7200 [00:01<00:00, 6359.13it/s]\n",
      "100%|█████████████████████████████████████████████████████████████████████████████| 455/455 [00:00<00:00, 11191.89it/s]\n"
     ]
    },
    {
     "data": {
      "text/html": [
       "<div>\n",
       "<style scoped>\n",
       "    .dataframe tbody tr th:only-of-type {\n",
       "        vertical-align: middle;\n",
       "    }\n",
       "\n",
       "    .dataframe tbody tr th {\n",
       "        vertical-align: top;\n",
       "    }\n",
       "\n",
       "    .dataframe thead th {\n",
       "        text-align: right;\n",
       "    }\n",
       "</style>\n",
       "<table border=\"1\" class=\"dataframe\">\n",
       "  <thead>\n",
       "    <tr style=\"text-align: right;\">\n",
       "      <th></th>\n",
       "      <th>placeName</th>\n",
       "      <th>placeRelatedLists</th>\n",
       "      <th>placeURL</th>\n",
       "      <th>Total_similarity</th>\n",
       "    </tr>\n",
       "  </thead>\n",
       "  <tbody>\n",
       "    <tr>\n",
       "      <th>0</th>\n",
       "      <td>citi hall station</td>\n",
       "      <td>unexpect place have joy adventur new york citi...</td>\n",
       "      <td>https://www.atlasobscura.com/places/city-hall-...</td>\n",
       "      <td>0.006894</td>\n",
       "    </tr>\n",
       "    <tr>\n",
       "      <th>1</th>\n",
       "      <td>citi hall station</td>\n",
       "      <td>unexpect place have joy adventur new york citi...</td>\n",
       "      <td>https://www.atlasobscura.com/places/city-hall-...</td>\n",
       "      <td>0.006894</td>\n",
       "    </tr>\n",
       "    <tr>\n",
       "      <th>2</th>\n",
       "      <td>roosevelt island smallpox hospit ruin</td>\n",
       "      <td>the unit state abandon place the world top won...</td>\n",
       "      <td>https://www.atlasobscura.com/places/roosevelt-...</td>\n",
       "      <td>0.000000</td>\n",
       "    </tr>\n",
       "    <tr>\n",
       "      <th>3</th>\n",
       "      <td>new york transit museum</td>\n",
       "      <td>unexpect place have joy adventur new york citi...</td>\n",
       "      <td>https://www.atlasobscura.com/places/new-york-t...</td>\n",
       "      <td>0.000000</td>\n",
       "    </tr>\n",
       "    <tr>\n",
       "      <th>4</th>\n",
       "      <td>salton sea</td>\n",
       "      <td>favorit</td>\n",
       "      <td>https://www.atlasobscura.com/places/salton-sea</td>\n",
       "      <td>0.000000</td>\n",
       "    </tr>\n",
       "  </tbody>\n",
       "</table>\n",
       "</div>"
      ],
      "text/plain": [
       "                               placeName  \\\n",
       "0                      citi hall station   \n",
       "1                      citi hall station   \n",
       "2  roosevelt island smallpox hospit ruin   \n",
       "3                new york transit museum   \n",
       "4                             salton sea   \n",
       "\n",
       "                                   placeRelatedLists  \\\n",
       "0  unexpect place have joy adventur new york citi...   \n",
       "1  unexpect place have joy adventur new york citi...   \n",
       "2  the unit state abandon place the world top won...   \n",
       "3  unexpect place have joy adventur new york citi...   \n",
       "4                                            favorit   \n",
       "\n",
       "                                            placeURL  Total_similarity  \n",
       "0  https://www.atlasobscura.com/places/city-hall-...          0.006894  \n",
       "1  https://www.atlasobscura.com/places/city-hall-...          0.006894  \n",
       "2  https://www.atlasobscura.com/places/roosevelt-...          0.000000  \n",
       "3  https://www.atlasobscura.com/places/new-york-t...          0.000000  \n",
       "4     https://www.atlasobscura.com/places/salton-sea          0.000000  "
      ]
     },
     "execution_count": 287,
     "metadata": {},
     "output_type": "execute_result"
    }
   ],
   "source": [
    "editors(bound(add_sim(df,user_query), 2000, 1000), ['Rebekah Otto', 'charding407']).head()"
   ]
  },
  {
   "cell_type": "markdown",
   "id": "5cb18951-4311-427c-8a4a-f2f146274c38",
   "metadata": {},
   "source": [
    "## Final result: "
   ]
  },
  {
   "cell_type": "markdown",
   "id": "faa7d808-9e85-4439-a81a-ab06addb1244",
   "metadata": {},
   "source": [
    "After the collection of the information for the query made in point 5.1 we can merge the previous function to make the search engine: "
   ]
  },
  {
   "cell_type": "markdown",
   "id": "3b93dc0e-a905-4a3f-9472-2dac48b94d76",
   "metadata": {},
   "source": [
    "First of all we create the dataframe where the research is executed: "
   ]
  },
  {
   "cell_type": "code",
   "execution_count": 289,
   "id": "adbfa40b-b51f-44b3-95be-89de255802a2",
   "metadata": {},
   "outputs": [
    {
     "name": "stderr",
     "output_type": "stream",
     "text": [
      "7200it [01:34, 76.53it/s] \n"
     ]
    }
   ],
   "source": [
    "df = pd.DataFrame(columns=['placeName', 'placeTags', 'numPeopleVisited', 'placeDesc', 'placeAddress', 'placeEditors', 'placeRelatedLists', 'placeURL'])\n",
    "\n",
    "with open('places.tsv', encoding = 'utf-8') as f:\n",
    "    \n",
    "    rows = csv.DictReader(f, delimiter = '\\t')\n",
    "    \n",
    "    for r in tqdm(rows):\n",
    "        \n",
    "        df = df.append({'placeName': clean_text(r['placeName']), 'placeTags': clean_text(r['placeTags']), 'numPeopleVisited': r['numPeopleVisited'], 'placeDesc': clean_text(r['placeDesc']), 'placeAddress': clean_text(r['placeAddress']), 'placeEditors': r['placeEditors'], 'placeRelatedLists': clean_text(r['placeRelatedLists']), 'placeURL': r['placeURL']}, ignore_index=True)"
   ]
  },
  {
   "cell_type": "code",
   "execution_count": 290,
   "id": "14717211-14dc-4011-8981-0555375ace31",
   "metadata": {},
   "outputs": [
    {
     "name": "stdout",
     "output_type": "stream",
     "text": [
      "Hi, i'm your search engine. Let's start collecting info about your interest. Say 'continue' everytime you wanna do a new research :)\n"
     ]
    },
    {
     "name": "stdin",
     "output_type": "stream",
     "text": [
      " continue\n"
     ]
    },
    {
     "name": "stdout",
     "output_type": "stream",
     "text": [
      "First of all we wanna collect the information that you need to search...\n",
      "How many features do you wanna insert between 'placeName', 'placeDesc' and 'placeAddress'. Digit a number between 0 and 3.\n"
     ]
    },
    {
     "name": "stdin",
     "output_type": "stream",
     "text": [
      " 1\n"
     ]
    },
    {
     "name": "stdout",
     "output_type": "stream",
     "text": [
      "Which one do you wanna insert ('placeName', 'placeDesc' or 'placeAddress')?\n"
     ]
    },
    {
     "name": "stdin",
     "output_type": "stream",
     "text": [
      " placeName\n"
     ]
    },
    {
     "name": "stdout",
     "output_type": "stream",
     "text": [
      "insert the placeName\n"
     ]
    },
    {
     "name": "stdin",
     "output_type": "stream",
     "text": [
      " city\n"
     ]
    },
    {
     "name": "stdout",
     "output_type": "stream",
     "text": [
      "Do you wanna filter your research based on username? \n",
      " I'll check if one of the users that you digit worked on the article. \n",
      " Answer 'yes' or 'no'. \n"
     ]
    },
    {
     "name": "stdin",
     "output_type": "stream",
     "text": [
      " yes\n"
     ]
    },
    {
     "name": "stdout",
     "output_type": "stream",
     "text": [
      "How many users do you wanna insert? Please insert a number.\n"
     ]
    },
    {
     "name": "stdin",
     "output_type": "stream",
     "text": [
      " 1\n"
     ]
    },
    {
     "name": "stdout",
     "output_type": "stream",
     "text": [
      "Insert the users pressing enter after each insertion: \n"
     ]
    },
    {
     "name": "stdin",
     "output_type": "stream",
     "text": [
      " Rebekah Otto\n"
     ]
    },
    {
     "name": "stdout",
     "output_type": "stream",
     "text": [
      "Are you happy with your choice? Press 'yes' or 'no'. You can read your insertion below: \n",
      "Rebekah Otto\n"
     ]
    },
    {
     "name": "stdin",
     "output_type": "stream",
     "text": [
      " yes\n"
     ]
    },
    {
     "name": "stdout",
     "output_type": "stream",
     "text": [
      "So let's continue with the next question :) \n",
      "Do you wanna insert any placeTags? Digit 'yes' or 'no'\n"
     ]
    },
    {
     "name": "stdin",
     "output_type": "stream",
     "text": [
      " yes\n"
     ]
    },
    {
     "name": "stdout",
     "output_type": "stream",
     "text": [
      "Insert the placeTags space separated: \n"
     ]
    },
    {
     "name": "stdin",
     "output_type": "stream",
     "text": [
      " manhattan\n"
     ]
    },
    {
     "name": "stdout",
     "output_type": "stream",
     "text": [
      "You have inserted the following placetags, are you happy with that? Say 'yes' or 'no'\n",
      "manhattan\n"
     ]
    },
    {
     "name": "stdin",
     "output_type": "stream",
     "text": [
      " yes\n"
     ]
    },
    {
     "name": "stdout",
     "output_type": "stream",
     "text": [
      "So let's continue with the next question :) \n",
      "Do you wanna filter by number of people who have already been there? Digit 'yes' or 'no'\n"
     ]
    },
    {
     "name": "stdin",
     "output_type": "stream",
     "text": [
      " yes\n"
     ]
    },
    {
     "name": "stdout",
     "output_type": "stream",
     "text": [
      "Insert a lowerbound. Press '0' if you don't wanna specify that\n"
     ]
    },
    {
     "name": "stdin",
     "output_type": "stream",
     "text": [
      " 0\n"
     ]
    },
    {
     "name": "stdout",
     "output_type": "stream",
     "text": [
      "So let's continue with the next question :) \n",
      "Insert a upperbound. Press '0' if you don't wanna specify that\n"
     ]
    },
    {
     "name": "stdin",
     "output_type": "stream",
     "text": [
      " 2000\n"
     ]
    },
    {
     "name": "stdout",
     "output_type": "stream",
     "text": [
      "You have inserted 2000 as upperbound\n",
      "Do you wanna filter by list in which the places are include? Please say 'yes' or 'no'\n"
     ]
    },
    {
     "name": "stdin",
     "output_type": "stream",
     "text": [
      " yes\n"
     ]
    },
    {
     "name": "stdout",
     "output_type": "stream",
     "text": [
      "Insert the keywords for the list that u are searching for space separated :)\n"
     ]
    },
    {
     "name": "stdin",
     "output_type": "stream",
     "text": [
      " unexpected\n"
     ]
    },
    {
     "name": "stdout",
     "output_type": "stream",
     "text": [
      "Are you happy with your choice? Say 'yes' or 'no'. You can see below your insertion: \n",
      "unexpected\n"
     ]
    },
    {
     "name": "stdin",
     "output_type": "stream",
     "text": [
      " yes\n"
     ]
    },
    {
     "name": "stdout",
     "output_type": "stream",
     "text": [
      "Ok. The following lines are the info that we collected for your query: \n",
      "Name: city\n",
      "Description: None\n",
      "Address: None\n",
      "List of Username: \n",
      "['Rebekah Otto']\n",
      "PlaceTags: \n",
      "manhattan\n",
      "Upperbound: 2000\n",
      "Lowerbound: 0\n",
      "Related list: \n",
      "unexpected\n",
      "Do you wanna stop here? Say 'yes' or 'no'. If no the research will restart.\n"
     ]
    },
    {
     "name": "stdin",
     "output_type": "stream",
     "text": [
      " yes\n"
     ]
    }
   ],
   "source": [
    "user_interface()    "
   ]
  },
  {
   "cell_type": "code",
   "execution_count": 291,
   "id": "41a2820e-4069-4b56-ac8d-0615e65a7997",
   "metadata": {},
   "outputs": [
    {
     "name": "stdout",
     "output_type": "stream",
     "text": [
      "How many documents do you wanna see as result of your research?\n"
     ]
    },
    {
     "name": "stdin",
     "output_type": "stream",
     "text": [
      " 5\n"
     ]
    }
   ],
   "source": [
    "print(\"How many documents do you wanna see as result of your research?\")\n",
    "\n",
    "docs = int(input())"
   ]
  },
  {
   "cell_type": "code",
   "execution_count": 292,
   "id": "7976d0da-4e93-4f27-8519-0a757d9d2bf8",
   "metadata": {},
   "outputs": [],
   "source": [
    "user_query = [name, desc, address, list_of_users, placeTag, up, low, related_list]"
   ]
  },
  {
   "cell_type": "code",
   "execution_count": 293,
   "id": "198a6f94-d1f5-4bad-8dfa-f6aa98e3e8ef",
   "metadata": {},
   "outputs": [
    {
     "name": "stderr",
     "output_type": "stream",
     "text": [
      "100%|█████████████████████████████████████████████████████████████████████████████| 7200/7200 [00:19<00:00, 373.44it/s]\n",
      "100%|███████████████████████████████████████████████████████████████████████████| 7038/7038 [00:00<00:00, 31257.26it/s]\n"
     ]
    },
    {
     "data": {
      "text/html": [
       "<div>\n",
       "<style scoped>\n",
       "    .dataframe tbody tr th:only-of-type {\n",
       "        vertical-align: middle;\n",
       "    }\n",
       "\n",
       "    .dataframe tbody tr th {\n",
       "        vertical-align: top;\n",
       "    }\n",
       "\n",
       "    .dataframe thead th {\n",
       "        text-align: right;\n",
       "    }\n",
       "</style>\n",
       "<table border=\"1\" class=\"dataframe\">\n",
       "  <thead>\n",
       "    <tr style=\"text-align: right;\">\n",
       "      <th></th>\n",
       "      <th>placeName</th>\n",
       "      <th>placeRelatedLists</th>\n",
       "      <th>placeURL</th>\n",
       "      <th>Total_similarity</th>\n",
       "    </tr>\n",
       "  </thead>\n",
       "  <tbody>\n",
       "    <tr>\n",
       "      <th>0</th>\n",
       "      <td>citi hall station</td>\n",
       "      <td>unexpect place have joy adventur new york citi...</td>\n",
       "      <td>https://www.atlasobscura.com/places/city-hall-...</td>\n",
       "      <td>0.058669</td>\n",
       "    </tr>\n",
       "    <tr>\n",
       "      <th>1</th>\n",
       "      <td>roosevelt island smallpox hospit ruin</td>\n",
       "      <td>the unit state abandon place the world top won...</td>\n",
       "      <td>https://www.atlasobscura.com/places/roosevelt-...</td>\n",
       "      <td>0.000000</td>\n",
       "    </tr>\n",
       "    <tr>\n",
       "      <th>2</th>\n",
       "      <td>philosoph research societi</td>\n",
       "      <td></td>\n",
       "      <td>https://www.atlasobscura.com/places/philosophi...</td>\n",
       "      <td>0.000000</td>\n",
       "    </tr>\n",
       "    <tr>\n",
       "      <th>3</th>\n",
       "      <td>new york transit museum</td>\n",
       "      <td>unexpect place have joy adventur new york citi...</td>\n",
       "      <td>https://www.atlasobscura.com/places/new-york-t...</td>\n",
       "      <td>0.000000</td>\n",
       "    </tr>\n",
       "    <tr>\n",
       "      <th>4</th>\n",
       "      <td>salton sea</td>\n",
       "      <td>favorit</td>\n",
       "      <td>https://www.atlasobscura.com/places/salton-sea</td>\n",
       "      <td>0.000000</td>\n",
       "    </tr>\n",
       "  </tbody>\n",
       "</table>\n",
       "</div>"
      ],
      "text/plain": [
       "                               placeName  \\\n",
       "0                      citi hall station   \n",
       "1  roosevelt island smallpox hospit ruin   \n",
       "2             philosoph research societi   \n",
       "3                new york transit museum   \n",
       "4                             salton sea   \n",
       "\n",
       "                                   placeRelatedLists  \\\n",
       "0  unexpect place have joy adventur new york citi...   \n",
       "1  the unit state abandon place the world top won...   \n",
       "2                                                      \n",
       "3  unexpect place have joy adventur new york citi...   \n",
       "4                                            favorit   \n",
       "\n",
       "                                            placeURL  Total_similarity  \n",
       "0  https://www.atlasobscura.com/places/city-hall-...          0.058669  \n",
       "1  https://www.atlasobscura.com/places/roosevelt-...          0.000000  \n",
       "2  https://www.atlasobscura.com/places/philosophi...          0.000000  \n",
       "3  https://www.atlasobscura.com/places/new-york-t...          0.000000  \n",
       "4     https://www.atlasobscura.com/places/salton-sea          0.000000  "
      ]
     },
     "execution_count": 293,
     "metadata": {},
     "output_type": "execute_result"
    }
   ],
   "source": [
    "editors(bound(add_sim(df, user_query), user_query[5], user_query[6]), user_query[3]).head(docs)"
   ]
  },
  {
   "cell_type": "markdown",
   "id": "5c39f046-56f4-49db-8956-4475cd6f288d",
   "metadata": {
    "tags": []
   },
   "source": [
    "# Theoretical question"
   ]
  },
  {
   "cell_type": "code",
   "execution_count": 253,
   "id": "e8892caa-9fa7-4216-89ad-ceb337d896a0",
   "metadata": {},
   "outputs": [],
   "source": [
    "from operator import truediv\n",
    "import time\n",
    "\n",
    "class Student:\n",
    "  name = ''\n",
    "  gradesAverage = 0.0\n",
    "\n",
    "  def __init__(self, fullName, grades):\n",
    "    self.name = fullName\n",
    "    self.gradesAverage = round(sum([int(g) for g in grades])/len(grades),2)\n",
    "\n",
    "def isGreater(a, b):\n",
    "  if(a.gradesAverage>b.gradesAverage):\n",
    "    return True\n",
    "  elif(a.gradesAverage == b.gradesAverage and (a.name<b.name)):\n",
    "    return True\n",
    "  return False\n",
    "\n",
    "with open('ApplicantsInfo.txt') as f:\n",
    "  content = f.read().splitlines()\n",
    "\n",
    "N, M = content[0].split()\n",
    "students = []\n",
    "for line in content[1:]:\n",
    "  grades = []\n",
    "  name, surname, *grades = line.split()\n",
    "  students.append(Student(name +' '+ surname, grades))\n"
   ]
  },
  {
   "cell_type": "markdown",
   "id": "db16c930-95d8-4795-8ff8-da9850fc8b05",
   "metadata": {
    "tags": []
   },
   "source": [
    "## Merge Sort Running Time\n",
    "First of all, let's note that, for a single call, the merge sort algorithm's time is linear up until we are merging the ordered arrays, so up until the merge function.<br>\n",
    "To get the running time of Merge Sort, we have to resolve the recurrence of the merge function. Let's also note that this function does at most $n$ comparison (where $n$ is the sum of the size of the lists to merge) and that we divide the input by $2$ at every call, hence we get: <br>\n",
    "$T(n) = T(n/2) + T(n/2) + n$<br>\n",
    "$T(n/2) = 2T(n/4) + n/2$ so <br>\n",
    "$T(n) = 2[T(n/4) + n/2] + n $<br>\n",
    "$ = 2T(n/4) + 2n$<br>\n",
    "$T(n/4) = 2T(n/8) + n/4$<br>\n",
    "$T(n) = 2^2[T(n/8) +n/4] +2n$<br>\n",
    "$ = 2^2T(n/2^3) + 3n$ <br> \n",
    "So it's easy to see that at the ith call we will get: <br>\n",
    "$T(n) = 2^{i-1}T(n/2^i) +in $<br> \n",
    "Since $T(1) = 1$, in order to resolve this recursion we have to find that i such that $n/2^i = 1$:\n",
    "<br> $n = 2^i$ and $logn = ilog2$ so $logn = i$\n",
    "<br> Finally:<br>\n",
    "$T(n) = 2^{logn} + nlogn = n + nlogn$\n",
    "<br><br>\n",
    "Hence, the running time of mergesort is $O(nlogn)$"
   ]
  },
  {
   "cell_type": "code",
   "execution_count": 64,
   "id": "ffdfa7b3-6c2c-4c09-9308-af960cab1bc2",
   "metadata": {},
   "outputs": [
    {
     "name": "stdout",
     "output_type": "stream",
     "text": [
      "MergeSort start\n",
      "MergeSort end. Time needed 1.5467348098754883\n"
     ]
    }
   ],
   "source": [
    "def mergesort (students, left, right):\n",
    "  if left < right:\n",
    "    center = (left+right)//2\n",
    "    mergesort(students, left, center)\n",
    "    mergesort(students, center+1, right)\n",
    "    return merge(students, left, center, right)\n",
    "\n",
    "def merge(s, left, center, right):\n",
    "  i = left\n",
    "  j = center +1 \n",
    "  out = []\n",
    "  while(i<center+1 and j<right+1):\n",
    "    if(isGreater(s[i],s[j])):\n",
    "      out.append(s[i])\n",
    "      i+=1\n",
    "    else:\n",
    "      out.append(s[j])\n",
    "      j+=1\n",
    "  if(i<center+1):\n",
    "    for k in range(i,center+1):\n",
    "      out.append(s[k])\n",
    "  elif (j<right+1):\n",
    "    for k in range(j, right+1):\n",
    "      out.append(s[k])\n",
    "  for k in range(left, right+1):\n",
    "    s[k] = out[k-left]\n",
    "  return s\n",
    "\n",
    "mergeSortList = students.copy()\n",
    "with open(\"RankingList.txt\", \"w\") as file:\n",
    "  print('MergeSort start')\n",
    "  mergeSortStart = time.time()\n",
    "  for student in mergesort(mergeSortList, 0, int(N)-1):\n",
    "    file.writelines('{} {}\\n'.format(student.name, str(student.gradesAverage)))\n",
    "mergeSortTime = time.time() - mergeSortStart\n",
    "print('MergeSort end. Time needed {}'.format(mergeSortTime))"
   ]
  },
  {
   "cell_type": "markdown",
   "id": "b7362723-c070-41b6-9bcb-ed5bf843a519",
   "metadata": {
    "tags": []
   },
   "source": [
    "## Quick Sort Running Time\n",
    "First of all, we can obviously say that the partition algorithm does n comparison, hence takes O(n) time. Then, to get the overall running time, we have to resolve:<br>\n",
    "$T(n) = T(n_1) + T(n_2) + n $<br> keeping in mind that $n_1+n_2 = n$<br> \n",
    "In the worst case, the array is already sorted and we will have:<br>\n",
    "$T(n) = T(n1 = 0) + T(n2 = n-1) + n$\n",
    "<br> and at the $i^{th}$ recursive call we will get: <br>\n",
    "$T(n) = T(n=n-i) +n + n-1 + n-2 +.... + n-i$\n",
    "<br> Since $T(1=1)$ we will have:\n",
    "<br>$T(n) = T(n-n+1) + n + n-1 + n-2 +... + n-n+1$\n",
    "<br>$T(n) = O(n^2)$\n",
    "<br> The worst case is pretty rare tho, since it's not common to have a already sorted array.\n",
    "<br> In the average case, we will have that everytime the problem is divided into 2 sub-problem of more or less, almost equal size, so the number of sub-problem will not be in the order of $n^2$ anymore, but will be $nlog(n)$. Hence, the average case is $Θ(nlogn)$."
   ]
  },
  {
   "cell_type": "code",
   "execution_count": 66,
   "id": "767df140-f434-4b83-8859-ba9dc71a36d9",
   "metadata": {},
   "outputs": [
    {
     "name": "stdout",
     "output_type": "stream",
     "text": [
      "Quicksort start\n",
      "QuickSort end. Time needed 1.9674758911132812\n"
     ]
    }
   ],
   "source": [
    "def quicksort(s, low, high):\n",
    "  if low >= high:\n",
    "    return\n",
    "  pivotPosition = partition(s, low, high)\n",
    "  quicksort(s,low, pivotPosition-1)\n",
    "  quicksort(s, pivotPosition+1, high)\n",
    "\n",
    "def partition(s, low, high):\n",
    "  pivot = s[high]\n",
    "  left = low\n",
    "  for i in range(low, high):\n",
    "    if isGreater(s[i], pivot):\n",
    "      s[left], s[i] = s[i], s[left]\n",
    "      left+=1\n",
    "  s[left], s[high] = s[high], s[left]\n",
    "  return left\n",
    "    \n",
    "\n",
    "quickSort = students.copy()\n",
    "\n",
    "with open(\"RankingList.txt\", \"w\") as file:\n",
    "  print('Quicksort start')\n",
    "  quickSortStart = time.time()\n",
    "  quicksort(quickSort, 0, int(N)-1)\n",
    "  for student in quickSort:\n",
    "    file.writelines('{} {}\\n'.format(student.name, str(student.gradesAverage)))\n",
    "quickSortTime = time.time() - quickSortStart\n",
    "print('QuickSort end. Time needed {}'.format(quickSortTime))"
   ]
  },
  {
   "cell_type": "markdown",
   "id": "f4d21888-26c4-40e5-8192-ea87703f1113",
   "metadata": {
    "tags": []
   },
   "source": [
    "## BubbleSort Running Time\n",
    "Evaluate BubbleSort's worst-case running time is pretty easy, all we need to do is count the number of iterations that the algorithm does:\n",
    "\n",
    "- The outer cycle is executed $N$ times.\n",
    "- For each iteration of the outer cycle, the inner cycle is executed i times where i = index of the outer cycle. So, the inner cycle will be executed $1, 2, ..., N$ times, hence:\n",
    "<br> $\\sum_{i=1}^{n}i$ = $N(N-1)/2$ = $O(N^2)$ <br>\n",
    "\n",
    "BubbleSort has a running time of $O(N^2)$, so on our instance $N=50 000$, this sorting algorithm will execute $50 000^2$ = $2.5$ billion steps.<br>\n",
    "\n",
    "Finally, let's note that the number of steps is not only $O(N^2)$, but it's also $Θ(N^2)$ because there is not an anticipated exit condition for which the algorithm can terminate its execution early."
   ]
  },
  {
   "cell_type": "code",
   "execution_count": 68,
   "id": "4a05e3bc-9f3b-4a44-b97f-fcfb1bac3244",
   "metadata": {},
   "outputs": [
    {
     "name": "stdout",
     "output_type": "stream",
     "text": [
      "BubbleSort start\n",
      "BubbleSort end. Time needed 1643.098171710968\n"
     ]
    }
   ],
   "source": [
    "def bubbleSort(listOfStudents):\n",
    "  for i in range(0, len(listOfStudents)):\n",
    "    for j in range (0, i):\n",
    "      if(isGreater(listOfStudents[i],listOfStudents[j])):\n",
    "        listOfStudents[i], listOfStudents[j] = listOfStudents[j], listOfStudents[i]\n",
    "  return listOfStudents\n",
    "\n",
    "bubbleSortList = students.copy()\n",
    "with open(\"RankingList.txt\", \"w\") as file:\n",
    "  bubbleSortStartTime = time.time()\n",
    "  print('BubbleSort start')\n",
    "  for student in bubbleSort(bubbleSortList):\n",
    "    file.writelines('{} {}\\n'.format(student.name, str(student.gradesAverage)))\n",
    "bubbleSortTime = time.time() - bubbleSortStartTime\n",
    "print('BubbleSort end. Time needed {}'.format(bubbleSortTime))"
   ]
  },
  {
   "cell_type": "markdown",
   "id": "4e5a9695-48bb-45e0-a130-59bdb0152bcc",
   "metadata": {},
   "source": [
    "### Report"
   ]
  },
  {
   "cell_type": "code",
   "execution_count": 73,
   "id": "ab212ac7-bf2c-4e4d-abff-fca925e1bcad",
   "metadata": {},
   "outputs": [
    {
     "data": {
      "image/png": "[encoded data removed]",
      "text/plain": [
       "<Figure size 640x480 with 1 Axes>"
      ]
     },
     "metadata": {},
     "output_type": "display_data"
    }
   ],
   "source": [
    "import matplotlib.pyplot as plt\n",
    "\n",
    "names = ['BubbleSort', 'MergeSort', 'QuickSort']\n",
    "values = [bubbleSortTime, mergeSortTime*10, quickSortTime*10] ##multiplied by 10 in order to show it in the plot\n",
    "plt.bar(names, values)\n",
    "plt.title('Running Time of Sorting Algorithms')\n",
    "plt.show()"
   ]
  },
  {
   "cell_type": "markdown",
   "id": "57840c58-c7d9-41ee-b4b5-0d74f8dea67e",
   "metadata": {},
   "source": [
    "As you can see from the plot, the difference between an $O(N^2)$ algorithm and an $O(N log N)$ one is noticeable even though we are working on a relatively small instance.\n",
    "Obviously, the worst algorithm is BubbleSort since has a bigger complexity.<br>\n",
    "But which one is the best? As we saw from the running time analysis, MergeSort has the best running time, so I would personally choose Mergesort. But it's really important to note that, in the average case, Quicksort takes $O(N log N)$ and on our instance, it performed very well. <br> My choice of MergeSort is not only based on Time Complexity but also on Space Complexity since in the worst case QuickSort takes $O(N log N)$ space and MergeSort only $O(N)$. That may not seem important in our case, since we have a \"small\" instance, but if instead of 50.000 students, we had 50 million, we would have to think about Space Complexity for sure."
   ]
  },
  {
   "cell_type": "markdown",
   "id": "17fca9a9-ed70-4411-b070-aafb1188b800",
   "metadata": {},
   "source": [
    "## MapReduce"
   ]
  },
  {
   "cell_type": "code",
   "execution_count": 76,
   "id": "1d8bdc32-d483-4c9d-88c2-dfe32c43ece8",
   "metadata": {},
   "outputs": [
    {
     "name": "stdout",
     "output_type": "stream",
     "text": [
      "MapReduce end\n"
     ]
    }
   ],
   "source": [
    "import heapq\n",
    "import collections\n",
    "\n",
    "def mergesort (students, left, right):\n",
    "  if left < right:\n",
    "    center = (left+right)//2\n",
    "    mergesort(students, left, center)\n",
    "    mergesort(students, center+1, right)\n",
    "    return merge(students, left, center, right)\n",
    "\n",
    "def merge(s, left, center, right):\n",
    "  i = left\n",
    "  j = center +1 \n",
    "  out = []\n",
    "  while(i<center+1 and j<right+1):\n",
    "    if(s[i]>s[j]):\n",
    "      out.append(s[i])\n",
    "      i+=1\n",
    "    else:\n",
    "      out.append(s[j])\n",
    "      j+=1\n",
    "  if(i<center+1):\n",
    "    for k in range(i,center+1):\n",
    "      out.append(s[k])\n",
    "  elif (j<right+1):\n",
    "    for k in range(j, right+1):\n",
    "      out.append(s[k])\n",
    "  for k in range(left, right+1):\n",
    "    s[k] = out[k-left]\n",
    "  return s\n",
    "\n",
    "with open('ApplicantsInfo.txt') as f:\n",
    "  content = f.read().splitlines()\n",
    "\n",
    "##MAP\n",
    "N, M = content[0].split()\n",
    "studentDict = {}\n",
    "studentList = []\n",
    "for line in content[1:]:\n",
    "  grades = []\n",
    "  name, surname, *grades = line.split()\n",
    "  fullName = name + ' ' + surname\n",
    "  studentList.append(Student(fullName, grades))\n",
    "\n",
    "##REDUCE\n",
    "for singleStudent in studentList:\n",
    "  try:\n",
    "    heapq.heappush(studentDict[singleStudent.gradesAverage], singleStudent.name)\n",
    "  except Exception as e:\n",
    "    studentDict[singleStudent.gradesAverage] = [singleStudent.name]\n",
    "    heapq.heapify(studentDict[singleStudent.gradesAverage])\n",
    "\n",
    "#SHUFFLE\n",
    "keyList = list(studentDict.keys()).copy()\n",
    "keyList = mergesort(keyList, 0, len(studentDict.keys())-1)\n",
    "\n",
    "with open(\"MapReduceRankingList.txt\", \"w\") as file:\n",
    "  for key in keyList:\n",
    "    while(studentDict[key]):\n",
    "      file.writelines('{} {}\\n'.format(heapq.heappop(studentDict[key]), str(key)))\n",
    "print('MapReduce end')"
   ]
  },
  {
   "cell_type": "markdown",
   "id": "88b34db8-fa7d-451b-bad0-989c8282cc3c",
   "metadata": {},
   "source": [
    "The code above is, of course, just a fake MapReduce, but if we run it on a MapReduce framework like Hadoop, we would've seen something like this:\n",
    "\n",
    "- the map function would've been computed by N clusters, and periodically, the input read and mapped, would've been passed to the reduce function.\n",
    "- the reduce function, in the same way, would've been executed among M clusters and, similarly to the previous one, it would've passed its output to the shuffle function.<br>\n",
    "\n",
    "In this way, the \"big\" amount of data that we are dealing with, would've been computed parallelly in a distributed architecture and the computational time would've been reduced: not because this algorithm is faster than the previous ones, but because it's running on multiple clusters."
   ]
  }
 ],
 "metadata": {
  "kernelspec": {
   "display_name": "Python 3 (ipykernel)",
   "language": "python",
   "name": "python3"
  },
  "language_info": {
   "codemirror_mode": {
    "name": "ipython",
    "version": 3
   },
   "file_extension": ".py",
   "mimetype": "text/x-python",
   "name": "python",
   "nbconvert_exporter": "python",
   "pygments_lexer": "ipython3",
   "version": "3.10.2"
  }
 },
 "nbformat": 4,
 "nbformat_minor": 5
}
